{
 "cells": [
  {
   "cell_type": "code",
   "execution_count": 3,
   "metadata": {},
   "outputs": [],
   "source": [
    "a=1"
   ]
  },
  {
   "cell_type": "code",
   "execution_count": 4,
   "metadata": {},
   "outputs": [
    {
     "name": "stdout",
     "output_type": "stream",
     "text": [
      "1\n"
     ]
    }
   ],
   "source": [
    "print (a)"
   ]
  },
  {
   "cell_type": "code",
   "execution_count": 9,
   "metadata": {},
   "outputs": [
    {
     "data": {
      "text/plain": [
       "Text(0, 0.5, 'y')"
      ]
     },
     "execution_count": 9,
     "metadata": {},
     "output_type": "execute_result"
    },
    {
     "data": {
      "image/png": "[encoded data removed]",
      "text/plain": [
       "<Figure size 432x288 with 1 Axes>"
      ]
     },
     "metadata": {
      "needs_background": "light"
     },
     "output_type": "display_data"
    }
   ],
   "source": [
    "%matplotlib inline\n",
    "import matplotlib.pyplot as plt\n",
    "plt.plot([1,2,3],[4,5,6])\n",
    "plt.xlabel(\"x\")\n",
    "plt.ylabel(\"y\")\n",
    "# plt.savefig('tmp-plot.png')"
   ]
  },
  {
   "cell_type": "markdown",
   "metadata": {},
   "source": [
    "This is a title\n",
    "===============\n",
    "\n",
    "This is a sub-title\n",
    "-------------------\n",
    "$\\Delta x$"
   ]
  },
  {
   "cell_type": "markdown",
   "metadata": {},
   "source": [
    "Exercise 1\n",
    "========"
   ]
  },
  {
   "cell_type": "code",
   "execution_count": 14,
   "metadata": {},
   "outputs": [
    {
     "name": "stdout",
     "output_type": "stream",
     "text": [
      "64 13.559999999999999 (1+0j)\n"
     ]
    }
   ],
   "source": [
    "n1 = 4**3\n",
    "n2 = 2 + 3.4**2\n",
    "n3 = complex(1)**2\n",
    "print (n1,n2,n3)"
   ]
  },
  {
   "cell_type": "code",
   "execution_count": 15,
   "metadata": {},
   "outputs": [],
   "source": [
    "s = \"Spam egg spam spam\""
   ]
  },
  {
   "cell_type": "code",
   "execution_count": 16,
   "metadata": {},
   "outputs": [
    {
     "data": {
      "text/plain": [
       "'m'"
      ]
     },
     "execution_count": 16,
     "metadata": {},
     "output_type": "execute_result"
    }
   ],
   "source": [
    "s[3]"
   ]
  },
  {
   "cell_type": "code",
   "execution_count": 17,
   "metadata": {},
   "outputs": [
    {
     "data": {
      "text/plain": [
       "'SPAM EGG SPAM SPAM'"
      ]
     },
     "execution_count": 17,
     "metadata": {},
     "output_type": "execute_result"
    }
   ],
   "source": [
    "s.upper()"
   ]
  },
  {
   "cell_type": "code",
   "execution_count": 18,
   "metadata": {},
   "outputs": [
    {
     "data": {
      "text/plain": [
       "'spam egg spam spam'"
      ]
     },
     "execution_count": 18,
     "metadata": {},
     "output_type": "execute_result"
    }
   ],
   "source": [
    "s.lower()"
   ]
  },
  {
   "cell_type": "code",
   "execution_count": 19,
   "metadata": {},
   "outputs": [
    {
     "data": {
      "text/plain": [
       "5"
      ]
     },
     "execution_count": 19,
     "metadata": {},
     "output_type": "execute_result"
    }
   ],
   "source": [
    "s.index('egg')"
   ]
  },
  {
   "cell_type": "code",
   "execution_count": 20,
   "metadata": {},
   "outputs": [
    {
     "data": {
      "text/plain": [
       "['Spam', 'egg', 'spam', 'spam']"
      ]
     },
     "execution_count": 20,
     "metadata": {},
     "output_type": "execute_result"
    }
   ],
   "source": [
    "s.split()"
   ]
  },
  {
   "cell_type": "code",
   "execution_count": 21,
   "metadata": {},
   "outputs": [],
   "source": [
    "li = [4, 5.5, \"spam\"]"
   ]
  },
  {
   "cell_type": "code",
   "execution_count": 23,
   "metadata": {},
   "outputs": [
    {
     "data": {
      "text/plain": [
       "[4, 5.5, 'spam', -2]"
      ]
     },
     "execution_count": 23,
     "metadata": {},
     "output_type": "execute_result"
    }
   ],
   "source": [
    "li.append(-2)\n",
    "\n",
    "li"
   ]
  },
  {
   "cell_type": "code",
   "execution_count": 26,
   "metadata": {},
   "outputs": [
    {
     "data": {
      "text/plain": [
       "[4, 5.5, 'spam', 9, 9, -2]"
      ]
     },
     "execution_count": 26,
     "metadata": {},
     "output_type": "execute_result"
    }
   ],
   "source": [
    "li.insert(3,9)\n",
    "\n",
    "li"
   ]
  },
  {
   "cell_type": "markdown",
   "metadata": {},
   "source": [
    "Exercise 2\n",
    "===="
   ]
  },
  {
   "cell_type": "code",
   "execution_count": 27,
   "metadata": {},
   "outputs": [],
   "source": [
    "a = \"Hello, egg world!\""
   ]
  },
  {
   "cell_type": "code",
   "execution_count": 34,
   "metadata": {},
   "outputs": [
    {
     "name": "stdout",
     "output_type": "stream",
     "text": [
      "Hello, world!\n"
     ]
    }
   ],
   "source": [
    "an = a.split()[0]+' '+a.split()[2]\n",
    "print (an)"
   ]
  },
  {
   "cell_type": "code",
   "execution_count": 35,
   "metadata": {},
   "outputs": [],
   "source": [
    "li = [3, 1, 2, 1]"
   ]
  },
  {
   "cell_type": "code",
   "execution_count": 37,
   "metadata": {},
   "outputs": [],
   "source": [
    "li.clear?"
   ]
  },
  {
   "cell_type": "markdown",
   "metadata": {},
   "source": [
    "Exercise 3\n",
    "===="
   ]
  },
  {
   "cell_type": "code",
   "execution_count": 38,
   "metadata": {},
   "outputs": [
    {
     "data": {
      "text/plain": [
       "8"
      ]
     },
     "execution_count": 38,
     "metadata": {},
     "output_type": "execute_result"
    }
   ],
   "source": [
    "s = \"CAGTACCAAGTGAAAGAT\"\n",
    "s.count('A')"
   ]
  },
  {
   "cell_type": "code",
   "execution_count": 39,
   "metadata": {},
   "outputs": [],
   "source": [
    "s.count?"
   ]
  },
  {
   "cell_type": "code",
   "execution_count": 40,
   "metadata": {},
   "outputs": [],
   "source": [
    "a = [1, 2, 3]\n",
    "b = [4, 5, 6]"
   ]
  },
  {
   "cell_type": "code",
   "execution_count": 54,
   "metadata": {},
   "outputs": [
    {
     "name": "stdout",
     "output_type": "stream",
     "text": [
      "[1, 2, 3, 4, 5, 6]\n"
     ]
    }
   ],
   "source": [
    "c = a.copy()+b.copy()\n",
    "print (c)"
   ]
  },
  {
   "cell_type": "code",
   "execution_count": 59,
   "metadata": {},
   "outputs": [
    {
     "data": {
      "text/plain": [
       "array([15., 16.])"
      ]
     },
     "execution_count": 59,
     "metadata": {},
     "output_type": "execute_result"
    }
   ],
   "source": [
    "import numpy as np\n",
    "np.round([15.4,15.5])"
   ]
  },
  {
   "cell_type": "markdown",
   "metadata": {},
   "source": [
    "Booleans, Tuples & Dict.\n",
    "=====\n",
    "Exercise 1\n",
    "----------"
   ]
  },
  {
   "cell_type": "code",
   "execution_count": 1,
   "metadata": {},
   "outputs": [
    {
     "data": {
      "text/plain": [
       "True"
      ]
     },
     "execution_count": 1,
     "metadata": {},
     "output_type": "execute_result"
    }
   ],
   "source": [
    "x = 3.7\n",
    "x>3.4 and x<= 6.6 or x==2"
   ]
  },
  {
   "cell_type": "code",
   "execution_count": 4,
   "metadata": {},
   "outputs": [],
   "source": [
    "t = (1,2,3,'tmp')"
   ]
  },
  {
   "cell_type": "code",
   "execution_count": 5,
   "metadata": {},
   "outputs": [
    {
     "data": {
      "text/plain": [
       "'tmp'"
      ]
     },
     "execution_count": 5,
     "metadata": {},
     "output_type": "execute_result"
    }
   ],
   "source": [
    "t[-1]"
   ]
  },
  {
   "cell_type": "code",
   "execution_count": 6,
   "metadata": {},
   "outputs": [
    {
     "data": {
      "text/plain": [
       "1"
      ]
     },
     "execution_count": 6,
     "metadata": {},
     "output_type": "execute_result"
    }
   ],
   "source": [
    "d = {'a':1,'b':55,'c':12}\n",
    "d['a']"
   ]
  },
  {
   "cell_type": "code",
   "execution_count": 7,
   "metadata": {},
   "outputs": [
    {
     "data": {
      "text/plain": [
       "{'a': 1, 'b': 55, 'c': 12, 'r': 90}"
      ]
     },
     "execution_count": 7,
     "metadata": {},
     "output_type": "execute_result"
    }
   ],
   "source": [
    "d['r'] =90\n",
    "d"
   ]
  },
  {
   "cell_type": "code",
   "execution_count": 8,
   "metadata": {},
   "outputs": [
    {
     "name": "stdout",
     "output_type": "stream",
     "text": [
      "{'a-string': 3.3, 3445: 2.2, (2+1j): 'value'}\n"
     ]
    }
   ],
   "source": [
    "e={}\n",
    "e['a-string']=3.3\n",
    "e[3445] = 2.2\n",
    "e[complex(2,1)]='value'\n",
    "print (e)"
   ]
  },
  {
   "cell_type": "code",
   "execution_count": 9,
   "metadata": {},
   "outputs": [
    {
     "data": {
      "text/plain": [
       "True"
      ]
     },
     "execution_count": 9,
     "metadata": {},
     "output_type": "execute_result"
    }
   ],
   "source": [
    "'b' in d"
   ]
  },
  {
   "cell_type": "markdown",
   "metadata": {},
   "source": [
    "Exercise 2\n",
    "---------"
   ]
  },
  {
   "cell_type": "code",
   "execution_count": 15,
   "metadata": {},
   "outputs": [
    {
     "data": {
      "text/plain": [
       "'Ich bin studente'"
      ]
     },
     "execution_count": 15,
     "metadata": {},
     "output_type": "execute_result"
    }
   ],
   "source": [
    "dg = {'I':'Ich', 'am':'bin', 'student':'studente'}\n",
    "dg['I']+' '+dg['am']+' '+dg['student']"
   ]
  },
  {
   "cell_type": "markdown",
   "metadata": {},
   "source": [
    "Control flow\n",
    "========="
   ]
  },
  {
   "cell_type": "markdown",
   "metadata": {},
   "source": [
    "Exercise 1&2\n",
    "-------"
   ]
  },
  {
   "cell_type": "code",
   "execution_count": 23,
   "metadata": {},
   "outputs": [
    {
     "name": "stdout",
     "output_type": "stream",
     "text": [
      "0  is prime\n",
      "1  is prime\n",
      "2  is prime\n",
      "3  is prime\n",
      "5  is prime\n",
      "7  is prime\n",
      "11  is prime\n",
      "13  is prime\n",
      "17  is prime\n",
      "19  is prime\n",
      "23  is prime\n",
      "29  is prime\n",
      "31  is prime\n",
      "37  is prime\n",
      "41  is prime\n",
      "43  is prime\n",
      "47  is prime\n",
      "53  is prime\n",
      "59  is prime\n",
      "61  is prime\n",
      "67  is prime\n",
      "71  is prime\n",
      "73  is prime\n",
      "79  is prime\n",
      "83  is prime\n",
      "89  is prime\n",
      "97  is prime\n",
      "101  is prime\n",
      "103  is prime\n",
      "107  is prime\n",
      "109  is prime\n",
      "113  is prime\n",
      "127  is prime\n",
      "131  is prime\n",
      "137  is prime\n",
      "139  is prime\n",
      "149  is prime\n",
      "151  is prime\n",
      "157  is prime\n",
      "163  is prime\n",
      "167  is prime\n",
      "173  is prime\n",
      "179  is prime\n",
      "181  is prime\n",
      "191  is prime\n",
      "193  is prime\n",
      "197  is prime\n",
      "199  is prime\n",
      "211  is prime\n",
      "223  is prime\n",
      "227  is prime\n",
      "229  is prime\n",
      "233  is prime\n",
      "239  is prime\n",
      "241  is prime\n",
      "251  is prime\n",
      "257  is prime\n",
      "263  is prime\n",
      "269  is prime\n",
      "271  is prime\n",
      "277  is prime\n",
      "281  is prime\n",
      "283  is prime\n",
      "293  is prime\n",
      "307  is prime\n",
      "311  is prime\n",
      "313  is prime\n",
      "317  is prime\n",
      "331  is prime\n",
      "337  is prime\n",
      "347  is prime\n",
      "349  is prime\n",
      "353  is prime\n",
      "359  is prime\n",
      "367  is prime\n",
      "373  is prime\n",
      "379  is prime\n",
      "383  is prime\n",
      "389  is prime\n",
      "397  is prime\n",
      "401  is prime\n",
      "409  is prime\n",
      "419  is prime\n",
      "421  is prime\n",
      "431  is prime\n",
      "433  is prime\n",
      "439  is prime\n",
      "443  is prime\n",
      "449  is prime\n",
      "457  is prime\n",
      "461  is prime\n",
      "463  is prime\n",
      "467  is prime\n",
      "479  is prime\n",
      "487  is prime\n",
      "491  is prime\n",
      "499  is prime\n",
      "503  is prime\n",
      "509  is prime\n",
      "521  is prime\n",
      "523  is prime\n",
      "541  is prime\n",
      "547  is prime\n",
      "557  is prime\n",
      "563  is prime\n",
      "569  is prime\n",
      "571  is prime\n",
      "577  is prime\n",
      "587  is prime\n",
      "593  is prime\n",
      "599  is prime\n",
      "601  is prime\n",
      "607  is prime\n",
      "613  is prime\n",
      "617  is prime\n",
      "619  is prime\n",
      "631  is prime\n",
      "641  is prime\n",
      "643  is prime\n",
      "647  is prime\n",
      "653  is prime\n",
      "659  is prime\n",
      "661  is prime\n",
      "673  is prime\n",
      "677  is prime\n",
      "683  is prime\n",
      "691  is prime\n",
      "701  is prime\n",
      "709  is prime\n",
      "719  is prime\n",
      "727  is prime\n",
      "733  is prime\n",
      "739  is prime\n",
      "743  is prime\n",
      "751  is prime\n",
      "757  is prime\n",
      "761  is prime\n",
      "769  is prime\n",
      "773  is prime\n",
      "787  is prime\n",
      "797  is prime\n",
      "809  is prime\n",
      "811  is prime\n",
      "821  is prime\n",
      "823  is prime\n",
      "827  is prime\n",
      "829  is prime\n",
      "839  is prime\n",
      "853  is prime\n",
      "857  is prime\n",
      "859  is prime\n",
      "863  is prime\n",
      "877  is prime\n",
      "881  is prime\n",
      "883  is prime\n",
      "887  is prime\n",
      "907  is prime\n",
      "911  is prime\n",
      "919  is prime\n",
      "929  is prime\n",
      "937  is prime\n",
      "941  is prime\n",
      "947  is prime\n",
      "953  is prime\n",
      "967  is prime\n",
      "971  is prime\n",
      "977  is prime\n",
      "983  is prime\n",
      "991  is prime\n",
      "997  is prime\n"
     ]
    }
   ],
   "source": [
    "for i in range(1000):\n",
    "    for j in range(2,i):\n",
    "        if i%j==0:\n",
    "            break\n",
    "    else:\n",
    "        print (i,' is prime')"
   ]
  },
  {
   "cell_type": "code",
   "execution_count": 1,
   "metadata": {},
   "outputs": [
    {
     "name": "stdout",
     "output_type": "stream",
     "text": [
      "0\n",
      "1\n",
      "3\n",
      "5\n",
      "6\n",
      "7\n"
     ]
    }
   ],
   "source": [
    "for i in range(8):\n",
    "    if i==2 or i==4:\n",
    "        continue\n",
    "    print (i)"
   ]
  },
  {
   "cell_type": "markdown",
   "metadata": {},
   "source": [
    "Exercise 3\n",
    "----------"
   ]
  },
  {
   "cell_type": "code",
   "execution_count": 16,
   "metadata": {},
   "outputs": [
    {
     "name": "stdout",
     "output_type": "stream",
     "text": [
      "[0, 1, 1, 2, 3, 5, 8, 13, 21, 34, 55, 89, 144, 233, 377, 610, 987, 1597, 2584, 4181, 6765, 10946, 17711, 28657, 46368, 75025]\n"
     ]
    }
   ],
   "source": [
    "i=0\n",
    "f = [0,1]\n",
    "while (f[-1]+f[-2])<100000:\n",
    "    f.append(f[-2]+f[-1])\n",
    "    i+=1\n",
    "print (f)"
   ]
  },
  {
   "cell_type": "code",
   "execution_count": 17,
   "metadata": {},
   "outputs": [
    {
     "name": "stdout",
     "output_type": "stream",
     "text": [
      "[1]\n"
     ]
    }
   ],
   "source": [
    "fn = []\n",
    "i=0\n",
    "for n1 in f:\n",
    "    #print (n1)\n",
    "    for n2 in f[i+1:]:\n",
    "        if n1**2==n2:\n",
    "            fn.append(n1)\n",
    "    i+=1\n",
    "\n",
    "print (fn)"
   ]
  },
  {
   "cell_type": "markdown",
   "metadata": {},
   "source": [
    "Practice problem \"caesar cipher\"\n",
    "---------------"
   ]
  },
  {
   "cell_type": "markdown",
   "metadata": {},
   "source": [
    "Way 1\n",
    "-------"
   ]
  },
  {
   "cell_type": "code",
   "execution_count": 1,
   "metadata": {},
   "outputs": [],
   "source": [
    "def caesar_meth(string,shift):\n",
    "    nstring = ''\n",
    "    #chk for spaces\n",
    "    for let in string:\n",
    "        if let == ' ':\n",
    "            nlet = ' '\n",
    "        else:\n",
    "            let2a = ord(let)+shift\n",
    "            #check for ascii ordergin out of bounds\n",
    "            if let2a > ord('z'):\n",
    "                let2a-=26\n",
    "            elif let2a < ord('a'):\n",
    "                let2a+=26\n",
    "            nlet = chr(let2a)\n",
    "\n",
    "        nstring += nlet\n",
    "\n",
    "    return nstring"
   ]
  },
  {
   "cell_type": "code",
   "execution_count": 8,
   "metadata": {},
   "outputs": [
    {
     "name": "stdout",
     "output_type": "stream",
     "text": [
      "congratulations you have succeeded in decrypting the string\n"
     ]
    }
   ],
   "source": [
    "print(caesar_meth(\"pbatenghyngvbaf lbh unir fhpprrqrq va qrpelcgvat gur fgevat\", -13))"
   ]
  },
  {
   "cell_type": "code",
   "execution_count": 10,
   "metadata": {},
   "outputs": [
    {
     "name": "stdout",
     "output_type": "stream",
     "text": [
      "0 gwc uivioml bw nqvl bpm zqopb apqnb\n",
      "1 fvb thuhnlk av mpuk aol ypnoa zopma\n",
      "2 eua sgtgmkj zu lotj znk xomnz ynolz\n",
      "3 dtz rfsflji yt knsi ymj wnlmy xmnky\n",
      "4 csy qerekih xs jmrh xli vmklx wlmjx\n",
      "5 brx pdqdjhg wr ilqg wkh uljkw vkliw\n",
      "6 aqw ocpcigf vq hkpf vjg tkijv ujkhv\n",
      "7 zpv nbobhfe up gjoe uif sjhiu tijgu\n",
      "8 you managed to find the right shift\n",
      "9 xnt lzmzfdc sn ehmc sgd qhfgs rghes\n",
      "10 wms kylyecb rm dglb rfc pgefr qfgdr\n",
      "11 vlr jxkxdba ql cfka qeb ofdeq pefcq\n",
      "12 ukq iwjwcaz pk bejz pda necdp odebp\n",
      "13 tjp hvivbzy oj adiy ocz mdbco ncdao\n",
      "14 sio guhuayx ni zchx nby lcabn mbczn\n",
      "15 rhn ftgtzxw mh ybgw max kbzam labym\n",
      "16 qgm esfsywv lg xafv lzw jayzl kzaxl\n",
      "17 pfl drerxvu kf wzeu kyv izxyk jyzwk\n",
      "18 oek cqdqwut je vydt jxu hywxj ixyvj\n",
      "19 ndj bpcpvts id uxcs iwt gxvwi hwxui\n",
      "20 mci aobousr hc twbr hvs fwuvh gvwth\n",
      "21 lbh znantrq gb svaq gur evtug fuvsg\n",
      "22 kag ymzmsqp fa ruzp ftq dustf eturf\n",
      "23 jzf xlylrpo ez qtyo esp ctrse dstqe\n",
      "24 iye wkxkqon dy psxn dro bsqrd crspd\n",
      "25 hxd vjwjpnm cx orwm cqn arpqc bqroc\n"
     ]
    }
   ],
   "source": [
    "for shift in range(26):\n",
    "    print(shift, caesar_meth(\"gwc uivioml bw nqvl bpm zqopb apqnb\", -shift))"
   ]
  },
  {
   "cell_type": "markdown",
   "metadata": {},
   "source": [
    "Way 2\n",
    "----------"
   ]
  },
  {
   "cell_type": "code",
   "execution_count": 66,
   "metadata": {},
   "outputs": [
    {
     "data": {
      "text/plain": [
       "'abcdefghijklmnopqrstuvwxyz'"
      ]
     },
     "execution_count": 66,
     "metadata": {},
     "output_type": "execute_result"
    }
   ],
   "source": [
    "import string\n",
    "p=string.ascii_lowercase\n",
    "p"
   ]
  },
  {
   "cell_type": "code",
   "execution_count": 25,
   "metadata": {},
   "outputs": [],
   "source": [
    "em = 'pbatenghyngvbaf lbh unir fhpprrqrq va qrpelcgvat gur fgevat'"
   ]
  },
  {
   "cell_type": "code",
   "execution_count": 64,
   "metadata": {
    "scrolled": true
   },
   "outputs": [
    {
     "data": {
      "text/plain": [
       "'congratulations you have succeeded in decrypting the string'"
      ]
     },
     "execution_count": 64,
     "metadata": {},
     "output_type": "execute_result"
    }
   ],
   "source": [
    "c = ''\n",
    "for i in em:\n",
    "    if i!=' ':\n",
    "        c += p[p.find(i)-13]\n",
    "    else:\n",
    "        c+= ' '\n",
    "\n",
    "c"
   ]
  },
  {
   "cell_type": "code",
   "execution_count": 74,
   "metadata": {},
   "outputs": [
    {
     "data": {
      "text/plain": [
       "'0gwc uivioml bw nqvl bpm zqopb apqnb1gwc uivioml bw nqvl bpm zqopb apqnbfvb thuhnlk av mpuk aol ypnoa zopma2gwc uivioml bw nqvl bpm zqopb apqnbfvb thuhnlk av mpuk aol ypnoa zopmaeua sgtgmkj zu lotj znk xomnz ynolz3gwc uivioml bw nqvl bpm zqopb apqnbfvb thuhnlk av mpuk aol ypnoa zopmaeua sgtgmkj zu lotj znk xomnz ynolzdtz rfsflji yt knsi ymj wnlmy xmnky4gwc uivioml bw nqvl bpm zqopb apqnbfvb thuhnlk av mpuk aol ypnoa zopmaeua sgtgmkj zu lotj znk xomnz ynolzdtz rfsflji yt knsi ymj wnlmy xmnkycsy qerekih xs jmrh xli vmklx wlmjx5gwc uivioml bw nqvl bpm zqopb apqnbfvb thuhnlk av mpuk aol ypnoa zopmaeua sgtgmkj zu lotj znk xomnz ynolzdtz rfsflji yt knsi ymj wnlmy xmnkycsy qerekih xs jmrh xli vmklx wlmjxbrx pdqdjhg wr ilqg wkh uljkw vkliw6gwc uivioml bw nqvl bpm zqopb apqnbfvb thuhnlk av mpuk aol ypnoa zopmaeua sgtgmkj zu lotj znk xomnz ynolzdtz rfsflji yt knsi ymj wnlmy xmnkycsy qerekih xs jmrh xli vmklx wlmjxbrx pdqdjhg wr ilqg wkh uljkw vkliwaqw ocpcigf vq hkpf vjg tkijv ujkhv7gwc uivioml bw nqvl bpm zqopb apqnbfvb thuhnlk av mpuk aol ypnoa zopmaeua sgtgmkj zu lotj znk xomnz ynolzdtz rfsflji yt knsi ymj wnlmy xmnkycsy qerekih xs jmrh xli vmklx wlmjxbrx pdqdjhg wr ilqg wkh uljkw vkliwaqw ocpcigf vq hkpf vjg tkijv ujkhvzpv nbobhfe up gjoe uif sjhiu tijgu8gwc uivioml bw nqvl bpm zqopb apqnbfvb thuhnlk av mpuk aol ypnoa zopmaeua sgtgmkj zu lotj znk xomnz ynolzdtz rfsflji yt knsi ymj wnlmy xmnkycsy qerekih xs jmrh xli vmklx wlmjxbrx pdqdjhg wr ilqg wkh uljkw vkliwaqw ocpcigf vq hkpf vjg tkijv ujkhvzpv nbobhfe up gjoe uif sjhiu tijguyou managed to find the right shift9gwc uivioml bw nqvl bpm zqopb apqnbfvb thuhnlk av mpuk aol ypnoa zopmaeua sgtgmkj zu lotj znk xomnz ynolzdtz rfsflji yt knsi ymj wnlmy xmnkycsy qerekih xs jmrh xli vmklx wlmjxbrx pdqdjhg wr ilqg wkh uljkw vkliwaqw ocpcigf vq hkpf vjg tkijv ujkhvzpv nbobhfe up gjoe uif sjhiu tijguyou managed to find the right shiftxnt lzmzfdc sn ehmc sgd qhfgs rghes10gwc uivioml bw nqvl bpm zqopb apqnbfvb thuhnlk av mpuk aol ypnoa zopmaeua sgtgmkj zu lotj znk xomnz ynolzdtz rfsflji yt knsi ymj wnlmy xmnkycsy qerekih xs jmrh xli vmklx wlmjxbrx pdqdjhg wr ilqg wkh uljkw vkliwaqw ocpcigf vq hkpf vjg tkijv ujkhvzpv nbobhfe up gjoe uif sjhiu tijguyou managed to find the right shiftxnt lzmzfdc sn ehmc sgd qhfgs rgheswms kylyecb rm dglb rfc pgefr qfgdr11gwc uivioml bw nqvl bpm zqopb apqnbfvb thuhnlk av mpuk aol ypnoa zopmaeua sgtgmkj zu lotj znk xomnz ynolzdtz rfsflji yt knsi ymj wnlmy xmnkycsy qerekih xs jmrh xli vmklx wlmjxbrx pdqdjhg wr ilqg wkh uljkw vkliwaqw ocpcigf vq hkpf vjg tkijv ujkhvzpv nbobhfe up gjoe uif sjhiu tijguyou managed to find the right shiftxnt lzmzfdc sn ehmc sgd qhfgs rgheswms kylyecb rm dglb rfc pgefr qfgdrvlr jxkxdba ql cfka qeb ofdeq pefcq12gwc uivioml bw nqvl bpm zqopb apqnbfvb thuhnlk av mpuk aol ypnoa zopmaeua sgtgmkj zu lotj znk xomnz ynolzdtz rfsflji yt knsi ymj wnlmy xmnkycsy qerekih xs jmrh xli vmklx wlmjxbrx pdqdjhg wr ilqg wkh uljkw vkliwaqw ocpcigf vq hkpf vjg tkijv ujkhvzpv nbobhfe up gjoe uif sjhiu tijguyou managed to find the right shiftxnt lzmzfdc sn ehmc sgd qhfgs rgheswms kylyecb rm dglb rfc pgefr qfgdrvlr jxkxdba ql cfka qeb ofdeq pefcqukq iwjwcaz pk bejz pda necdp odebp13gwc uivioml bw nqvl bpm zqopb apqnbfvb thuhnlk av mpuk aol ypnoa zopmaeua sgtgmkj zu lotj znk xomnz ynolzdtz rfsflji yt knsi ymj wnlmy xmnkycsy qerekih xs jmrh xli vmklx wlmjxbrx pdqdjhg wr ilqg wkh uljkw vkliwaqw ocpcigf vq hkpf vjg tkijv ujkhvzpv nbobhfe up gjoe uif sjhiu tijguyou managed to find the right shiftxnt lzmzfdc sn ehmc sgd qhfgs rgheswms kylyecb rm dglb rfc pgefr qfgdrvlr jxkxdba ql cfka qeb ofdeq pefcqukq iwjwcaz pk bejz pda necdp odebptjp hvivbzy oj adiy ocz mdbco ncdao14gwc uivioml bw nqvl bpm zqopb apqnbfvb thuhnlk av mpuk aol ypnoa zopmaeua sgtgmkj zu lotj znk xomnz ynolzdtz rfsflji yt knsi ymj wnlmy xmnkycsy qerekih xs jmrh xli vmklx wlmjxbrx pdqdjhg wr ilqg wkh uljkw vkliwaqw ocpcigf vq hkpf vjg tkijv ujkhvzpv nbobhfe up gjoe uif sjhiu tijguyou managed to find the right shiftxnt lzmzfdc sn ehmc sgd qhfgs rgheswms kylyecb rm dglb rfc pgefr qfgdrvlr jxkxdba ql cfka qeb ofdeq pefcqukq iwjwcaz pk bejz pda necdp odebptjp hvivbzy oj adiy ocz mdbco ncdaosio guhuayx ni zchx nby lcabn mbczn15gwc uivioml bw nqvl bpm zqopb apqnbfvb thuhnlk av mpuk aol ypnoa zopmaeua sgtgmkj zu lotj znk xomnz ynolzdtz rfsflji yt knsi ymj wnlmy xmnkycsy qerekih xs jmrh xli vmklx wlmjxbrx pdqdjhg wr ilqg wkh uljkw vkliwaqw ocpcigf vq hkpf vjg tkijv ujkhvzpv nbobhfe up gjoe uif sjhiu tijguyou managed to find the right shiftxnt lzmzfdc sn ehmc sgd qhfgs rgheswms kylyecb rm dglb rfc pgefr qfgdrvlr jxkxdba ql cfka qeb ofdeq pefcqukq iwjwcaz pk bejz pda necdp odebptjp hvivbzy oj adiy ocz mdbco ncdaosio guhuayx ni zchx nby lcabn mbcznrhn ftgtzxw mh ybgw max kbzam labym16gwc uivioml bw nqvl bpm zqopb apqnbfvb thuhnlk av mpuk aol ypnoa zopmaeua sgtgmkj zu lotj znk xomnz ynolzdtz rfsflji yt knsi ymj wnlmy xmnkycsy qerekih xs jmrh xli vmklx wlmjxbrx pdqdjhg wr ilqg wkh uljkw vkliwaqw ocpcigf vq hkpf vjg tkijv ujkhvzpv nbobhfe up gjoe uif sjhiu tijguyou managed to find the right shiftxnt lzmzfdc sn ehmc sgd qhfgs rgheswms kylyecb rm dglb rfc pgefr qfgdrvlr jxkxdba ql cfka qeb ofdeq pefcqukq iwjwcaz pk bejz pda necdp odebptjp hvivbzy oj adiy ocz mdbco ncdaosio guhuayx ni zchx nby lcabn mbcznrhn ftgtzxw mh ybgw max kbzam labymqgm esfsywv lg xafv lzw jayzl kzaxl17gwc uivioml bw nqvl bpm zqopb apqnbfvb thuhnlk av mpuk aol ypnoa zopmaeua sgtgmkj zu lotj znk xomnz ynolzdtz rfsflji yt knsi ymj wnlmy xmnkycsy qerekih xs jmrh xli vmklx wlmjxbrx pdqdjhg wr ilqg wkh uljkw vkliwaqw ocpcigf vq hkpf vjg tkijv ujkhvzpv nbobhfe up gjoe uif sjhiu tijguyou managed to find the right shiftxnt lzmzfdc sn ehmc sgd qhfgs rgheswms kylyecb rm dglb rfc pgefr qfgdrvlr jxkxdba ql cfka qeb ofdeq pefcqukq iwjwcaz pk bejz pda necdp odebptjp hvivbzy oj adiy ocz mdbco ncdaosio guhuayx ni zchx nby lcabn mbcznrhn ftgtzxw mh ybgw max kbzam labymqgm esfsywv lg xafv lzw jayzl kzaxlpfl drerxvu kf wzeu kyv izxyk jyzwk18gwc uivioml bw nqvl bpm zqopb apqnbfvb thuhnlk av mpuk aol ypnoa zopmaeua sgtgmkj zu lotj znk xomnz ynolzdtz rfsflji yt knsi ymj wnlmy xmnkycsy qerekih xs jmrh xli vmklx wlmjxbrx pdqdjhg wr ilqg wkh uljkw vkliwaqw ocpcigf vq hkpf vjg tkijv ujkhvzpv nbobhfe up gjoe uif sjhiu tijguyou managed to find the right shiftxnt lzmzfdc sn ehmc sgd qhfgs rgheswms kylyecb rm dglb rfc pgefr qfgdrvlr jxkxdba ql cfka qeb ofdeq pefcqukq iwjwcaz pk bejz pda necdp odebptjp hvivbzy oj adiy ocz mdbco ncdaosio guhuayx ni zchx nby lcabn mbcznrhn ftgtzxw mh ybgw max kbzam labymqgm esfsywv lg xafv lzw jayzl kzaxlpfl drerxvu kf wzeu kyv izxyk jyzwkoek cqdqwut je vydt jxu hywxj ixyvj19gwc uivioml bw nqvl bpm zqopb apqnbfvb thuhnlk av mpuk aol ypnoa zopmaeua sgtgmkj zu lotj znk xomnz ynolzdtz rfsflji yt knsi ymj wnlmy xmnkycsy qerekih xs jmrh xli vmklx wlmjxbrx pdqdjhg wr ilqg wkh uljkw vkliwaqw ocpcigf vq hkpf vjg tkijv ujkhvzpv nbobhfe up gjoe uif sjhiu tijguyou managed to find the right shiftxnt lzmzfdc sn ehmc sgd qhfgs rgheswms kylyecb rm dglb rfc pgefr qfgdrvlr jxkxdba ql cfka qeb ofdeq pefcqukq iwjwcaz pk bejz pda necdp odebptjp hvivbzy oj adiy ocz mdbco ncdaosio guhuayx ni zchx nby lcabn mbcznrhn ftgtzxw mh ybgw max kbzam labymqgm esfsywv lg xafv lzw jayzl kzaxlpfl drerxvu kf wzeu kyv izxyk jyzwkoek cqdqwut je vydt jxu hywxj ixyvjndj bpcpvts id uxcs iwt gxvwi hwxui20gwc uivioml bw nqvl bpm zqopb apqnbfvb thuhnlk av mpuk aol ypnoa zopmaeua sgtgmkj zu lotj znk xomnz ynolzdtz rfsflji yt knsi ymj wnlmy xmnkycsy qerekih xs jmrh xli vmklx wlmjxbrx pdqdjhg wr ilqg wkh uljkw vkliwaqw ocpcigf vq hkpf vjg tkijv ujkhvzpv nbobhfe up gjoe uif sjhiu tijguyou managed to find the right shiftxnt lzmzfdc sn ehmc sgd qhfgs rgheswms kylyecb rm dglb rfc pgefr qfgdrvlr jxkxdba ql cfka qeb ofdeq pefcqukq iwjwcaz pk bejz pda necdp odebptjp hvivbzy oj adiy ocz mdbco ncdaosio guhuayx ni zchx nby lcabn mbcznrhn ftgtzxw mh ybgw max kbzam labymqgm esfsywv lg xafv lzw jayzl kzaxlpfl drerxvu kf wzeu kyv izxyk jyzwkoek cqdqwut je vydt jxu hywxj ixyvjndj bpcpvts id uxcs iwt gxvwi hwxuimci aobousr hc twbr hvs fwuvh gvwth21gwc uivioml bw nqvl bpm zqopb apqnbfvb thuhnlk av mpuk aol ypnoa zopmaeua sgtgmkj zu lotj znk xomnz ynolzdtz rfsflji yt knsi ymj wnlmy xmnkycsy qerekih xs jmrh xli vmklx wlmjxbrx pdqdjhg wr ilqg wkh uljkw vkliwaqw ocpcigf vq hkpf vjg tkijv ujkhvzpv nbobhfe up gjoe uif sjhiu tijguyou managed to find the right shiftxnt lzmzfdc sn ehmc sgd qhfgs rgheswms kylyecb rm dglb rfc pgefr qfgdrvlr jxkxdba ql cfka qeb ofdeq pefcqukq iwjwcaz pk bejz pda necdp odebptjp hvivbzy oj adiy ocz mdbco ncdaosio guhuayx ni zchx nby lcabn mbcznrhn ftgtzxw mh ybgw max kbzam labymqgm esfsywv lg xafv lzw jayzl kzaxlpfl drerxvu kf wzeu kyv izxyk jyzwkoek cqdqwut je vydt jxu hywxj ixyvjndj bpcpvts id uxcs iwt gxvwi hwxuimci aobousr hc twbr hvs fwuvh gvwthlbh znantrq gb svaq gur evtug fuvsg22gwc uivioml bw nqvl bpm zqopb apqnbfvb thuhnlk av mpuk aol ypnoa zopmaeua sgtgmkj zu lotj znk xomnz ynolzdtz rfsflji yt knsi ymj wnlmy xmnkycsy qerekih xs jmrh xli vmklx wlmjxbrx pdqdjhg wr ilqg wkh uljkw vkliwaqw ocpcigf vq hkpf vjg tkijv ujkhvzpv nbobhfe up gjoe uif sjhiu tijguyou managed to find the right shiftxnt lzmzfdc sn ehmc sgd qhfgs rgheswms kylyecb rm dglb rfc pgefr qfgdrvlr jxkxdba ql cfka qeb ofdeq pefcqukq iwjwcaz pk bejz pda necdp odebptjp hvivbzy oj adiy ocz mdbco ncdaosio guhuayx ni zchx nby lcabn mbcznrhn ftgtzxw mh ybgw max kbzam labymqgm esfsywv lg xafv lzw jayzl kzaxlpfl drerxvu kf wzeu kyv izxyk jyzwkoek cqdqwut je vydt jxu hywxj ixyvjndj bpcpvts id uxcs iwt gxvwi hwxuimci aobousr hc twbr hvs fwuvh gvwthlbh znantrq gb svaq gur evtug fuvsgkag ymzmsqp fa ruzp ftq dustf eturf23gwc uivioml bw nqvl bpm zqopb apqnbfvb thuhnlk av mpuk aol ypnoa zopmaeua sgtgmkj zu lotj znk xomnz ynolzdtz rfsflji yt knsi ymj wnlmy xmnkycsy qerekih xs jmrh xli vmklx wlmjxbrx pdqdjhg wr ilqg wkh uljkw vkliwaqw ocpcigf vq hkpf vjg tkijv ujkhvzpv nbobhfe up gjoe uif sjhiu tijguyou managed to find the right shiftxnt lzmzfdc sn ehmc sgd qhfgs rgheswms kylyecb rm dglb rfc pgefr qfgdrvlr jxkxdba ql cfka qeb ofdeq pefcqukq iwjwcaz pk bejz pda necdp odebptjp hvivbzy oj adiy ocz mdbco ncdaosio guhuayx ni zchx nby lcabn mbcznrhn ftgtzxw mh ybgw max kbzam labymqgm esfsywv lg xafv lzw jayzl kzaxlpfl drerxvu kf wzeu kyv izxyk jyzwkoek cqdqwut je vydt jxu hywxj ixyvjndj bpcpvts id uxcs iwt gxvwi hwxuimci aobousr hc twbr hvs fwuvh gvwthlbh znantrq gb svaq gur evtug fuvsgkag ymzmsqp fa ruzp ftq dustf eturfjzf xlylrpo ez qtyo esp ctrse dstqe24gwc uivioml bw nqvl bpm zqopb apqnbfvb thuhnlk av mpuk aol ypnoa zopmaeua sgtgmkj zu lotj znk xomnz ynolzdtz rfsflji yt knsi ymj wnlmy xmnkycsy qerekih xs jmrh xli vmklx wlmjxbrx pdqdjhg wr ilqg wkh uljkw vkliwaqw ocpcigf vq hkpf vjg tkijv ujkhvzpv nbobhfe up gjoe uif sjhiu tijguyou managed to find the right shiftxnt lzmzfdc sn ehmc sgd qhfgs rgheswms kylyecb rm dglb rfc pgefr qfgdrvlr jxkxdba ql cfka qeb ofdeq pefcqukq iwjwcaz pk bejz pda necdp odebptjp hvivbzy oj adiy ocz mdbco ncdaosio guhuayx ni zchx nby lcabn mbcznrhn ftgtzxw mh ybgw max kbzam labymqgm esfsywv lg xafv lzw jayzl kzaxlpfl drerxvu kf wzeu kyv izxyk jyzwkoek cqdqwut je vydt jxu hywxj ixyvjndj bpcpvts id uxcs iwt gxvwi hwxuimci aobousr hc twbr hvs fwuvh gvwthlbh znantrq gb svaq gur evtug fuvsgkag ymzmsqp fa ruzp ftq dustf eturfjzf xlylrpo ez qtyo esp ctrse dstqeiye wkxkqon dy psxn dro bsqrd crspd25gwc uivioml bw nqvl bpm zqopb apqnbfvb thuhnlk av mpuk aol ypnoa zopmaeua sgtgmkj zu lotj znk xomnz ynolzdtz rfsflji yt knsi ymj wnlmy xmnkycsy qerekih xs jmrh xli vmklx wlmjxbrx pdqdjhg wr ilqg wkh uljkw vkliwaqw ocpcigf vq hkpf vjg tkijv ujkhvzpv nbobhfe up gjoe uif sjhiu tijguyou managed to find the right shiftxnt lzmzfdc sn ehmc sgd qhfgs rgheswms kylyecb rm dglb rfc pgefr qfgdrvlr jxkxdba ql cfka qeb ofdeq pefcqukq iwjwcaz pk bejz pda necdp odebptjp hvivbzy oj adiy ocz mdbco ncdaosio guhuayx ni zchx nby lcabn mbcznrhn ftgtzxw mh ybgw max kbzam labymqgm esfsywv lg xafv lzw jayzl kzaxlpfl drerxvu kf wzeu kyv izxyk jyzwkoek cqdqwut je vydt jxu hywxj ixyvjndj bpcpvts id uxcs iwt gxvwi hwxuimci aobousr hc twbr hvs fwuvh gvwthlbh znantrq gb svaq gur evtug fuvsgkag ymzmsqp fa ruzp ftq dustf eturfjzf xlylrpo ez qtyo esp ctrse dstqeiye wkxkqon dy psxn dro bsqrd crspdhxd vjwjpnm cx orwm cqn arpqc bqroc'"
      ]
     },
     "execution_count": 74,
     "metadata": {},
     "output_type": "execute_result"
    }
   ],
   "source": [
    "em2 = 'gwc uivioml bw nqvl bpm zqopb apqnb'\n",
    "c2 = []\n",
    "for j in range(len(p)):\n",
    "    for i in em2:\n",
    "        if i!=' ':\n",
    "            c2.append(p[p.find(i)-j])\n",
    "        else:\n",
    "            c2.append(' ')\n",
    "print \n",
    "c2"
   ]
  },
  {
   "cell_type": "markdown",
   "metadata": {},
   "source": [
    "Functions\n",
    "==========="
   ]
  },
  {
   "cell_type": "markdown",
   "metadata": {},
   "source": [
    "Exercise 1\n",
    "----"
   ]
  },
  {
   "cell_type": "code",
   "execution_count": 18,
   "metadata": {},
   "outputs": [],
   "source": [
    "def isprime(number):\n",
    "    for j in range(2,number):\n",
    "        if number%j==0:\n",
    "            return False\n",
    "            break            \n",
    "        else:\n",
    "            return True"
   ]
  },
  {
   "cell_type": "code",
   "execution_count": 19,
   "metadata": {},
   "outputs": [
    {
     "data": {
      "text/plain": [
       "False"
      ]
     },
     "execution_count": 19,
     "metadata": {},
     "output_type": "execute_result"
    }
   ],
   "source": [
    "isprime(6)"
   ]
  },
  {
   "cell_type": "markdown",
   "metadata": {},
   "source": [
    "Exercise 2\n",
    "---"
   ]
  },
  {
   "cell_type": "code",
   "execution_count": 42,
   "metadata": {},
   "outputs": [],
   "source": [
    "def factorial(num):\n",
    "    if num>0:\n",
    "        return num*factorial(num-1)\n",
    "    else:\n",
    "        return 1"
   ]
  },
  {
   "cell_type": "code",
   "execution_count": 43,
   "metadata": {},
   "outputs": [
    {
     "data": {
      "text/plain": [
       "120"
      ]
     },
     "execution_count": 43,
     "metadata": {},
     "output_type": "execute_result"
    }
   ],
   "source": [
    "factorial(5)"
   ]
  },
  {
   "cell_type": "markdown",
   "metadata": {},
   "source": [
    "Exercise 3\n",
    "-----"
   ]
  },
  {
   "cell_type": "code",
   "execution_count": 56,
   "metadata": {},
   "outputs": [],
   "source": [
    "def mean(list):\n",
    "    return sum(list)/len(list)"
   ]
  },
  {
   "cell_type": "code",
   "execution_count": 57,
   "metadata": {},
   "outputs": [
    {
     "data": {
      "text/plain": [
       "4.333333333333333"
      ]
     },
     "execution_count": 57,
     "metadata": {},
     "output_type": "execute_result"
    }
   ],
   "source": [
    "mean([1, 3, 4, 5, 6, 7])\n"
   ]
  },
  {
   "cell_type": "markdown",
   "metadata": {},
   "source": [
    "Files rw\n",
    "======="
   ]
  },
  {
   "cell_type": "code",
   "execution_count": 52,
   "metadata": {},
   "outputs": [],
   "source": [
    "f = open('data/data.txt','r')"
   ]
  },
  {
   "cell_type": "code",
   "execution_count": 12,
   "metadata": {},
   "outputs": [
    {
     "data": {
      "text/plain": [
       "_io.TextIOWrapper"
      ]
     },
     "execution_count": 12,
     "metadata": {},
     "output_type": "execute_result"
    }
   ],
   "source": [
    "type(f)"
   ]
  },
  {
   "cell_type": "code",
   "execution_count": 24,
   "metadata": {},
   "outputs": [
    {
     "data": {
      "text/plain": [
       "'RAJ        DEJ                          Jmag   e_Jmag\\n2000 (deg) 2000 (deg) 2MASS             (mag)  (mag) \\n---------- ---------- ----------------- ------ ------\\n010.684737 +41.269035 00424433+4116085   9.453  0.052\\n010.683469 +41.268585 00424403+4116069   9.321  0.022\\n010.685657 +41.269550 00424455+4116103  10.773  0.069\\n010.686026 +41.269226 00424464+4116092   9.299  0.063\\n010.683465 +41.269676 00424403+4116108  11.507  0.056\\n010.686015 +41.269630 00424464+4116106   9.399  0.045\\n010.685270 +41.267124 00424446+4116016  12.070  0.035\\n'"
      ]
     },
     "execution_count": 24,
     "metadata": {},
     "output_type": "execute_result"
    }
   ],
   "source": [
    "f.read()"
   ]
  },
  {
   "cell_type": "code",
   "execution_count": 13,
   "metadata": {},
   "outputs": [
    {
     "data": {
      "text/plain": [
       "''"
      ]
     },
     "execution_count": 13,
     "metadata": {},
     "output_type": "execute_result"
    }
   ],
   "source": [
    "f.read()"
   ]
  },
  {
   "cell_type": "code",
   "execution_count": 25,
   "metadata": {},
   "outputs": [],
   "source": [
    "data = f.read()"
   ]
  },
  {
   "cell_type": "code",
   "execution_count": 16,
   "metadata": {},
   "outputs": [
    {
     "data": {
      "text/plain": [
       "'RAJ        DEJ                          Jmag   e_Jmag\\n2000 (deg) 2000 (deg) 2MASS             (mag)  (mag) \\n---------- ---------- ----------------- ------ ------\\n010.684737 +41.269035 00424433+4116085   9.453  0.052\\n010.683469 +41.268585 00424403+4116069   9.321  0.022\\n010.685657 +41.269550 00424455+4116103  10.773  0.069\\n010.686026 +41.269226 00424464+4116092   9.299  0.063\\n010.683465 +41.269676 00424403+4116108  11.507  0.056\\n010.686015 +41.269630 00424464+4116106   9.399  0.045\\n010.685270 +41.267124 00424446+4116016  12.070  0.035\\n'"
      ]
     },
     "execution_count": 16,
     "metadata": {},
     "output_type": "execute_result"
    }
   ],
   "source": [
    "data"
   ]
  },
  {
   "cell_type": "code",
   "execution_count": 53,
   "metadata": {},
   "outputs": [
    {
     "name": "stdout",
     "output_type": "stream",
     "text": [
      "'RAJ        DEJ                          Jmag   e_Jmag\\n'\n",
      "'2000 (deg) 2000 (deg) 2MASS             (mag)  (mag) \\n'\n",
      "'---------- ---------- ----------------- ------ ------\\n'\n",
      "'010.684737 +41.269035 00424433+4116085   9.453  0.052\\n'\n",
      "'010.683469 +41.268585 00424403+4116069   9.321  0.022\\n'\n",
      "'010.685657 +41.269550 00424455+4116103  10.773  0.069\\n'\n",
      "'010.686026 +41.269226 00424464+4116092   9.299  0.063\\n'\n",
      "'010.683465 +41.269676 00424403+4116108  11.507  0.056\\n'\n",
      "'010.686015 +41.269630 00424464+4116106   9.399  0.045\\n'\n",
      "'010.685270 +41.267124 00424446+4116016  12.070  0.035\\n'\n"
     ]
    }
   ],
   "source": [
    "for i in f:\n",
    "    print(repr(i))"
   ]
  },
  {
   "cell_type": "code",
   "execution_count": 46,
   "metadata": {},
   "outputs": [
    {
     "data": {
      "text/plain": [
       "'010.685270 +41.267124 00424446+4116016  12.070  0.035\\n'"
      ]
     },
     "execution_count": 46,
     "metadata": {},
     "output_type": "execute_result"
    }
   ],
   "source": [
    "i"
   ]
  },
  {
   "cell_type": "code",
   "execution_count": 42,
   "metadata": {},
   "outputs": [
    {
     "data": {
      "text/plain": [
       "['RAJ        DEJ                          Jmag   e_Jmag\\n',\n",
       " '2000 (deg) 2000 (deg) 2MASS             (mag)  (mag) \\n',\n",
       " '---------- ---------- ----------------- ------ ------\\n',\n",
       " '010.684737 +41.269035 00424433+4116085   9.453  0.052\\n',\n",
       " '010.683469 +41.268585 00424403+4116069   9.321  0.022\\n',\n",
       " '010.685657 +41.269550 00424455+4116103  10.773  0.069\\n',\n",
       " '010.686026 +41.269226 00424464+4116092   9.299  0.063\\n',\n",
       " '010.683465 +41.269676 00424403+4116108  11.507  0.056\\n',\n",
       " '010.686015 +41.269630 00424464+4116106   9.399  0.045\\n',\n",
       " '010.685270 +41.267124 00424446+4116016  12.070  0.035\\n']"
      ]
     },
     "execution_count": 42,
     "metadata": {},
     "output_type": "execute_result"
    }
   ],
   "source": [
    "f.readlines()"
   ]
  },
  {
   "cell_type": "code",
   "execution_count": 54,
   "metadata": {},
   "outputs": [],
   "source": [
    "line = i.strip()"
   ]
  },
  {
   "cell_type": "code",
   "execution_count": 55,
   "metadata": {},
   "outputs": [
    {
     "data": {
      "text/plain": [
       "'010.685270 +41.267124 00424446+4116016  12.070  0.035'"
      ]
     },
     "execution_count": 55,
     "metadata": {},
     "output_type": "execute_result"
    }
   ],
   "source": [
    "line"
   ]
  },
  {
   "cell_type": "code",
   "execution_count": 56,
   "metadata": {},
   "outputs": [],
   "source": [
    "columns = line.split()"
   ]
  },
  {
   "cell_type": "code",
   "execution_count": 57,
   "metadata": {},
   "outputs": [
    {
     "data": {
      "text/plain": [
       "['010.685270', '+41.267124', '00424446+4116016', '12.070', '0.035']"
      ]
     },
     "execution_count": 57,
     "metadata": {},
     "output_type": "execute_result"
    }
   ],
   "source": [
    "columns"
   ]
  },
  {
   "cell_type": "code",
   "execution_count": 58,
   "metadata": {},
   "outputs": [],
   "source": [
    "name = columns[2]\n",
    "jmag = columns[3]"
   ]
  },
  {
   "cell_type": "code",
   "execution_count": 59,
   "metadata": {},
   "outputs": [
    {
     "data": {
      "text/plain": [
       "('00424446+4116016', '12.070')"
      ]
     },
     "execution_count": 59,
     "metadata": {},
     "output_type": "execute_result"
    }
   ],
   "source": [
    "name, jmag"
   ]
  },
  {
   "cell_type": "code",
   "execution_count": 60,
   "metadata": {},
   "outputs": [],
   "source": [
    "jm = float(jmag)"
   ]
  },
  {
   "cell_type": "code",
   "execution_count": 61,
   "metadata": {},
   "outputs": [
    {
     "data": {
      "text/plain": [
       "12.07"
      ]
     },
     "execution_count": 61,
     "metadata": {},
     "output_type": "execute_result"
    }
   ],
   "source": [
    "jm"
   ]
  },
  {
   "cell_type": "markdown",
   "metadata": {},
   "source": [
    "Exercise 1\n",
    "----"
   ]
  },
  {
   "cell_type": "code",
   "execution_count": 90,
   "metadata": {},
   "outputs": [
    {
     "name": "stdout",
     "output_type": "stream",
     "text": [
      "00424433+4116085 9.453\n",
      "00424403+4116069 9.321\n",
      "00424455+4116103 10.773\n",
      "00424464+4116092 9.299\n",
      "00424403+4116108 11.507\n",
      "00424464+4116106 9.399\n",
      "00424446+4116016 12.07\n"
     ]
    }
   ],
   "source": [
    "# Open file\n",
    "f = open('data/data.txt', 'r')\n",
    "\n",
    "# Read and ignore header lines\n",
    "header1 = f.readline()\n",
    "header2 = f.readline()\n",
    "header3 = f.readline()\n",
    "\n",
    "# Loop over lines and extract variables of interest\n",
    "jmag = {}\n",
    "for line in f:\n",
    "    line = line.strip()\n",
    "    columns = line.split()\n",
    "    name = columns[2]\n",
    "    jmag[name] = float(columns[3])\n",
    "    print(name, jmag[name])"
   ]
  },
  {
   "cell_type": "code",
   "execution_count": 110,
   "metadata": {},
   "outputs": [
    {
     "name": "stdout",
     "output_type": "stream",
     "text": [
      "00424403+4116069 9.321\n",
      "00424403+4116108 11.507\n",
      "00424433+4116085 9.453\n",
      "00424446+4116016 12.07\n",
      "00424455+4116103 10.773\n",
      "00424464+4116092 9.299\n",
      "00424464+4116106 9.399\n"
     ]
    }
   ],
   "source": [
    "for i in sorted(jmag):\n",
    "    print (i, jmag[i])"
   ]
  },
  {
   "cell_type": "code",
   "execution_count": 111,
   "metadata": {},
   "outputs": [
    {
     "data": {
      "text/plain": [
       "10.773"
      ]
     },
     "execution_count": 111,
     "metadata": {},
     "output_type": "execute_result"
    }
   ],
   "source": [
    "jmag['00424455+4116103']"
   ]
  },
  {
   "cell_type": "code",
   "execution_count": 112,
   "metadata": {},
   "outputs": [],
   "source": [
    "f = open('nfile.txt','w')"
   ]
  },
  {
   "cell_type": "code",
   "execution_count": 113,
   "metadata": {},
   "outputs": [
    {
     "data": {
      "text/plain": [
       "4"
      ]
     },
     "execution_count": 113,
     "metadata": {},
     "output_type": "execute_result"
    }
   ],
   "source": [
    "f.write('tmp3')"
   ]
  },
  {
   "cell_type": "code",
   "execution_count": 114,
   "metadata": {},
   "outputs": [],
   "source": [
    "f.close()"
   ]
  },
  {
   "cell_type": "markdown",
   "metadata": {},
   "source": [
    "Exercise 2\n",
    "---"
   ]
  },
  {
   "cell_type": "code",
   "execution_count": 124,
   "metadata": {},
   "outputs": [],
   "source": [
    "# Open files\n",
    "fin = open ('data/data.txt', 'r')\n",
    "fout = open ('data/ndata.txt', 'w')\n",
    "\n",
    "# Read and ignore header lines\n",
    "header1 = fin.readline()\n",
    "header2 = fin.readline()\n",
    "header3 = fin.readline()\n",
    "\n",
    "# Loop over lines and extract variables of interest\n",
    "for line in fin:\n",
    "    line = line.strip()\n",
    "    columns = line.split()\n",
    "    name = columns[2]\n",
    "    jmag = (columns[3])\n",
    "    fout.write(name+' '+jmag+'\\n')\n",
    "fout.close()\n",
    "fin.close()"
   ]
  },
  {
   "cell_type": "code",
   "execution_count": 125,
   "metadata": {},
   "outputs": [
    {
     "name": "stdout",
     "output_type": "stream",
     "text": [
      "00424433+4116085 9.453\r\n",
      "00424403+4116069 9.321\r\n",
      "00424455+4116103 10.773\r\n",
      "00424464+4116092 9.299\r\n",
      "00424403+4116108 11.507\r\n",
      "00424464+4116106 9.399\r\n",
      "00424446+4116016 12.070\r\n"
     ]
    }
   ],
   "source": [
    "%cat data/ndata.txt"
   ]
  },
  {
   "cell_type": "markdown",
   "metadata": {},
   "source": [
    "Modules and Variable Scope\n",
    "==="
   ]
  },
  {
   "cell_type": "code",
   "execution_count": 126,
   "metadata": {},
   "outputs": [],
   "source": [
    "import math"
   ]
  },
  {
   "cell_type": "code",
   "execution_count": 127,
   "metadata": {},
   "outputs": [
    {
     "data": {
      "text/plain": [
       "0.9092974268256817"
      ]
     },
     "execution_count": 127,
     "metadata": {},
     "output_type": "execute_result"
    }
   ],
   "source": [
    "math.sin(2)"
   ]
  },
  {
   "cell_type": "code",
   "execution_count": 128,
   "metadata": {},
   "outputs": [
    {
     "data": {
      "text/plain": [
       "120"
      ]
     },
     "execution_count": 128,
     "metadata": {},
     "output_type": "execute_result"
    }
   ],
   "source": [
    "math.factorial(5)"
   ]
  },
  {
   "cell_type": "markdown",
   "metadata": {},
   "source": [
    "Exercise 1\n",
    "----"
   ]
  },
  {
   "cell_type": "code",
   "execution_count": 136,
   "metadata": {},
   "outputs": [
    {
     "data": {
      "text/plain": [
       "0.5000000000000001"
      ]
     },
     "execution_count": 136,
     "metadata": {},
     "output_type": "execute_result"
    }
   ],
   "source": [
    "math.cos(math.radians(60))"
   ]
  },
  {
   "cell_type": "code",
   "execution_count": 137,
   "metadata": {},
   "outputs": [
    {
     "data": {
      "text/plain": [
       "0.49999999999999994"
      ]
     },
     "execution_count": 137,
     "metadata": {},
     "output_type": "execute_result"
    }
   ],
   "source": [
    "math.sin(math.pi/6)"
   ]
  },
  {
   "cell_type": "code",
   "execution_count": 1,
   "metadata": {},
   "outputs": [
    {
     "ename": "UnboundLocalError",
     "evalue": "local variable 'a' referenced before assignment",
     "output_type": "error",
     "traceback": [
      "\u001b[0;31m---------------------------------------------------------------------------\u001b[0m",
      "\u001b[0;31mUnboundLocalError\u001b[0m                         Traceback (most recent call last)",
      "\u001b[0;32m<ipython-input-1-2b10bcca7026>\u001b[0m in \u001b[0;36m<module>\u001b[0;34m\u001b[0m\n\u001b[1;32m      5\u001b[0m     \u001b[0ma\u001b[0m \u001b[0;34m=\u001b[0m \u001b[0;36m2\u001b[0m\u001b[0;34m\u001b[0m\u001b[0;34m\u001b[0m\u001b[0m\n\u001b[1;32m      6\u001b[0m \u001b[0;34m\u001b[0m\u001b[0m\n\u001b[0;32m----> 7\u001b[0;31m \u001b[0mshow_var\u001b[0m\u001b[0;34m(\u001b[0m\u001b[0;34m)\u001b[0m\u001b[0;34m\u001b[0m\u001b[0;34m\u001b[0m\u001b[0m\n\u001b[0m",
      "\u001b[0;32m<ipython-input-1-2b10bcca7026>\u001b[0m in \u001b[0;36mshow_var\u001b[0;34m()\u001b[0m\n\u001b[1;32m      2\u001b[0m \u001b[0;34m\u001b[0m\u001b[0m\n\u001b[1;32m      3\u001b[0m \u001b[0;32mdef\u001b[0m \u001b[0mshow_var\u001b[0m\u001b[0;34m(\u001b[0m\u001b[0;34m)\u001b[0m\u001b[0;34m:\u001b[0m\u001b[0;34m\u001b[0m\u001b[0;34m\u001b[0m\u001b[0m\n\u001b[0;32m----> 4\u001b[0;31m     \u001b[0mprint\u001b[0m\u001b[0;34m(\u001b[0m\u001b[0ma\u001b[0m\u001b[0;34m)\u001b[0m\u001b[0;34m\u001b[0m\u001b[0;34m\u001b[0m\u001b[0m\n\u001b[0m\u001b[1;32m      5\u001b[0m     \u001b[0ma\u001b[0m \u001b[0;34m=\u001b[0m \u001b[0;36m2\u001b[0m\u001b[0;34m\u001b[0m\u001b[0;34m\u001b[0m\u001b[0m\n\u001b[1;32m      6\u001b[0m \u001b[0;34m\u001b[0m\u001b[0m\n",
      "\u001b[0;31mUnboundLocalError\u001b[0m: local variable 'a' referenced before assignment"
     ]
    }
   ],
   "source": [
    "a = 1\n",
    "\n",
    "def show_var():\n",
    "    print(a)\n",
    "    a = 2\n",
    "  \n",
    "show_var()"
   ]
  },
  {
   "cell_type": "code",
   "execution_count": 2,
   "metadata": {},
   "outputs": [],
   "source": [
    "def show_var():\n",
    "    print(a)\n",
    "    a = 2"
   ]
  },
  {
   "cell_type": "code",
   "execution_count": 6,
   "metadata": {},
   "outputs": [],
   "source": [
    "def show_var():\n",
    "    a = 2\n",
    "    print(a)"
   ]
  },
  {
   "cell_type": "code",
   "execution_count": 4,
   "metadata": {},
   "outputs": [
    {
     "name": "stdout",
     "output_type": "stream",
     "text": [
      "2\n",
      "1\n"
     ]
    }
   ],
   "source": [
    "def double(x):\n",
    "    x = x * 2\n",
    "    print(x)\n",
    "\n",
    "x = 1\n",
    "double(x)\n",
    "print(x)"
   ]
  },
  {
   "cell_type": "code",
   "execution_count": 147,
   "metadata": {},
   "outputs": [
    {
     "name": "stdout",
     "output_type": "stream",
     "text": [
      "[1, 2, 3]\n",
      "[1, 2, 3]\n"
     ]
    }
   ],
   "source": [
    "def append_3(x):\n",
    "    x.append(3)\n",
    "    print(x)\n",
    "\n",
    "x = [1,2]\n",
    "append_3(x)\n",
    "print(x)"
   ]
  },
  {
   "cell_type": "markdown",
   "metadata": {},
   "source": [
    "Practice Problem - Temperatures\n",
    "=="
   ]
  },
  {
   "cell_type": "code",
   "execution_count": 34,
   "metadata": {},
   "outputs": [
    {
     "name": "stdout",
     "output_type": "stream",
     "text": [
      "2005 : -14.1111 C 8.807527785245913 C 24.2222 C\n"
     ]
    }
   ],
   "source": [
    "# Open file\n",
    "f = open ('munich_temperatures_average.txt', 'r')\n",
    "\n",
    "def vper_y(year):\n",
    "    data = []\n",
    "    for i in f:\n",
    "        line = i.strip()\n",
    "        col = i.split()\n",
    "        ys = float(col[0])\n",
    "        val = float(col[1])\n",
    "#         print (ys,val)\n",
    "#         print(round(ys))\n",
    "        if round(ys)==year:\n",
    "            data.append(val)        \n",
    "    print (year,':',min(data),'C',sum(data)/len(data),'C',max(data),'C')\n",
    "    return\n",
    "\n",
    "for i in f:\n",
    "    y,val = i.strip().split()\n",
    "    y = float(y)\n",
    "    val = float(val)\n",
    "\n",
    "    if round(ys)==year:\n",
    "        data.append(val)        \n",
    "print (year,':',min(data),'C',sum(data)/len(data),'C',max(data),'C')\n",
    "\n",
    "\n",
    "vper_y(2005)\n",
    "f.close()"
   ]
  },
  {
   "cell_type": "markdown",
   "metadata": {},
   "source": [
    "Problem Set 1 - DNA\n",
    "================="
   ]
  },
  {
   "cell_type": "markdown",
   "metadata": {},
   "source": [
    "Part 1\n",
    "----"
   ]
  },
  {
   "cell_type": "markdown",
   "metadata": {},
   "source": [
    "Question 1\n",
    "----\n",
    "\n",
    "The reverse complement of DNA is found by reversing the DNA sequence, then replacing each base by its complement (A is replaced by T, T is replaced by A, G is replaced by C, and C is replaced by G). For example, the reverse complement of ATGCGGC is GCCGCAT\n",
    "\n",
    "Write a Python function reverse_complement that takes a DNA sequence as a string, and returns the reverse complement. Test your function by ensuring that reverse_complement('ATGCGGC') is 'GCCGCAT', then find the reverse complement of the following sequence:\n",
    "\n",
    "ATGCGCGGATCGTACCTAATCGATGGCATTAGCCGAGCCCGATTACGC\n",
    "\n",
    "Print the result out using print."
   ]
  },
  {
   "cell_type": "code",
   "execution_count": 22,
   "metadata": {},
   "outputs": [
    {
     "data": {
      "text/plain": [
       "'TACGCGCCTAGCATGGATTAGCTACCGTAATCGGCTCGGGCTAATGCG'"
      ]
     },
     "execution_count": 22,
     "metadata": {},
     "output_type": "execute_result"
    }
   ],
   "source": [
    "def reverse_complement(DNA):\n",
    "    nDNA = []\n",
    "    for let in DNA:\n",
    "        if let == 'A':\n",
    "            nDNA+=('T')\n",
    "        elif let == 'T':\n",
    "            nDNA+=('A')\n",
    "        elif let == 'G':\n",
    "            nDNA+=('C')\n",
    "        elif let == 'C':\n",
    "            nDNA+=('G')\n",
    "    return ''.join(nDNA)\n",
    "\n",
    "reverse_complement('ATGCGCGGATCGTACCTAATCGATGGCATTAGCCGAGCCCGATTACGC')"
   ]
  },
  {
   "cell_type": "markdown",
   "metadata": {},
   "source": [
    "\n",
    "Question 2\n",
    "--\n",
    "Ribonucleic acid (RNA) is a family of large biological molecules that is transcribed from DNA by the RNA Polymerase enzyme. It consists of a single strand of nucleotides that are identical to the ones found in DNA, with the exception of uracil (U), which replaces thymine (T).\n",
    "\n",
    "Messenger RNA molecules (or mRNA) are a subset of RNA molecules that are used to pass information from DNA to ribosomes, which then translates the mRNA to protein sequences.\n",
    "\n",
    "Write a Python function dna_to_mrna that takes a DNA sequence and returns the corresponding mRNA sequence. For example, the DNA sequence ATCGCGAT should produce the mRNA sequence AUCGCGAU (note that you do not need to find the reverse complement of the DNA here)"
   ]
  },
  {
   "cell_type": "code",
   "execution_count": 129,
   "metadata": {},
   "outputs": [
    {
     "data": {
      "text/plain": [
       "'AUCGCGAU'"
      ]
     },
     "execution_count": 129,
     "metadata": {},
     "output_type": "execute_result"
    }
   ],
   "source": [
    "def dna_to_mrna(DNA):\n",
    "    mRNA = []\n",
    "    for let in DNA:\n",
    "        if let == 'T':\n",
    "            mRNA+=('U')\n",
    "        else:\n",
    "            mRNA+=(let)\n",
    "    return ''.join(mRNA)\n",
    "\n",
    "dna_to_mrna('ATCGCGAT')"
   ]
  },
  {
   "cell_type": "markdown",
   "metadata": {},
   "source": [
    "Part 2\n",
    "---\n",
    "Question 3\n",
    "--\n",
    "When the mRNA is translated to a protein sequence, each set of three nucleotides, called a codon, is translated into a single amino acid. For example, the codon UUC translates to the amino acid Phenylalanine. Each amino acid can be represented by a single letter - for example Phenylalanine is represented by the letter F. A protein, which is formed from a sequence of amino acids, can therefore be written as a sequence of letters in the same way as DNA or mRNA, but using more of the letters of the alphabet since there are more than four amino acids.\n",
    "\n",
    "The data/problem_1_codons.txt file contains two columns. The first column gives a list of codons, and the second column gives the corresponding amino acid (represented by a single letter). Certain codons do not correspond to an amino acid, but instead indicate that the amino acid sequence is finished. These are indicated by Stop.\n",
    "\n",
    "Write a function mrna_to_protein that takes an mRNA sequence (as a string) and returns the sequence of amino acids (as a string), stopping the first time a Stop codon is encountered. Make sure that the file is only read once when running the script (and not every time you want to translate a codon). You will likely need to use a Python dictionary to help.\n",
    "\n",
    "Finally, write a function dna_to_protein that takes a DNA sequence (as a string) and returns the sequence of amino acids (as a string), making use of the functions that you wrote previously.\n",
    "\n",
    "Print out the amino acid sequence for the following DNA sequence:\n",
    "\n",
    "AATCTCTACGGAAGTAGGTCAGTACTGATCGATCAGTCGATCGGGCGGCGATTTCGATCTGATTGTACGGCGGGCTAG"
   ]
  },
  {
   "cell_type": "code",
   "execution_count": 130,
   "metadata": {},
   "outputs": [],
   "source": [
    "f = open('data/problem_1_codons.txt','r')\n",
    "\n",
    "aacid = {}\n",
    "for line in f:\n",
    "    col = line.strip().split()\n",
    "    codon = col[0]\n",
    "    aacid[codon]= col[1]\n",
    "\n",
    "def mrna_to_protein(mRNA):\n",
    "    aa=''\n",
    "    for i in range(0,len(mRNA)-3):\n",
    "        if aacid[mRNA[i]+mRNA[i+1]+mRNA[i+2]]=='Stop':\n",
    "            continue\n",
    "        else:\n",
    "            aa += aacid[mRNA[i]+mRNA[i+1]+mRNA[i+2]]\n",
    "    return aa\n",
    "\n",
    "def dna_to_protein(DNA):\n",
    "    return mrna_to_protein(dna_to_mrna(DNA))\n",
    "\n",
    "# f.close()"
   ]
  },
  {
   "cell_type": "code",
   "execution_count": 55,
   "metadata": {},
   "outputs": [
    {
     "data": {
      "text/plain": [
       "'NISLSLYTRGEKSVRGVSQSVYTLDISRDISQSVSRDISRGGARGARDIFFSRDISLDILCVYTRGARGGAL'"
      ]
     },
     "execution_count": 55,
     "metadata": {},
     "output_type": "execute_result"
    }
   ],
   "source": [
    "dna_to_protein('AATCTCTACGGAAGTAGGTCAGTACTGATCGATCAGTCGATCGGGCGGCGATTTCGATCTGATTGTACGGCGGGCTAG')"
   ]
  },
  {
   "cell_type": "markdown",
   "metadata": {},
   "source": [
    "Question 4\n",
    "---\n",
    "In the previous questions, we have been specifying the DNA sequence by hand, but DNA sequences are usually long and are stored in files. A common file format is the FASTA format which looks similar to this:\n",
    "\n",
    "$>label1$\n",
    "ACTGTATCGATGCTAGCTACGTAGCTAGCTAGCTAGCTGACGTA\n",
    "ACGATGTGCGAGGGTCATGGGACGCGAGCGAGTCTAGCACGATC\n",
    "\n",
    "$>label2$\n",
    "ACTGGGCTTGACTACGGCGGTATCTGACGGGCGAGCTGTACGAG\\n\n",
    "ACGGACTAGGGCGCGGCGGGGCGGATTTTCGAGTCGAGCGTTAT\n",
    "\n",
    "The first line starts with a > which is immediately followed by a label (which might be the name of the gene for example). The sequence then starts on the second line, and may continue on several lines. It is common to limit the length of each line to 80, but this may vary from file to file. The sequence stops once either the file ends, or a line starts with >, which indicates that a new sequence is being given. There may be any number of sequences in a file.\n",
    "\n",
    "Write a function read_fasta, that takes the name of a file (as a string) and returns a Python dictionary containing all the sequences from the file, with the keys in the dictionary corresponding to the label. If a sequence is given over several lines, you should remove any line returns and spaces. You should then be able to access the DNA for label1 with d['label1'] for example (if d is the name of the dictionary).\n",
    "\n",
    "Use this function and the functions you have written above to read in the data/problem_1_question_4.fasta file and print out, for each sequence, the label, followed by the amino acid sequence (not the DNA sequence!)."
   ]
  },
  {
   "cell_type": "code",
   "execution_count": 131,
   "metadata": {},
   "outputs": [],
   "source": [
    "def read_fasta(file):\n",
    "    dfasta={}\n",
    "    f = open(file,'r')\n",
    "    seq=''\n",
    "    for line in f:\n",
    "        if line.startswith('>'):\n",
    "            seq=line.strip('>').strip('\\n')\n",
    "            dna=''\n",
    "        else:\n",
    "            dna+=line.strip('\\n')\n",
    "        dfasta[seq]=dna\n",
    "    return dfasta\n",
    "#     print (seq,dna)"
   ]
  },
  {
   "cell_type": "code",
   "execution_count": 132,
   "metadata": {},
   "outputs": [],
   "source": [
    "dfasta=read_fasta('data/problem_1_question_4.fasta')"
   ]
  },
  {
   "cell_type": "code",
   "execution_count": 133,
   "metadata": {},
   "outputs": [
    {
     "data": {
      "text/plain": [
       "'AGATCATTCTGCACCGGACACCCCTCTTACTGTCGCCTCTTCTTTGGCCGGAAAATGCAGTCTTCATTCGCCCCTAGGTGA'"
      ]
     },
     "execution_count": 133,
     "metadata": {},
     "output_type": "execute_result"
    }
   ],
   "source": [
    "dfasta['sequence_02']"
   ]
  },
  {
   "cell_type": "code",
   "execution_count": 137,
   "metadata": {},
   "outputs": [
    {
     "name": "stdout",
     "output_type": "stream",
     "text": [
      "sequence_02: RDISHIFSLCAHTPRGDTHTPPPLSLLYTLCVSRAPLSLFSLFLWGAPRGEKKNMCAQSVSLFSHIFSRAPPPLRGV\n"
     ]
    }
   ],
   "source": [
    "print ('sequence_02:',mrna_to_protein(dna_to_mrna(dfasta['sequence_02'])))"
   ]
  },
  {
   "cell_type": "markdown",
   "metadata": {},
   "source": [
    "Part 3\n",
    "===\n",
    "Question 5\n",
    "--"
   ]
  },
  {
   "cell_type": "code",
   "execution_count": null,
   "metadata": {},
   "outputs": [],
   "source": []
  },
  {
   "cell_type": "markdown",
   "metadata": {},
   "source": [
    "Numpy\n",
    "===="
   ]
  },
  {
   "cell_type": "code",
   "execution_count": 57,
   "metadata": {},
   "outputs": [],
   "source": [
    "import numpy as np"
   ]
  },
  {
   "cell_type": "markdown",
   "metadata": {},
   "source": [
    "Exercise 1\n",
    "----"
   ]
  },
  {
   "cell_type": "code",
   "execution_count": 58,
   "metadata": {},
   "outputs": [
    {
     "data": {
      "text/plain": [
       "array([1.e-20, 1.e-19, 1.e-18, 1.e-17, 1.e-16, 1.e-15, 1.e-14, 1.e-13,\n",
       "       1.e-12, 1.e-11, 1.e-10])"
      ]
     },
     "execution_count": 58,
     "metadata": {},
     "output_type": "execute_result"
    }
   ],
   "source": [
    "np.logspace(-20,-10,11)"
   ]
  },
  {
   "cell_type": "code",
   "execution_count": 59,
   "metadata": {},
   "outputs": [
    {
     "data": {
      "text/plain": [
       "array([2., 2., 2., 2., 2., 2., 2., 2., 2., 2.])"
      ]
     },
     "execution_count": 59,
     "metadata": {},
     "output_type": "execute_result"
    }
   ],
   "source": [
    "np.ones(10)*2"
   ]
  },
  {
   "cell_type": "code",
   "execution_count": 68,
   "metadata": {},
   "outputs": [
    {
     "data": {
      "text/plain": [
       "dtype('float64')"
      ]
     },
     "execution_count": 68,
     "metadata": {},
     "output_type": "execute_result"
    }
   ],
   "source": [
    "(np.empty(10)).dtype\n",
    "(np.zeros(10)).dtype"
   ]
  },
  {
   "cell_type": "code",
   "execution_count": 72,
   "metadata": {},
   "outputs": [
    {
     "data": {
      "text/plain": [
       "dtype('float32')"
      ]
     },
     "execution_count": 72,
     "metadata": {},
     "output_type": "execute_result"
    }
   ],
   "source": [
    "np.zeros(5,dtype=np.float32).dtype"
   ]
  },
  {
   "cell_type": "markdown",
   "metadata": {},
   "source": [
    "Exercise 2\n",
    "---"
   ]
  },
  {
   "cell_type": "code",
   "execution_count": 76,
   "metadata": {},
   "outputs": [
    {
     "name": "stdout",
     "output_type": "stream",
     "text": [
      "[0 1 2 3 4 5 6 7 8 9] [1 1 1 1 1 1 1 1 1]\n"
     ]
    }
   ],
   "source": [
    "# Given an array x with 10 elements, find the array dx containing 9 values where dx[i] = x[i+1] - x[i]. Do this without loops!\n",
    "x = np.arange(10)\n",
    "dx = x[1:]-x[:-1]\n",
    "print (x,dx)"
   ]
  },
  {
   "cell_type": "code",
   "execution_count": null,
   "metadata": {},
   "outputs": [],
   "source": [
    "print(10)"
   ]
  },
  {
   "cell_type": "markdown",
   "metadata": {},
   "source": [
    "Exercise 3\n",
    "==="
   ]
  },
  {
   "cell_type": "code",
   "execution_count": 139,
   "metadata": {},
   "outputs": [],
   "source": [
    "import numpy as np\n",
    "x=np.loadtxt('data/munich_temperatures_average_with_bad_data.txt')"
   ]
  },
  {
   "cell_type": "code",
   "execution_count": 142,
   "metadata": {},
   "outputs": [
    {
     "data": {
      "text/plain": [
       "(99.0, -99.0)"
      ]
     },
     "execution_count": 142,
     "metadata": {},
     "output_type": "execute_result"
    }
   ],
   "source": [
    "x[:,1].max(),x[:,1].min()"
   ]
  },
  {
   "cell_type": "code",
   "execution_count": 143,
   "metadata": {},
   "outputs": [
    {
     "data": {
      "text/plain": [
       "array([ 0.944444, -1.61111 , -3.55556 , ..., 10.5556  ,  8.94444 ,\n",
       "       11.1667  ])"
      ]
     },
     "execution_count": 143,
     "metadata": {},
     "output_type": "execute_result"
    }
   ],
   "source": [
    "x[:,1]"
   ]
  },
  {
   "cell_type": "code",
   "execution_count": 149,
   "metadata": {},
   "outputs": [
    {
     "data": {
      "text/plain": [
       "[<matplotlib.lines.Line2D at 0x7fd1ae2ce080>]"
      ]
     },
     "execution_count": 149,
     "metadata": {},
     "output_type": "execute_result"
    },
    {
     "data": {
      "image/png": "[encoded data removed]",
      "text/plain": [
       "<Figure size 432x288 with 1 Axes>"
      ]
     },
     "metadata": {
      "needs_background": "light"
     },
     "output_type": "display_data"
    }
   ],
   "source": [
    "import matplotlib.pyplot as plt\n",
    "plt.plot(x[:,0],x[:,1])"
   ]
  },
  {
   "cell_type": "code",
   "execution_count": 176,
   "metadata": {},
   "outputs": [
    {
     "data": {
      "text/plain": [
       "((6679, 2), (6619,), (6619,))"
      ]
     },
     "execution_count": 176,
     "metadata": {},
     "output_type": "execute_result"
    }
   ],
   "source": [
    "mask = (x[:,1]<=40) & (x[:,1]>=-25)\n",
    "xn = x[:,1][mask]\n",
    "dn = x[:,0][mask]\n",
    "x.shape,xn.shape,dn.shape"
   ]
  },
  {
   "cell_type": "code",
   "execution_count": 177,
   "metadata": {},
   "outputs": [
    {
     "data": {
      "text/plain": [
       "[<matplotlib.lines.Line2D at 0x7fd1996e0be0>]"
      ]
     },
     "execution_count": 177,
     "metadata": {},
     "output_type": "execute_result"
    },
    {
     "data": {
      "image/png": "[encoded data removed]",
      "text/plain": [
       "<Figure size 432x288 with 1 Axes>"
      ]
     },
     "metadata": {
      "needs_background": "light"
     },
     "output_type": "display_data"
    }
   ],
   "source": [
    "plt.plot(dn,xn)"
   ]
  },
  {
   "cell_type": "code",
   "execution_count": null,
   "metadata": {},
   "outputs": [],
   "source": []
  }
 ],
 "metadata": {
  "kernelspec": {
   "display_name": "Python 3",
   "language": "python",
   "name": "python3"
  },
  "language_info": {
   "codemirror_mode": {
    "name": "ipython",
    "version": 3
   },
   "file_extension": ".py",
   "mimetype": "text/x-python",
   "name": "python",
   "nbconvert_exporter": "python",
   "pygments_lexer": "ipython3",
   "version": "3.6.9"
  }
 },
 "nbformat": 4,
 "nbformat_minor": 2
}
