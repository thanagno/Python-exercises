{
 "cells": [
  {
   "cell_type": "code",
   "execution_count": 3,
   "metadata": {},
   "outputs": [],
   "source": [
    "a=1"
   ]
  },
  {
   "cell_type": "code",
   "execution_count": 4,
   "metadata": {},
   "outputs": [
    {
     "name": "stdout",
     "output_type": "stream",
     "text": [
      "1\n"
     ]
    }
   ],
   "source": [
    "print (a)"
   ]
  },
  {
   "cell_type": "code",
   "execution_count": 9,
   "metadata": {},
   "outputs": [
    {
     "data": {
      "text/plain": [
       "Text(0, 0.5, 'y')"
      ]
     },
     "execution_count": 9,
     "metadata": {},
     "output_type": "execute_result"
    },
    {
     "data": {
      "image/png": "[encoded data removed]",
      "text/plain": [
       "<Figure size 432x288 with 1 Axes>"
      ]
     },
     "metadata": {
      "needs_background": "light"
     },
     "output_type": "display_data"
    }
   ],
   "source": [
    "%matplotlib inline\n",
    "import matplotlib.pyplot as plt\n",
    "plt.plot([1,2,3],[4,5,6])\n",
    "plt.xlabel(\"x\")\n",
    "plt.ylabel(\"y\")\n",
    "# plt.savefig('tmp-plot.png')"
   ]
  },
  {
   "cell_type": "markdown",
   "metadata": {},
   "source": [
    "This is a title\n",
    "===============\n",
    "\n",
    "This is a sub-title\n",
    "-------------------\n",
    "$\\Delta x$"
   ]
  },
  {
   "cell_type": "markdown",
   "metadata": {},
   "source": [
    "Exercise 1\n",
    "========"
   ]
  },
  {
   "cell_type": "code",
   "execution_count": 14,
   "metadata": {},
   "outputs": [
    {
     "name": "stdout",
     "output_type": "stream",
     "text": [
      "64 13.559999999999999 (1+0j)\n"
     ]
    }
   ],
   "source": [
    "n1 = 4**3\n",
    "n2 = 2 + 3.4**2\n",
    "n3 = complex(1)**2\n",
    "print (n1,n2,n3)"
   ]
  },
  {
   "cell_type": "code",
   "execution_count": 15,
   "metadata": {},
   "outputs": [],
   "source": [
    "s = \"Spam egg spam spam\""
   ]
  },
  {
   "cell_type": "code",
   "execution_count": 16,
   "metadata": {},
   "outputs": [
    {
     "data": {
      "text/plain": [
       "'m'"
      ]
     },
     "execution_count": 16,
     "metadata": {},
     "output_type": "execute_result"
    }
   ],
   "source": [
    "s[3]"
   ]
  },
  {
   "cell_type": "code",
   "execution_count": 17,
   "metadata": {},
   "outputs": [
    {
     "data": {
      "text/plain": [
       "'SPAM EGG SPAM SPAM'"
      ]
     },
     "execution_count": 17,
     "metadata": {},
     "output_type": "execute_result"
    }
   ],
   "source": [
    "s.upper()"
   ]
  },
  {
   "cell_type": "code",
   "execution_count": 18,
   "metadata": {},
   "outputs": [
    {
     "data": {
      "text/plain": [
       "'spam egg spam spam'"
      ]
     },
     "execution_count": 18,
     "metadata": {},
     "output_type": "execute_result"
    }
   ],
   "source": [
    "s.lower()"
   ]
  },
  {
   "cell_type": "code",
   "execution_count": 19,
   "metadata": {},
   "outputs": [
    {
     "data": {
      "text/plain": [
       "5"
      ]
     },
     "execution_count": 19,
     "metadata": {},
     "output_type": "execute_result"
    }
   ],
   "source": [
    "s.index('egg')"
   ]
  },
  {
   "cell_type": "code",
   "execution_count": 20,
   "metadata": {},
   "outputs": [
    {
     "data": {
      "text/plain": [
       "['Spam', 'egg', 'spam', 'spam']"
      ]
     },
     "execution_count": 20,
     "metadata": {},
     "output_type": "execute_result"
    }
   ],
   "source": [
    "s.split()"
   ]
  },
  {
   "cell_type": "code",
   "execution_count": 21,
   "metadata": {},
   "outputs": [],
   "source": [
    "li = [4, 5.5, \"spam\"]"
   ]
  },
  {
   "cell_type": "code",
   "execution_count": 23,
   "metadata": {},
   "outputs": [
    {
     "data": {
      "text/plain": [
       "[4, 5.5, 'spam', -2]"
      ]
     },
     "execution_count": 23,
     "metadata": {},
     "output_type": "execute_result"
    }
   ],
   "source": [
    "li.append(-2)\n",
    "\n",
    "li"
   ]
  },
  {
   "cell_type": "code",
   "execution_count": 26,
   "metadata": {},
   "outputs": [
    {
     "data": {
      "text/plain": [
       "[4, 5.5, 'spam', 9, 9, -2]"
      ]
     },
     "execution_count": 26,
     "metadata": {},
     "output_type": "execute_result"
    }
   ],
   "source": [
    "li.insert(3,9)\n",
    "\n",
    "li"
   ]
  },
  {
   "cell_type": "markdown",
   "metadata": {},
   "source": [
    "Exercise 2\n",
    "===="
   ]
  },
  {
   "cell_type": "code",
   "execution_count": 27,
   "metadata": {},
   "outputs": [],
   "source": [
    "a = \"Hello, egg world!\""
   ]
  },
  {
   "cell_type": "code",
   "execution_count": 34,
   "metadata": {},
   "outputs": [
    {
     "name": "stdout",
     "output_type": "stream",
     "text": [
      "Hello, world!\n"
     ]
    }
   ],
   "source": [
    "an = a.split()[0]+' '+a.split()[2]\n",
    "print (an)"
   ]
  },
  {
   "cell_type": "code",
   "execution_count": 35,
   "metadata": {},
   "outputs": [],
   "source": [
    "li = [3, 1, 2, 1]"
   ]
  },
  {
   "cell_type": "code",
   "execution_count": 37,
   "metadata": {},
   "outputs": [],
   "source": [
    "li.clear?"
   ]
  },
  {
   "cell_type": "markdown",
   "metadata": {},
   "source": [
    "Exercise 3\n",
    "===="
   ]
  },
  {
   "cell_type": "code",
   "execution_count": 38,
   "metadata": {},
   "outputs": [
    {
     "data": {
      "text/plain": [
       "8"
      ]
     },
     "execution_count": 38,
     "metadata": {},
     "output_type": "execute_result"
    }
   ],
   "source": [
    "s = \"CAGTACCAAGTGAAAGAT\"\n",
    "s.count('A')"
   ]
  },
  {
   "cell_type": "code",
   "execution_count": 39,
   "metadata": {},
   "outputs": [],
   "source": [
    "s.count?"
   ]
  },
  {
   "cell_type": "code",
   "execution_count": 40,
   "metadata": {},
   "outputs": [],
   "source": [
    "a = [1, 2, 3]\n",
    "b = [4, 5, 6]"
   ]
  },
  {
   "cell_type": "code",
   "execution_count": 54,
   "metadata": {},
   "outputs": [
    {
     "name": "stdout",
     "output_type": "stream",
     "text": [
      "[1, 2, 3, 4, 5, 6]\n"
     ]
    }
   ],
   "source": [
    "c = a.copy()+b.copy()\n",
    "print (c)"
   ]
  },
  {
   "cell_type": "code",
   "execution_count": 59,
   "metadata": {},
   "outputs": [
    {
     "data": {
      "text/plain": [
       "array([15., 16.])"
      ]
     },
     "execution_count": 59,
     "metadata": {},
     "output_type": "execute_result"
    }
   ],
   "source": [
    "import numpy as np\n",
    "np.round([15.4,15.5])"
   ]
  },
  {
   "cell_type": "markdown",
   "metadata": {},
   "source": [
    "Booleans, Tuples & Dict.\n",
    "=====\n",
    "Exercise 1\n",
    "----------"
   ]
  },
  {
   "cell_type": "code",
   "execution_count": 1,
   "metadata": {},
   "outputs": [
    {
     "data": {
      "text/plain": [
       "True"
      ]
     },
     "execution_count": 1,
     "metadata": {},
     "output_type": "execute_result"
    }
   ],
   "source": [
    "x = 3.7\n",
    "x>3.4 and x<= 6.6 or x==2"
   ]
  },
  {
   "cell_type": "code",
   "execution_count": 4,
   "metadata": {},
   "outputs": [],
   "source": [
    "t = (1,2,3,'tmp')"
   ]
  },
  {
   "cell_type": "code",
   "execution_count": 5,
   "metadata": {},
   "outputs": [
    {
     "data": {
      "text/plain": [
       "'tmp'"
      ]
     },
     "execution_count": 5,
     "metadata": {},
     "output_type": "execute_result"
    }
   ],
   "source": [
    "t[-1]"
   ]
  },
  {
   "cell_type": "code",
   "execution_count": 6,
   "metadata": {},
   "outputs": [
    {
     "data": {
      "text/plain": [
       "1"
      ]
     },
     "execution_count": 6,
     "metadata": {},
     "output_type": "execute_result"
    }
   ],
   "source": [
    "d = {'a':1,'b':55,'c':12}\n",
    "d['a']"
   ]
  },
  {
   "cell_type": "code",
   "execution_count": 7,
   "metadata": {},
   "outputs": [
    {
     "data": {
      "text/plain": [
       "{'a': 1, 'b': 55, 'c': 12, 'r': 90}"
      ]
     },
     "execution_count": 7,
     "metadata": {},
     "output_type": "execute_result"
    }
   ],
   "source": [
    "d['r'] =90\n",
    "d"
   ]
  },
  {
   "cell_type": "code",
   "execution_count": 8,
   "metadata": {},
   "outputs": [
    {
     "name": "stdout",
     "output_type": "stream",
     "text": [
      "{'a-string': 3.3, 3445: 2.2, (2+1j): 'value'}\n"
     ]
    }
   ],
   "source": [
    "e={}\n",
    "e['a-string']=3.3\n",
    "e[3445] = 2.2\n",
    "e[complex(2,1)]='value'\n",
    "print (e)"
   ]
  },
  {
   "cell_type": "code",
   "execution_count": 9,
   "metadata": {},
   "outputs": [
    {
     "data": {
      "text/plain": [
       "True"
      ]
     },
     "execution_count": 9,
     "metadata": {},
     "output_type": "execute_result"
    }
   ],
   "source": [
    "'b' in d"
   ]
  },
  {
   "cell_type": "markdown",
   "metadata": {},
   "source": [
    "Exercise 2\n",
    "---------"
   ]
  },
  {
   "cell_type": "code",
   "execution_count": 15,
   "metadata": {},
   "outputs": [
    {
     "data": {
      "text/plain": [
       "'Ich bin studente'"
      ]
     },
     "execution_count": 15,
     "metadata": {},
     "output_type": "execute_result"
    }
   ],
   "source": [
    "dg = {'I':'Ich', 'am':'bin', 'student':'studente'}\n",
    "dg['I']+' '+dg['am']+' '+dg['student']"
   ]
  },
  {
   "cell_type": "markdown",
   "metadata": {},
   "source": [
    "Control flow\n",
    "========="
   ]
  },
  {
   "cell_type": "markdown",
   "metadata": {},
   "source": [
    "Exercise 1&2\n",
    "-------"
   ]
  },
  {
   "cell_type": "code",
   "execution_count": 23,
   "metadata": {},
   "outputs": [
    {
     "name": "stdout",
     "output_type": "stream",
     "text": [
      "0  is prime\n",
      "1  is prime\n",
      "2  is prime\n",
      "3  is prime\n",
      "5  is prime\n",
      "7  is prime\n",
      "11  is prime\n",
      "13  is prime\n",
      "17  is prime\n",
      "19  is prime\n",
      "23  is prime\n",
      "29  is prime\n",
      "31  is prime\n",
      "37  is prime\n",
      "41  is prime\n",
      "43  is prime\n",
      "47  is prime\n",
      "53  is prime\n",
      "59  is prime\n",
      "61  is prime\n",
      "67  is prime\n",
      "71  is prime\n",
      "73  is prime\n",
      "79  is prime\n",
      "83  is prime\n",
      "89  is prime\n",
      "97  is prime\n",
      "101  is prime\n",
      "103  is prime\n",
      "107  is prime\n",
      "109  is prime\n",
      "113  is prime\n",
      "127  is prime\n",
      "131  is prime\n",
      "137  is prime\n",
      "139  is prime\n",
      "149  is prime\n",
      "151  is prime\n",
      "157  is prime\n",
      "163  is prime\n",
      "167  is prime\n",
      "173  is prime\n",
      "179  is prime\n",
      "181  is prime\n",
      "191  is prime\n",
      "193  is prime\n",
      "197  is prime\n",
      "199  is prime\n",
      "211  is prime\n",
      "223  is prime\n",
      "227  is prime\n",
      "229  is prime\n",
      "233  is prime\n",
      "239  is prime\n",
      "241  is prime\n",
      "251  is prime\n",
      "257  is prime\n",
      "263  is prime\n",
      "269  is prime\n",
      "271  is prime\n",
      "277  is prime\n",
      "281  is prime\n",
      "283  is prime\n",
      "293  is prime\n",
      "307  is prime\n",
      "311  is prime\n",
      "313  is prime\n",
      "317  is prime\n",
      "331  is prime\n",
      "337  is prime\n",
      "347  is prime\n",
      "349  is prime\n",
      "353  is prime\n",
      "359  is prime\n",
      "367  is prime\n",
      "373  is prime\n",
      "379  is prime\n",
      "383  is prime\n",
      "389  is prime\n",
      "397  is prime\n",
      "401  is prime\n",
      "409  is prime\n",
      "419  is prime\n",
      "421  is prime\n",
      "431  is prime\n",
      "433  is prime\n",
      "439  is prime\n",
      "443  is prime\n",
      "449  is prime\n",
      "457  is prime\n",
      "461  is prime\n",
      "463  is prime\n",
      "467  is prime\n",
      "479  is prime\n",
      "487  is prime\n",
      "491  is prime\n",
      "499  is prime\n",
      "503  is prime\n",
      "509  is prime\n",
      "521  is prime\n",
      "523  is prime\n",
      "541  is prime\n",
      "547  is prime\n",
      "557  is prime\n",
      "563  is prime\n",
      "569  is prime\n",
      "571  is prime\n",
      "577  is prime\n",
      "587  is prime\n",
      "593  is prime\n",
      "599  is prime\n",
      "601  is prime\n",
      "607  is prime\n",
      "613  is prime\n",
      "617  is prime\n",
      "619  is prime\n",
      "631  is prime\n",
      "641  is prime\n",
      "643  is prime\n",
      "647  is prime\n",
      "653  is prime\n",
      "659  is prime\n",
      "661  is prime\n",
      "673  is prime\n",
      "677  is prime\n",
      "683  is prime\n",
      "691  is prime\n",
      "701  is prime\n",
      "709  is prime\n",
      "719  is prime\n",
      "727  is prime\n",
      "733  is prime\n",
      "739  is prime\n",
      "743  is prime\n",
      "751  is prime\n",
      "757  is prime\n",
      "761  is prime\n",
      "769  is prime\n",
      "773  is prime\n",
      "787  is prime\n",
      "797  is prime\n",
      "809  is prime\n",
      "811  is prime\n",
      "821  is prime\n",
      "823  is prime\n",
      "827  is prime\n",
      "829  is prime\n",
      "839  is prime\n",
      "853  is prime\n",
      "857  is prime\n",
      "859  is prime\n",
      "863  is prime\n",
      "877  is prime\n",
      "881  is prime\n",
      "883  is prime\n",
      "887  is prime\n",
      "907  is prime\n",
      "911  is prime\n",
      "919  is prime\n",
      "929  is prime\n",
      "937  is prime\n",
      "941  is prime\n",
      "947  is prime\n",
      "953  is prime\n",
      "967  is prime\n",
      "971  is prime\n",
      "977  is prime\n",
      "983  is prime\n",
      "991  is prime\n",
      "997  is prime\n"
     ]
    }
   ],
   "source": [
    "for i in range(1000):\n",
    "    for j in range(2,i):\n",
    "        if i%j==0:\n",
    "            break\n",
    "    else:\n",
    "        print (i,' is prime')"
   ]
  },
  {
   "cell_type": "code",
   "execution_count": 1,
   "metadata": {},
   "outputs": [
    {
     "name": "stdout",
     "output_type": "stream",
     "text": [
      "0\n",
      "1\n",
      "3\n",
      "5\n",
      "6\n",
      "7\n"
     ]
    }
   ],
   "source": [
    "for i in range(8):\n",
    "    if i==2 or i==4:\n",
    "        continue\n",
    "    print (i)"
   ]
  },
  {
   "cell_type": "markdown",
   "metadata": {},
   "source": [
    "Exercise 3\n",
    "----------"
   ]
  },
  {
   "cell_type": "code",
   "execution_count": 16,
   "metadata": {},
   "outputs": [
    {
     "name": "stdout",
     "output_type": "stream",
     "text": [
      "[0, 1, 1, 2, 3, 5, 8, 13, 21, 34, 55, 89, 144, 233, 377, 610, 987, 1597, 2584, 4181, 6765, 10946, 17711, 28657, 46368, 75025]\n"
     ]
    }
   ],
   "source": [
    "i=0\n",
    "f = [0,1]\n",
    "while (f[-1]+f[-2])<100000:\n",
    "    f.append(f[-2]+f[-1])\n",
    "    i+=1\n",
    "print (f)"
   ]
  },
  {
   "cell_type": "code",
   "execution_count": 17,
   "metadata": {},
   "outputs": [
    {
     "name": "stdout",
     "output_type": "stream",
     "text": [
      "[1]\n"
     ]
    }
   ],
   "source": [
    "fn = []\n",
    "i=0\n",
    "for n1 in f:\n",
    "    #print (n1)\n",
    "    for n2 in f[i+1:]:\n",
    "        if n1**2==n2:\n",
    "            fn.append(n1)\n",
    "    i+=1\n",
    "\n",
    "print (fn)"
   ]
  },
  {
   "cell_type": "markdown",
   "metadata": {},
   "source": [
    "Practice problem \"caesar cipher\"\n",
    "---------------"
   ]
  },
  {
   "cell_type": "markdown",
   "metadata": {},
   "source": [
    "Way 1\n",
    "-------"
   ]
  },
  {
   "cell_type": "code",
   "execution_count": 1,
   "metadata": {},
   "outputs": [],
   "source": [
    "def caesar_meth(string,shift):\n",
    "    nstring = ''\n",
    "    #chk for spaces\n",
    "    for let in string:\n",
    "        if let == ' ':\n",
    "            nlet = ' '\n",
    "        else:\n",
    "            let2a = ord(let)+shift\n",
    "            #check for ascii ordergin out of bounds\n",
    "            if let2a > ord('z'):\n",
    "                let2a-=26\n",
    "            elif let2a < ord('a'):\n",
    "                let2a+=26\n",
    "            nlet = chr(let2a)\n",
    "\n",
    "        nstring += nlet\n",
    "\n",
    "    return nstring"
   ]
  },
  {
   "cell_type": "code",
   "execution_count": 8,
   "metadata": {},
   "outputs": [
    {
     "name": "stdout",
     "output_type": "stream",
     "text": [
      "congratulations you have succeeded in decrypting the string\n"
     ]
    }
   ],
   "source": [
    "print(caesar_meth(\"pbatenghyngvbaf lbh unir fhpprrqrq va qrpelcgvat gur fgevat\", -13))"
   ]
  },
  {
   "cell_type": "code",
   "execution_count": 10,
   "metadata": {},
   "outputs": [
    {
     "name": "stdout",
     "output_type": "stream",
     "text": [
      "0 gwc uivioml bw nqvl bpm zqopb apqnb\n",
      "1 fvb thuhnlk av mpuk aol ypnoa zopma\n",
      "2 eua sgtgmkj zu lotj znk xomnz ynolz\n",
      "3 dtz rfsflji yt knsi ymj wnlmy xmnky\n",
      "4 csy qerekih xs jmrh xli vmklx wlmjx\n",
      "5 brx pdqdjhg wr ilqg wkh uljkw vkliw\n",
      "6 aqw ocpcigf vq hkpf vjg tkijv ujkhv\n",
      "7 zpv nbobhfe up gjoe uif sjhiu tijgu\n",
      "8 you managed to find the right shift\n",
      "9 xnt lzmzfdc sn ehmc sgd qhfgs rghes\n",
      "10 wms kylyecb rm dglb rfc pgefr qfgdr\n",
      "11 vlr jxkxdba ql cfka qeb ofdeq pefcq\n",
      "12 ukq iwjwcaz pk bejz pda necdp odebp\n",
      "13 tjp hvivbzy oj adiy ocz mdbco ncdao\n",
      "14 sio guhuayx ni zchx nby lcabn mbczn\n",
      "15 rhn ftgtzxw mh ybgw max kbzam labym\n",
      "16 qgm esfsywv lg xafv lzw jayzl kzaxl\n",
      "17 pfl drerxvu kf wzeu kyv izxyk jyzwk\n",
      "18 oek cqdqwut je vydt jxu hywxj ixyvj\n",
      "19 ndj bpcpvts id uxcs iwt gxvwi hwxui\n",
      "20 mci aobousr hc twbr hvs fwuvh gvwth\n",
      "21 lbh znantrq gb svaq gur evtug fuvsg\n",
      "22 kag ymzmsqp fa ruzp ftq dustf eturf\n",
      "23 jzf xlylrpo ez qtyo esp ctrse dstqe\n",
      "24 iye wkxkqon dy psxn dro bsqrd crspd\n",
      "25 hxd vjwjpnm cx orwm cqn arpqc bqroc\n"
     ]
    }
   ],
   "source": [
    "for shift in range(26):\n",
    "    print(shift, caesar_meth(\"gwc uivioml bw nqvl bpm zqopb apqnb\", -shift))"
   ]
  },
  {
   "cell_type": "markdown",
   "metadata": {},
   "source": [
    "Way 2\n",
    "----------"
   ]
  },
  {
   "cell_type": "code",
   "execution_count": 66,
   "metadata": {},
   "outputs": [
    {
     "data": {
      "text/plain": [
       "'abcdefghijklmnopqrstuvwxyz'"
      ]
     },
     "execution_count": 66,
     "metadata": {},
     "output_type": "execute_result"
    }
   ],
   "source": [
    "import string\n",
    "p=string.ascii_lowercase\n",
    "p"
   ]
  },
  {
   "cell_type": "code",
   "execution_count": 25,
   "metadata": {},
   "outputs": [],
   "source": [
    "em = 'pbatenghyngvbaf lbh unir fhpprrqrq va qrpelcgvat gur fgevat'"
   ]
  },
  {
   "cell_type": "code",
   "execution_count": 64,
   "metadata": {
    "scrolled": true
   },
   "outputs": [
    {
     "data": {
      "text/plain": [
       "'congratulations you have succeeded in decrypting the string'"
      ]
     },
     "execution_count": 64,
     "metadata": {},
     "output_type": "execute_result"
    }
   ],
   "source": [
    "c = ''\n",
    "for i in em:\n",
    "    if i!=' ':\n",
    "        c += p[p.find(i)-13]\n",
    "    else:\n",
    "        c+= ' '\n",
    "\n",
    "c"
   ]
  },
  {
   "cell_type": "code",
   "execution_count": 74,
   "metadata": {},
   "outputs": [
    {
     "data": {
      "text/plain": [
       "'0gwc uivioml bw nqvl bpm zqopb apqnb1gwc uivioml bw nqvl bpm zqopb apqnbfvb thuhnlk av mpuk aol ypnoa zopma2gwc uivioml bw nqvl bpm zqopb apqnbfvb thuhnlk av mpuk aol ypnoa zopmaeua sgtgmkj zu lotj znk xomnz ynolz3gwc uivioml bw nqvl bpm zqopb apqnbfvb thuhnlk av mpuk aol ypnoa zopmaeua sgtgmkj zu lotj znk xomnz ynolzdtz rfsflji yt knsi ymj wnlmy xmnky4gwc uivioml bw nqvl bpm zqopb apqnbfvb thuhnlk av mpuk aol ypnoa zopmaeua sgtgmkj zu lotj znk xomnz ynolzdtz rfsflji yt knsi ymj wnlmy xmnkycsy qerekih xs jmrh xli vmklx wlmjx5gwc uivioml bw nqvl bpm zqopb apqnbfvb thuhnlk av mpuk aol ypnoa zopmaeua sgtgmkj zu lotj znk xomnz ynolzdtz rfsflji yt knsi ymj wnlmy xmnkycsy qerekih xs jmrh xli vmklx wlmjxbrx pdqdjhg wr ilqg wkh uljkw vkliw6gwc uivioml bw nqvl bpm zqopb apqnbfvb thuhnlk av mpuk aol ypnoa zopmaeua sgtgmkj zu lotj znk xomnz ynolzdtz rfsflji yt knsi ymj wnlmy xmnkycsy qerekih xs jmrh xli vmklx wlmjxbrx pdqdjhg wr ilqg wkh uljkw vkliwaqw ocpcigf vq hkpf vjg tkijv ujkhv7gwc uivioml bw nqvl bpm zqopb apqnbfvb thuhnlk av mpuk aol ypnoa zopmaeua sgtgmkj zu lotj znk xomnz ynolzdtz rfsflji yt knsi ymj wnlmy xmnkycsy qerekih xs jmrh xli vmklx wlmjxbrx pdqdjhg wr ilqg wkh uljkw vkliwaqw ocpcigf vq hkpf vjg tkijv ujkhvzpv nbobhfe up gjoe uif sjhiu tijgu8gwc uivioml bw nqvl bpm zqopb apqnbfvb thuhnlk av mpuk aol ypnoa zopmaeua sgtgmkj zu lotj znk xomnz ynolzdtz rfsflji yt knsi ymj wnlmy xmnkycsy qerekih xs jmrh xli vmklx wlmjxbrx pdqdjhg wr ilqg wkh uljkw vkliwaqw ocpcigf vq hkpf vjg tkijv ujkhvzpv nbobhfe up gjoe uif sjhiu tijguyou managed to find the right shift9gwc uivioml bw nqvl bpm zqopb apqnbfvb thuhnlk av mpuk aol ypnoa zopmaeua sgtgmkj zu lotj znk xomnz ynolzdtz rfsflji yt knsi ymj wnlmy xmnkycsy qerekih xs jmrh xli vmklx wlmjxbrx pdqdjhg wr ilqg wkh uljkw vkliwaqw ocpcigf vq hkpf vjg tkijv ujkhvzpv nbobhfe up gjoe uif sjhiu tijguyou managed to find the right shiftxnt lzmzfdc sn ehmc sgd qhfgs rghes10gwc uivioml bw nqvl bpm zqopb apqnbfvb thuhnlk av mpuk aol ypnoa zopmaeua sgtgmkj zu lotj znk xomnz ynolzdtz rfsflji yt knsi ymj wnlmy xmnkycsy qerekih xs jmrh xli vmklx wlmjxbrx pdqdjhg wr ilqg wkh uljkw vkliwaqw ocpcigf vq hkpf vjg tkijv ujkhvzpv nbobhfe up gjoe uif sjhiu tijguyou managed to find the right shiftxnt lzmzfdc sn ehmc sgd qhfgs rgheswms kylyecb rm dglb rfc pgefr qfgdr11gwc uivioml bw nqvl bpm zqopb apqnbfvb thuhnlk av mpuk aol ypnoa zopmaeua sgtgmkj zu lotj znk xomnz ynolzdtz rfsflji yt knsi ymj wnlmy xmnkycsy qerekih xs jmrh xli vmklx wlmjxbrx pdqdjhg wr ilqg wkh uljkw vkliwaqw ocpcigf vq hkpf vjg tkijv ujkhvzpv nbobhfe up gjoe uif sjhiu tijguyou managed to find the right shiftxnt lzmzfdc sn ehmc sgd qhfgs rgheswms kylyecb rm dglb rfc pgefr qfgdrvlr jxkxdba ql cfka qeb ofdeq pefcq12gwc uivioml bw nqvl bpm zqopb apqnbfvb thuhnlk av mpuk aol ypnoa zopmaeua sgtgmkj zu lotj znk xomnz ynolzdtz rfsflji yt knsi ymj wnlmy xmnkycsy qerekih xs jmrh xli vmklx wlmjxbrx pdqdjhg wr ilqg wkh uljkw vkliwaqw ocpcigf vq hkpf vjg tkijv ujkhvzpv nbobhfe up gjoe uif sjhiu tijguyou managed to find the right shiftxnt lzmzfdc sn ehmc sgd qhfgs rgheswms kylyecb rm dglb rfc pgefr qfgdrvlr jxkxdba ql cfka qeb ofdeq pefcqukq iwjwcaz pk bejz pda necdp odebp13gwc uivioml bw nqvl bpm zqopb apqnbfvb thuhnlk av mpuk aol ypnoa zopmaeua sgtgmkj zu lotj znk xomnz ynolzdtz rfsflji yt knsi ymj wnlmy xmnkycsy qerekih xs jmrh xli vmklx wlmjxbrx pdqdjhg wr ilqg wkh uljkw vkliwaqw ocpcigf vq hkpf vjg tkijv ujkhvzpv nbobhfe up gjoe uif sjhiu tijguyou managed to find the right shiftxnt lzmzfdc sn ehmc sgd qhfgs rgheswms kylyecb rm dglb rfc pgefr qfgdrvlr jxkxdba ql cfka qeb ofdeq pefcqukq iwjwcaz pk bejz pda necdp odebptjp hvivbzy oj adiy ocz mdbco ncdao14gwc uivioml bw nqvl bpm zqopb apqnbfvb thuhnlk av mpuk aol ypnoa zopmaeua sgtgmkj zu lotj znk xomnz ynolzdtz rfsflji yt knsi ymj wnlmy xmnkycsy qerekih xs jmrh xli vmklx wlmjxbrx pdqdjhg wr ilqg wkh uljkw vkliwaqw ocpcigf vq hkpf vjg tkijv ujkhvzpv nbobhfe up gjoe uif sjhiu tijguyou managed to find the right shiftxnt lzmzfdc sn ehmc sgd qhfgs rgheswms kylyecb rm dglb rfc pgefr qfgdrvlr jxkxdba ql cfka qeb ofdeq pefcqukq iwjwcaz pk bejz pda necdp odebptjp hvivbzy oj adiy ocz mdbco ncdaosio guhuayx ni zchx nby lcabn mbczn15gwc uivioml bw nqvl bpm zqopb apqnbfvb thuhnlk av mpuk aol ypnoa zopmaeua sgtgmkj zu lotj znk xomnz ynolzdtz rfsflji yt knsi ymj wnlmy xmnkycsy qerekih xs jmrh xli vmklx wlmjxbrx pdqdjhg wr ilqg wkh uljkw vkliwaqw ocpcigf vq hkpf vjg tkijv ujkhvzpv nbobhfe up gjoe uif sjhiu tijguyou managed to find the right shiftxnt lzmzfdc sn ehmc sgd qhfgs rgheswms kylyecb rm dglb rfc pgefr qfgdrvlr jxkxdba ql cfka qeb ofdeq pefcqukq iwjwcaz pk bejz pda necdp odebptjp hvivbzy oj adiy ocz mdbco ncdaosio guhuayx ni zchx nby lcabn mbcznrhn ftgtzxw mh ybgw max kbzam labym16gwc uivioml bw nqvl bpm zqopb apqnbfvb thuhnlk av mpuk aol ypnoa zopmaeua sgtgmkj zu lotj znk xomnz ynolzdtz rfsflji yt knsi ymj wnlmy xmnkycsy qerekih xs jmrh xli vmklx wlmjxbrx pdqdjhg wr ilqg wkh uljkw vkliwaqw ocpcigf vq hkpf vjg tkijv ujkhvzpv nbobhfe up gjoe uif sjhiu tijguyou managed to find the right shiftxnt lzmzfdc sn ehmc sgd qhfgs rgheswms kylyecb rm dglb rfc pgefr qfgdrvlr jxkxdba ql cfka qeb ofdeq pefcqukq iwjwcaz pk bejz pda necdp odebptjp hvivbzy oj adiy ocz mdbco ncdaosio guhuayx ni zchx nby lcabn mbcznrhn ftgtzxw mh ybgw max kbzam labymqgm esfsywv lg xafv lzw jayzl kzaxl17gwc uivioml bw nqvl bpm zqopb apqnbfvb thuhnlk av mpuk aol ypnoa zopmaeua sgtgmkj zu lotj znk xomnz ynolzdtz rfsflji yt knsi ymj wnlmy xmnkycsy qerekih xs jmrh xli vmklx wlmjxbrx pdqdjhg wr ilqg wkh uljkw vkliwaqw ocpcigf vq hkpf vjg tkijv ujkhvzpv nbobhfe up gjoe uif sjhiu tijguyou managed to find the right shiftxnt lzmzfdc sn ehmc sgd qhfgs rgheswms kylyecb rm dglb rfc pgefr qfgdrvlr jxkxdba ql cfka qeb ofdeq pefcqukq iwjwcaz pk bejz pda necdp odebptjp hvivbzy oj adiy ocz mdbco ncdaosio guhuayx ni zchx nby lcabn mbcznrhn ftgtzxw mh ybgw max kbzam labymqgm esfsywv lg xafv lzw jayzl kzaxlpfl drerxvu kf wzeu kyv izxyk jyzwk18gwc uivioml bw nqvl bpm zqopb apqnbfvb thuhnlk av mpuk aol ypnoa zopmaeua sgtgmkj zu lotj znk xomnz ynolzdtz rfsflji yt knsi ymj wnlmy xmnkycsy qerekih xs jmrh xli vmklx wlmjxbrx pdqdjhg wr ilqg wkh uljkw vkliwaqw ocpcigf vq hkpf vjg tkijv ujkhvzpv nbobhfe up gjoe uif sjhiu tijguyou managed to find the right shiftxnt lzmzfdc sn ehmc sgd qhfgs rgheswms kylyecb rm dglb rfc pgefr qfgdrvlr jxkxdba ql cfka qeb ofdeq pefcqukq iwjwcaz pk bejz pda necdp odebptjp hvivbzy oj adiy ocz mdbco ncdaosio guhuayx ni zchx nby lcabn mbcznrhn ftgtzxw mh ybgw max kbzam labymqgm esfsywv lg xafv lzw jayzl kzaxlpfl drerxvu kf wzeu kyv izxyk jyzwkoek cqdqwut je vydt jxu hywxj ixyvj19gwc uivioml bw nqvl bpm zqopb apqnbfvb thuhnlk av mpuk aol ypnoa zopmaeua sgtgmkj zu lotj znk xomnz ynolzdtz rfsflji yt knsi ymj wnlmy xmnkycsy qerekih xs jmrh xli vmklx wlmjxbrx pdqdjhg wr ilqg wkh uljkw vkliwaqw ocpcigf vq hkpf vjg tkijv ujkhvzpv nbobhfe up gjoe uif sjhiu tijguyou managed to find the right shiftxnt lzmzfdc sn ehmc sgd qhfgs rgheswms kylyecb rm dglb rfc pgefr qfgdrvlr jxkxdba ql cfka qeb ofdeq pefcqukq iwjwcaz pk bejz pda necdp odebptjp hvivbzy oj adiy ocz mdbco ncdaosio guhuayx ni zchx nby lcabn mbcznrhn ftgtzxw mh ybgw max kbzam labymqgm esfsywv lg xafv lzw jayzl kzaxlpfl drerxvu kf wzeu kyv izxyk jyzwkoek cqdqwut je vydt jxu hywxj ixyvjndj bpcpvts id uxcs iwt gxvwi hwxui20gwc uivioml bw nqvl bpm zqopb apqnbfvb thuhnlk av mpuk aol ypnoa zopmaeua sgtgmkj zu lotj znk xomnz ynolzdtz rfsflji yt knsi ymj wnlmy xmnkycsy qerekih xs jmrh xli vmklx wlmjxbrx pdqdjhg wr ilqg wkh uljkw vkliwaqw ocpcigf vq hkpf vjg tkijv ujkhvzpv nbobhfe up gjoe uif sjhiu tijguyou managed to find the right shiftxnt lzmzfdc sn ehmc sgd qhfgs rgheswms kylyecb rm dglb rfc pgefr qfgdrvlr jxkxdba ql cfka qeb ofdeq pefcqukq iwjwcaz pk bejz pda necdp odebptjp hvivbzy oj adiy ocz mdbco ncdaosio guhuayx ni zchx nby lcabn mbcznrhn ftgtzxw mh ybgw max kbzam labymqgm esfsywv lg xafv lzw jayzl kzaxlpfl drerxvu kf wzeu kyv izxyk jyzwkoek cqdqwut je vydt jxu hywxj ixyvjndj bpcpvts id uxcs iwt gxvwi hwxuimci aobousr hc twbr hvs fwuvh gvwth21gwc uivioml bw nqvl bpm zqopb apqnbfvb thuhnlk av mpuk aol ypnoa zopmaeua sgtgmkj zu lotj znk xomnz ynolzdtz rfsflji yt knsi ymj wnlmy xmnkycsy qerekih xs jmrh xli vmklx wlmjxbrx pdqdjhg wr ilqg wkh uljkw vkliwaqw ocpcigf vq hkpf vjg tkijv ujkhvzpv nbobhfe up gjoe uif sjhiu tijguyou managed to find the right shiftxnt lzmzfdc sn ehmc sgd qhfgs rgheswms kylyecb rm dglb rfc pgefr qfgdrvlr jxkxdba ql cfka qeb ofdeq pefcqukq iwjwcaz pk bejz pda necdp odebptjp hvivbzy oj adiy ocz mdbco ncdaosio guhuayx ni zchx nby lcabn mbcznrhn ftgtzxw mh ybgw max kbzam labymqgm esfsywv lg xafv lzw jayzl kzaxlpfl drerxvu kf wzeu kyv izxyk jyzwkoek cqdqwut je vydt jxu hywxj ixyvjndj bpcpvts id uxcs iwt gxvwi hwxuimci aobousr hc twbr hvs fwuvh gvwthlbh znantrq gb svaq gur evtug fuvsg22gwc uivioml bw nqvl bpm zqopb apqnbfvb thuhnlk av mpuk aol ypnoa zopmaeua sgtgmkj zu lotj znk xomnz ynolzdtz rfsflji yt knsi ymj wnlmy xmnkycsy qerekih xs jmrh xli vmklx wlmjxbrx pdqdjhg wr ilqg wkh uljkw vkliwaqw ocpcigf vq hkpf vjg tkijv ujkhvzpv nbobhfe up gjoe uif sjhiu tijguyou managed to find the right shiftxnt lzmzfdc sn ehmc sgd qhfgs rgheswms kylyecb rm dglb rfc pgefr qfgdrvlr jxkxdba ql cfka qeb ofdeq pefcqukq iwjwcaz pk bejz pda necdp odebptjp hvivbzy oj adiy ocz mdbco ncdaosio guhuayx ni zchx nby lcabn mbcznrhn ftgtzxw mh ybgw max kbzam labymqgm esfsywv lg xafv lzw jayzl kzaxlpfl drerxvu kf wzeu kyv izxyk jyzwkoek cqdqwut je vydt jxu hywxj ixyvjndj bpcpvts id uxcs iwt gxvwi hwxuimci aobousr hc twbr hvs fwuvh gvwthlbh znantrq gb svaq gur evtug fuvsgkag ymzmsqp fa ruzp ftq dustf eturf23gwc uivioml bw nqvl bpm zqopb apqnbfvb thuhnlk av mpuk aol ypnoa zopmaeua sgtgmkj zu lotj znk xomnz ynolzdtz rfsflji yt knsi ymj wnlmy xmnkycsy qerekih xs jmrh xli vmklx wlmjxbrx pdqdjhg wr ilqg wkh uljkw vkliwaqw ocpcigf vq hkpf vjg tkijv ujkhvzpv nbobhfe up gjoe uif sjhiu tijguyou managed to find the right shiftxnt lzmzfdc sn ehmc sgd qhfgs rgheswms kylyecb rm dglb rfc pgefr qfgdrvlr jxkxdba ql cfka qeb ofdeq pefcqukq iwjwcaz pk bejz pda necdp odebptjp hvivbzy oj adiy ocz mdbco ncdaosio guhuayx ni zchx nby lcabn mbcznrhn ftgtzxw mh ybgw max kbzam labymqgm esfsywv lg xafv lzw jayzl kzaxlpfl drerxvu kf wzeu kyv izxyk jyzwkoek cqdqwut je vydt jxu hywxj ixyvjndj bpcpvts id uxcs iwt gxvwi hwxuimci aobousr hc twbr hvs fwuvh gvwthlbh znantrq gb svaq gur evtug fuvsgkag ymzmsqp fa ruzp ftq dustf eturfjzf xlylrpo ez qtyo esp ctrse dstqe24gwc uivioml bw nqvl bpm zqopb apqnbfvb thuhnlk av mpuk aol ypnoa zopmaeua sgtgmkj zu lotj znk xomnz ynolzdtz rfsflji yt knsi ymj wnlmy xmnkycsy qerekih xs jmrh xli vmklx wlmjxbrx pdqdjhg wr ilqg wkh uljkw vkliwaqw ocpcigf vq hkpf vjg tkijv ujkhvzpv nbobhfe up gjoe uif sjhiu tijguyou managed to find the right shiftxnt lzmzfdc sn ehmc sgd qhfgs rgheswms kylyecb rm dglb rfc pgefr qfgdrvlr jxkxdba ql cfka qeb ofdeq pefcqukq iwjwcaz pk bejz pda necdp odebptjp hvivbzy oj adiy ocz mdbco ncdaosio guhuayx ni zchx nby lcabn mbcznrhn ftgtzxw mh ybgw max kbzam labymqgm esfsywv lg xafv lzw jayzl kzaxlpfl drerxvu kf wzeu kyv izxyk jyzwkoek cqdqwut je vydt jxu hywxj ixyvjndj bpcpvts id uxcs iwt gxvwi hwxuimci aobousr hc twbr hvs fwuvh gvwthlbh znantrq gb svaq gur evtug fuvsgkag ymzmsqp fa ruzp ftq dustf eturfjzf xlylrpo ez qtyo esp ctrse dstqeiye wkxkqon dy psxn dro bsqrd crspd25gwc uivioml bw nqvl bpm zqopb apqnbfvb thuhnlk av mpuk aol ypnoa zopmaeua sgtgmkj zu lotj znk xomnz ynolzdtz rfsflji yt knsi ymj wnlmy xmnkycsy qerekih xs jmrh xli vmklx wlmjxbrx pdqdjhg wr ilqg wkh uljkw vkliwaqw ocpcigf vq hkpf vjg tkijv ujkhvzpv nbobhfe up gjoe uif sjhiu tijguyou managed to find the right shiftxnt lzmzfdc sn ehmc sgd qhfgs rgheswms kylyecb rm dglb rfc pgefr qfgdrvlr jxkxdba ql cfka qeb ofdeq pefcqukq iwjwcaz pk bejz pda necdp odebptjp hvivbzy oj adiy ocz mdbco ncdaosio guhuayx ni zchx nby lcabn mbcznrhn ftgtzxw mh ybgw max kbzam labymqgm esfsywv lg xafv lzw jayzl kzaxlpfl drerxvu kf wzeu kyv izxyk jyzwkoek cqdqwut je vydt jxu hywxj ixyvjndj bpcpvts id uxcs iwt gxvwi hwxuimci aobousr hc twbr hvs fwuvh gvwthlbh znantrq gb svaq gur evtug fuvsgkag ymzmsqp fa ruzp ftq dustf eturfjzf xlylrpo ez qtyo esp ctrse dstqeiye wkxkqon dy psxn dro bsqrd crspdhxd vjwjpnm cx orwm cqn arpqc bqroc'"
      ]
     },
     "execution_count": 74,
     "metadata": {},
     "output_type": "execute_result"
    }
   ],
   "source": [
    "em2 = 'gwc uivioml bw nqvl bpm zqopb apqnb'\n",
    "c2 = []\n",
    "for j in range(len(p)):\n",
    "    for i in em2:\n",
    "        if i!=' ':\n",
    "            c2.append(p[p.find(i)-j])\n",
    "        else:\n",
    "            c2.append(' ')\n",
    "print \n",
    "c2"
   ]
  },
  {
   "cell_type": "markdown",
   "metadata": {},
   "source": [
    "Functions\n",
    "==========="
   ]
  },
  {
   "cell_type": "markdown",
   "metadata": {},
   "source": [
    "Exercise 1\n",
    "----"
   ]
  },
  {
   "cell_type": "code",
   "execution_count": 18,
   "metadata": {},
   "outputs": [],
   "source": [
    "def isprime(number):\n",
    "    for j in range(2,number):\n",
    "        if number%j==0:\n",
    "            return False\n",
    "            break            \n",
    "        else:\n",
    "            return True"
   ]
  },
  {
   "cell_type": "code",
   "execution_count": 19,
   "metadata": {},
   "outputs": [
    {
     "data": {
      "text/plain": [
       "False"
      ]
     },
     "execution_count": 19,
     "metadata": {},
     "output_type": "execute_result"
    }
   ],
   "source": [
    "isprime(6)"
   ]
  },
  {
   "cell_type": "markdown",
   "metadata": {},
   "source": [
    "Exercise 2\n",
    "---"
   ]
  },
  {
   "cell_type": "code",
   "execution_count": 42,
   "metadata": {},
   "outputs": [],
   "source": [
    "def factorial(num):\n",
    "    if num>0:\n",
    "        return num*factorial(num-1)\n",
    "    else:\n",
    "        return 1"
   ]
  },
  {
   "cell_type": "code",
   "execution_count": 43,
   "metadata": {},
   "outputs": [
    {
     "data": {
      "text/plain": [
       "120"
      ]
     },
     "execution_count": 43,
     "metadata": {},
     "output_type": "execute_result"
    }
   ],
   "source": [
    "factorial(5)"
   ]
  },
  {
   "cell_type": "markdown",
   "metadata": {},
   "source": [
    "Exercise 3\n",
    "-----"
   ]
  },
  {
   "cell_type": "code",
   "execution_count": 56,
   "metadata": {},
   "outputs": [],
   "source": [
    "def mean(list):\n",
    "    return sum(list)/len(list)"
   ]
  },
  {
   "cell_type": "code",
   "execution_count": 57,
   "metadata": {},
   "outputs": [
    {
     "data": {
      "text/plain": [
       "4.333333333333333"
      ]
     },
     "execution_count": 57,
     "metadata": {},
     "output_type": "execute_result"
    }
   ],
   "source": [
    "mean([1, 3, 4, 5, 6, 7])\n"
   ]
  },
  {
   "cell_type": "markdown",
   "metadata": {},
   "source": [
    "Files rw\n",
    "======="
   ]
  },
  {
   "cell_type": "code",
   "execution_count": 52,
   "metadata": {},
   "outputs": [],
   "source": [
    "f = open('data/data.txt','r')"
   ]
  },
  {
   "cell_type": "code",
   "execution_count": 12,
   "metadata": {},
   "outputs": [
    {
     "data": {
      "text/plain": [
       "_io.TextIOWrapper"
      ]
     },
     "execution_count": 12,
     "metadata": {},
     "output_type": "execute_result"
    }
   ],
   "source": [
    "type(f)"
   ]
  },
  {
   "cell_type": "code",
   "execution_count": 24,
   "metadata": {},
   "outputs": [
    {
     "data": {
      "text/plain": [
       "'RAJ        DEJ                          Jmag   e_Jmag\\n2000 (deg) 2000 (deg) 2MASS             (mag)  (mag) \\n---------- ---------- ----------------- ------ ------\\n010.684737 +41.269035 00424433+4116085   9.453  0.052\\n010.683469 +41.268585 00424403+4116069   9.321  0.022\\n010.685657 +41.269550 00424455+4116103  10.773  0.069\\n010.686026 +41.269226 00424464+4116092   9.299  0.063\\n010.683465 +41.269676 00424403+4116108  11.507  0.056\\n010.686015 +41.269630 00424464+4116106   9.399  0.045\\n010.685270 +41.267124 00424446+4116016  12.070  0.035\\n'"
      ]
     },
     "execution_count": 24,
     "metadata": {},
     "output_type": "execute_result"
    }
   ],
   "source": [
    "f.read()"
   ]
  },
  {
   "cell_type": "code",
   "execution_count": 13,
   "metadata": {},
   "outputs": [
    {
     "data": {
      "text/plain": [
       "''"
      ]
     },
     "execution_count": 13,
     "metadata": {},
     "output_type": "execute_result"
    }
   ],
   "source": [
    "f.read()"
   ]
  },
  {
   "cell_type": "code",
   "execution_count": 25,
   "metadata": {},
   "outputs": [],
   "source": [
    "data = f.read()"
   ]
  },
  {
   "cell_type": "code",
   "execution_count": 16,
   "metadata": {},
   "outputs": [
    {
     "data": {
      "text/plain": [
       "'RAJ        DEJ                          Jmag   e_Jmag\\n2000 (deg) 2000 (deg) 2MASS             (mag)  (mag) \\n---------- ---------- ----------------- ------ ------\\n010.684737 +41.269035 00424433+4116085   9.453  0.052\\n010.683469 +41.268585 00424403+4116069   9.321  0.022\\n010.685657 +41.269550 00424455+4116103  10.773  0.069\\n010.686026 +41.269226 00424464+4116092   9.299  0.063\\n010.683465 +41.269676 00424403+4116108  11.507  0.056\\n010.686015 +41.269630 00424464+4116106   9.399  0.045\\n010.685270 +41.267124 00424446+4116016  12.070  0.035\\n'"
      ]
     },
     "execution_count": 16,
     "metadata": {},
     "output_type": "execute_result"
    }
   ],
   "source": [
    "data"
   ]
  },
  {
   "cell_type": "code",
   "execution_count": 53,
   "metadata": {},
   "outputs": [
    {
     "name": "stdout",
     "output_type": "stream",
     "text": [
      "'RAJ        DEJ                          Jmag   e_Jmag\\n'\n",
      "'2000 (deg) 2000 (deg) 2MASS             (mag)  (mag) \\n'\n",
      "'---------- ---------- ----------------- ------ ------\\n'\n",
      "'010.684737 +41.269035 00424433+4116085   9.453  0.052\\n'\n",
      "'010.683469 +41.268585 00424403+4116069   9.321  0.022\\n'\n",
      "'010.685657 +41.269550 00424455+4116103  10.773  0.069\\n'\n",
      "'010.686026 +41.269226 00424464+4116092   9.299  0.063\\n'\n",
      "'010.683465 +41.269676 00424403+4116108  11.507  0.056\\n'\n",
      "'010.686015 +41.269630 00424464+4116106   9.399  0.045\\n'\n",
      "'010.685270 +41.267124 00424446+4116016  12.070  0.035\\n'\n"
     ]
    }
   ],
   "source": [
    "for i in f:\n",
    "    print(repr(i))"
   ]
  },
  {
   "cell_type": "code",
   "execution_count": 46,
   "metadata": {},
   "outputs": [
    {
     "data": {
      "text/plain": [
       "'010.685270 +41.267124 00424446+4116016  12.070  0.035\\n'"
      ]
     },
     "execution_count": 46,
     "metadata": {},
     "output_type": "execute_result"
    }
   ],
   "source": [
    "i"
   ]
  },
  {
   "cell_type": "code",
   "execution_count": 42,
   "metadata": {},
   "outputs": [
    {
     "data": {
      "text/plain": [
       "['RAJ        DEJ                          Jmag   e_Jmag\\n',\n",
       " '2000 (deg) 2000 (deg) 2MASS             (mag)  (mag) \\n',\n",
       " '---------- ---------- ----------------- ------ ------\\n',\n",
       " '010.684737 +41.269035 00424433+4116085   9.453  0.052\\n',\n",
       " '010.683469 +41.268585 00424403+4116069   9.321  0.022\\n',\n",
       " '010.685657 +41.269550 00424455+4116103  10.773  0.069\\n',\n",
       " '010.686026 +41.269226 00424464+4116092   9.299  0.063\\n',\n",
       " '010.683465 +41.269676 00424403+4116108  11.507  0.056\\n',\n",
       " '010.686015 +41.269630 00424464+4116106   9.399  0.045\\n',\n",
       " '010.685270 +41.267124 00424446+4116016  12.070  0.035\\n']"
      ]
     },
     "execution_count": 42,
     "metadata": {},
     "output_type": "execute_result"
    }
   ],
   "source": [
    "f.readlines()"
   ]
  },
  {
   "cell_type": "code",
   "execution_count": 54,
   "metadata": {},
   "outputs": [],
   "source": [
    "line = i.strip()"
   ]
  },
  {
   "cell_type": "code",
   "execution_count": 55,
   "metadata": {},
   "outputs": [
    {
     "data": {
      "text/plain": [
       "'010.685270 +41.267124 00424446+4116016  12.070  0.035'"
      ]
     },
     "execution_count": 55,
     "metadata": {},
     "output_type": "execute_result"
    }
   ],
   "source": [
    "line"
   ]
  },
  {
   "cell_type": "code",
   "execution_count": 56,
   "metadata": {},
   "outputs": [],
   "source": [
    "columns = line.split()"
   ]
  },
  {
   "cell_type": "code",
   "execution_count": 57,
   "metadata": {},
   "outputs": [
    {
     "data": {
      "text/plain": [
       "['010.685270', '+41.267124', '00424446+4116016', '12.070', '0.035']"
      ]
     },
     "execution_count": 57,
     "metadata": {},
     "output_type": "execute_result"
    }
   ],
   "source": [
    "columns"
   ]
  },
  {
   "cell_type": "code",
   "execution_count": 58,
   "metadata": {},
   "outputs": [],
   "source": [
    "name = columns[2]\n",
    "jmag = columns[3]"
   ]
  },
  {
   "cell_type": "code",
   "execution_count": 59,
   "metadata": {},
   "outputs": [
    {
     "data": {
      "text/plain": [
       "('00424446+4116016', '12.070')"
      ]
     },
     "execution_count": 59,
     "metadata": {},
     "output_type": "execute_result"
    }
   ],
   "source": [
    "name, jmag"
   ]
  },
  {
   "cell_type": "code",
   "execution_count": 60,
   "metadata": {},
   "outputs": [],
   "source": [
    "jm = float(jmag)"
   ]
  },
  {
   "cell_type": "code",
   "execution_count": 61,
   "metadata": {},
   "outputs": [
    {
     "data": {
      "text/plain": [
       "12.07"
      ]
     },
     "execution_count": 61,
     "metadata": {},
     "output_type": "execute_result"
    }
   ],
   "source": [
    "jm"
   ]
  },
  {
   "cell_type": "markdown",
   "metadata": {},
   "source": [
    "Exercise 1\n",
    "----"
   ]
  },
  {
   "cell_type": "code",
   "execution_count": 90,
   "metadata": {},
   "outputs": [
    {
     "name": "stdout",
     "output_type": "stream",
     "text": [
      "00424433+4116085 9.453\n",
      "00424403+4116069 9.321\n",
      "00424455+4116103 10.773\n",
      "00424464+4116092 9.299\n",
      "00424403+4116108 11.507\n",
      "00424464+4116106 9.399\n",
      "00424446+4116016 12.07\n"
     ]
    }
   ],
   "source": [
    "# Open file\n",
    "f = open('data/data.txt', 'r')\n",
    "\n",
    "# Read and ignore header lines\n",
    "header1 = f.readline()\n",
    "header2 = f.readline()\n",
    "header3 = f.readline()\n",
    "\n",
    "# Loop over lines and extract variables of interest\n",
    "jmag = {}\n",
    "for line in f:\n",
    "    line = line.strip()\n",
    "    columns = line.split()\n",
    "    name = columns[2]\n",
    "    jmag[name] = float(columns[3])\n",
    "    print(name, jmag[name])"
   ]
  },
  {
   "cell_type": "code",
   "execution_count": 110,
   "metadata": {},
   "outputs": [
    {
     "name": "stdout",
     "output_type": "stream",
     "text": [
      "00424403+4116069 9.321\n",
      "00424403+4116108 11.507\n",
      "00424433+4116085 9.453\n",
      "00424446+4116016 12.07\n",
      "00424455+4116103 10.773\n",
      "00424464+4116092 9.299\n",
      "00424464+4116106 9.399\n"
     ]
    }
   ],
   "source": [
    "for i in sorted(jmag):\n",
    "    print (i, jmag[i])"
   ]
  },
  {
   "cell_type": "code",
   "execution_count": 111,
   "metadata": {},
   "outputs": [
    {
     "data": {
      "text/plain": [
       "10.773"
      ]
     },
     "execution_count": 111,
     "metadata": {},
     "output_type": "execute_result"
    }
   ],
   "source": [
    "jmag['00424455+4116103']"
   ]
  },
  {
   "cell_type": "code",
   "execution_count": 112,
   "metadata": {},
   "outputs": [],
   "source": [
    "f = open('nfile.txt','w')"
   ]
  },
  {
   "cell_type": "code",
   "execution_count": 113,
   "metadata": {},
   "outputs": [
    {
     "data": {
      "text/plain": [
       "4"
      ]
     },
     "execution_count": 113,
     "metadata": {},
     "output_type": "execute_result"
    }
   ],
   "source": [
    "f.write('tmp3')"
   ]
  },
  {
   "cell_type": "code",
   "execution_count": 114,
   "metadata": {},
   "outputs": [],
   "source": [
    "f.close()"
   ]
  },
  {
   "cell_type": "markdown",
   "metadata": {},
   "source": [
    "Exercise 2\n",
    "---"
   ]
  },
  {
   "cell_type": "code",
   "execution_count": 124,
   "metadata": {},
   "outputs": [],
   "source": [
    "# Open files\n",
    "fin = open ('data/data.txt', 'r')\n",
    "fout = open ('data/ndata.txt', 'w')\n",
    "\n",
    "# Read and ignore header lines\n",
    "header1 = fin.readline()\n",
    "header2 = fin.readline()\n",
    "header3 = fin.readline()\n",
    "\n",
    "# Loop over lines and extract variables of interest\n",
    "for line in fin:\n",
    "    line = line.strip()\n",
    "    columns = line.split()\n",
    "    name = columns[2]\n",
    "    jmag = (columns[3])\n",
    "    fout.write(name+' '+jmag+'\\n')\n",
    "fout.close()\n",
    "fin.close()"
   ]
  },
  {
   "cell_type": "code",
   "execution_count": 125,
   "metadata": {},
   "outputs": [
    {
     "name": "stdout",
     "output_type": "stream",
     "text": [
      "00424433+4116085 9.453\r\n",
      "00424403+4116069 9.321\r\n",
      "00424455+4116103 10.773\r\n",
      "00424464+4116092 9.299\r\n",
      "00424403+4116108 11.507\r\n",
      "00424464+4116106 9.399\r\n",
      "00424446+4116016 12.070\r\n"
     ]
    }
   ],
   "source": [
    "%cat data/ndata.txt"
   ]
  },
  {
   "cell_type": "markdown",
   "metadata": {},
   "source": [
    "Modules and Variable Scope\n",
    "==="
   ]
  },
  {
   "cell_type": "code",
   "execution_count": 126,
   "metadata": {},
   "outputs": [],
   "source": [
    "import math"
   ]
  },
  {
   "cell_type": "code",
   "execution_count": 127,
   "metadata": {},
   "outputs": [
    {
     "data": {
      "text/plain": [
       "0.9092974268256817"
      ]
     },
     "execution_count": 127,
     "metadata": {},
     "output_type": "execute_result"
    }
   ],
   "source": [
    "math.sin(2)"
   ]
  },
  {
   "cell_type": "code",
   "execution_count": 128,
   "metadata": {},
   "outputs": [
    {
     "data": {
      "text/plain": [
       "120"
      ]
     },
     "execution_count": 128,
     "metadata": {},
     "output_type": "execute_result"
    }
   ],
   "source": [
    "math.factorial(5)"
   ]
  },
  {
   "cell_type": "markdown",
   "metadata": {},
   "source": [
    "Exercise 1\n",
    "----"
   ]
  },
  {
   "cell_type": "code",
   "execution_count": 136,
   "metadata": {},
   "outputs": [
    {
     "data": {
      "text/plain": [
       "0.5000000000000001"
      ]
     },
     "execution_count": 136,
     "metadata": {},
     "output_type": "execute_result"
    }
   ],
   "source": [
    "math.cos(math.radians(60))"
   ]
  },
  {
   "cell_type": "code",
   "execution_count": 137,
   "metadata": {},
   "outputs": [
    {
     "data": {
      "text/plain": [
       "0.49999999999999994"
      ]
     },
     "execution_count": 137,
     "metadata": {},
     "output_type": "execute_result"
    }
   ],
   "source": [
    "math.sin(math.pi/6)"
   ]
  },
  {
   "cell_type": "code",
   "execution_count": 1,
   "metadata": {},
   "outputs": [
    {
     "ename": "UnboundLocalError",
     "evalue": "local variable 'a' referenced before assignment",
     "output_type": "error",
     "traceback": [
      "\u001b[0;31m---------------------------------------------------------------------------\u001b[0m",
      "\u001b[0;31mUnboundLocalError\u001b[0m                         Traceback (most recent call last)",
      "\u001b[0;32m<ipython-input-1-2b10bcca7026>\u001b[0m in \u001b[0;36m<module>\u001b[0;34m\u001b[0m\n\u001b[1;32m      5\u001b[0m     \u001b[0ma\u001b[0m \u001b[0;34m=\u001b[0m \u001b[0;36m2\u001b[0m\u001b[0;34m\u001b[0m\u001b[0;34m\u001b[0m\u001b[0m\n\u001b[1;32m      6\u001b[0m \u001b[0;34m\u001b[0m\u001b[0m\n\u001b[0;32m----> 7\u001b[0;31m \u001b[0mshow_var\u001b[0m\u001b[0;34m(\u001b[0m\u001b[0;34m)\u001b[0m\u001b[0;34m\u001b[0m\u001b[0;34m\u001b[0m\u001b[0m\n\u001b[0m",
      "\u001b[0;32m<ipython-input-1-2b10bcca7026>\u001b[0m in \u001b[0;36mshow_var\u001b[0;34m()\u001b[0m\n\u001b[1;32m      2\u001b[0m \u001b[0;34m\u001b[0m\u001b[0m\n\u001b[1;32m      3\u001b[0m \u001b[0;32mdef\u001b[0m \u001b[0mshow_var\u001b[0m\u001b[0;34m(\u001b[0m\u001b[0;34m)\u001b[0m\u001b[0;34m:\u001b[0m\u001b[0;34m\u001b[0m\u001b[0;34m\u001b[0m\u001b[0m\n\u001b[0;32m----> 4\u001b[0;31m     \u001b[0mprint\u001b[0m\u001b[0;34m(\u001b[0m\u001b[0ma\u001b[0m\u001b[0;34m)\u001b[0m\u001b[0;34m\u001b[0m\u001b[0;34m\u001b[0m\u001b[0m\n\u001b[0m\u001b[1;32m      5\u001b[0m     \u001b[0ma\u001b[0m \u001b[0;34m=\u001b[0m \u001b[0;36m2\u001b[0m\u001b[0;34m\u001b[0m\u001b[0;34m\u001b[0m\u001b[0m\n\u001b[1;32m      6\u001b[0m \u001b[0;34m\u001b[0m\u001b[0m\n",
      "\u001b[0;31mUnboundLocalError\u001b[0m: local variable 'a' referenced before assignment"
     ]
    }
   ],
   "source": [
    "a = 1\n",
    "\n",
    "def show_var():\n",
    "    print(a)\n",
    "    a = 2\n",
    "  \n",
    "show_var()"
   ]
  },
  {
   "cell_type": "code",
   "execution_count": 2,
   "metadata": {},
   "outputs": [],
   "source": [
    "def show_var():\n",
    "    print(a)\n",
    "    a = 2"
   ]
  },
  {
   "cell_type": "code",
   "execution_count": 6,
   "metadata": {},
   "outputs": [],
   "source": [
    "def show_var():\n",
    "    a = 2\n",
    "    print(a)"
   ]
  },
  {
   "cell_type": "code",
   "execution_count": 4,
   "metadata": {},
   "outputs": [
    {
     "name": "stdout",
     "output_type": "stream",
     "text": [
      "2\n",
      "1\n"
     ]
    }
   ],
   "source": [
    "def double(x):\n",
    "    x = x * 2\n",
    "    print(x)\n",
    "\n",
    "x = 1\n",
    "double(x)\n",
    "print(x)"
   ]
  },
  {
   "cell_type": "code",
   "execution_count": 147,
   "metadata": {},
   "outputs": [
    {
     "name": "stdout",
     "output_type": "stream",
     "text": [
      "[1, 2, 3]\n",
      "[1, 2, 3]\n"
     ]
    }
   ],
   "source": [
    "def append_3(x):\n",
    "    x.append(3)\n",
    "    print(x)\n",
    "\n",
    "x = [1,2]\n",
    "append_3(x)\n",
    "print(x)"
   ]
  },
  {
   "cell_type": "markdown",
   "metadata": {},
   "source": [
    "Practice Problem - Temperatures\n",
    "=="
   ]
  },
  {
   "cell_type": "code",
   "execution_count": 34,
   "metadata": {},
   "outputs": [
    {
     "name": "stdout",
     "output_type": "stream",
     "text": [
      "2005 : -14.1111 C 8.807527785245913 C 24.2222 C\n"
     ]
    }
   ],
   "source": [
    "# Open file\n",
    "f = open ('munich_temperatures_average.txt', 'r')\n",
    "\n",
    "def vper_y(year):\n",
    "    data = []\n",
    "    for i in f:\n",
    "        line = i.strip()\n",
    "        col = i.split()\n",
    "        ys = float(col[0])\n",
    "        val = float(col[1])\n",
    "#         print (ys,val)\n",
    "#         print(round(ys))\n",
    "        if round(ys)==year:\n",
    "            data.append(val)        \n",
    "    print (year,':',min(data),'C',sum(data)/len(data),'C',max(data),'C')\n",
    "    return\n",
    "\n",
    "for i in f:\n",
    "    y,val = i.strip().split()\n",
    "    y = float(y)\n",
    "    val = float(val)\n",
    "\n",
    "    if round(ys)==year:\n",
    "        data.append(val)        \n",
    "print (year,':',min(data),'C',sum(data)/len(data),'C',max(data),'C')\n",
    "\n",
    "\n",
    "vper_y(2005)\n",
    "f.close()"
   ]
  },
  {
   "cell_type": "markdown",
   "metadata": {},
   "source": [
    "Problem Set 1 - DNA\n",
    "================="
   ]
  },
  {
   "cell_type": "markdown",
   "metadata": {},
   "source": [
    "Part 1\n",
    "----"
   ]
  },
  {
   "cell_type": "markdown",
   "metadata": {},
   "source": [
    "Question 1\n",
    "----\n",
    "\n",
    "The reverse complement of DNA is found by reversing the DNA sequence, then replacing each base by its complement (A is replaced by T, T is replaced by A, G is replaced by C, and C is replaced by G). For example, the reverse complement of ATGCGGC is GCCGCAT\n",
    "\n",
    "Write a Python function reverse_complement that takes a DNA sequence as a string, and returns the reverse complement. Test your function by ensuring that reverse_complement('ATGCGGC') is 'GCCGCAT', then find the reverse complement of the following sequence:\n",
    "\n",
    "ATGCGCGGATCGTACCTAATCGATGGCATTAGCCGAGCCCGATTACGC\n",
    "\n",
    "Print the result out using print."
   ]
  },
  {
   "cell_type": "code",
   "execution_count": 22,
   "metadata": {},
   "outputs": [
    {
     "data": {
      "text/plain": [
       "'TACGCGCCTAGCATGGATTAGCTACCGTAATCGGCTCGGGCTAATGCG'"
      ]
     },
     "execution_count": 22,
     "metadata": {},
     "output_type": "execute_result"
    }
   ],
   "source": [
    "def reverse_complement(DNA):\n",
    "    nDNA = []\n",
    "    for let in DNA:\n",
    "        if let == 'A':\n",
    "            nDNA+=('T')\n",
    "        elif let == 'T':\n",
    "            nDNA+=('A')\n",
    "        elif let == 'G':\n",
    "            nDNA+=('C')\n",
    "        elif let == 'C':\n",
    "            nDNA+=('G')\n",
    "    return ''.join(nDNA)\n",
    "\n",
    "reverse_complement('ATGCGCGGATCGTACCTAATCGATGGCATTAGCCGAGCCCGATTACGC')"
   ]
  },
  {
   "cell_type": "markdown",
   "metadata": {},
   "source": [
    "\n",
    "Question 2\n",
    "--\n",
    "Ribonucleic acid (RNA) is a family of large biological molecules that is transcribed from DNA by the RNA Polymerase enzyme. It consists of a single strand of nucleotides that are identical to the ones found in DNA, with the exception of uracil (U), which replaces thymine (T).\n",
    "\n",
    "Messenger RNA molecules (or mRNA) are a subset of RNA molecules that are used to pass information from DNA to ribosomes, which then translates the mRNA to protein sequences.\n",
    "\n",
    "Write a Python function dna_to_mrna that takes a DNA sequence and returns the corresponding mRNA sequence. For example, the DNA sequence ATCGCGAT should produce the mRNA sequence AUCGCGAU (note that you do not need to find the reverse complement of the DNA here)"
   ]
  },
  {
   "cell_type": "code",
   "execution_count": 1,
   "metadata": {},
   "outputs": [
    {
     "data": {
      "text/plain": [
       "'AUCGCGAU'"
      ]
     },
     "execution_count": 1,
     "metadata": {},
     "output_type": "execute_result"
    }
   ],
   "source": [
    "def dna_to_mrna(DNA):\n",
    "    mRNA = []\n",
    "    for let in DNA:\n",
    "        if let == 'T':\n",
    "            mRNA+=('U')\n",
    "        else:\n",
    "            mRNA+=(let)\n",
    "    return ''.join(mRNA)\n",
    "\n",
    "dna_to_mrna('ATCGCGAT')"
   ]
  },
  {
   "cell_type": "markdown",
   "metadata": {},
   "source": [
    "Part 2\n",
    "---\n",
    "Question 3\n",
    "--\n",
    "When the mRNA is translated to a protein sequence, each set of three nucleotides, called a codon, is translated into a single amino acid. For example, the codon UUC translates to the amino acid Phenylalanine. Each amino acid can be represented by a single letter - for example Phenylalanine is represented by the letter F. A protein, which is formed from a sequence of amino acids, can therefore be written as a sequence of letters in the same way as DNA or mRNA, but using more of the letters of the alphabet since there are more than four amino acids.\n",
    "\n",
    "The data/problem_1_codons.txt file contains two columns. The first column gives a list of codons, and the second column gives the corresponding amino acid (represented by a single letter). Certain codons do not correspond to an amino acid, but instead indicate that the amino acid sequence is finished. These are indicated by Stop.\n",
    "\n",
    "Write a function mrna_to_protein that takes an mRNA sequence (as a string) and returns the sequence of amino acids (as a string), stopping the first time a Stop codon is encountered. Make sure that the file is only read once when running the script (and not every time you want to translate a codon). You will likely need to use a Python dictionary to help.\n",
    "\n",
    "Finally, write a function dna_to_protein that takes a DNA sequence (as a string) and returns the sequence of amino acids (as a string), making use of the functions that you wrote previously.\n",
    "\n",
    "Print out the amino acid sequence for the following DNA sequence:\n",
    "\n",
    "AATCTCTACGGAAGTAGGTCAGTACTGATCGATCAGTCGATCGGGCGGCGATTTCGATCTGATTGTACGGCGGGCTAG"
   ]
  },
  {
   "cell_type": "code",
   "execution_count": 2,
   "metadata": {},
   "outputs": [],
   "source": [
    "f = open('data/problem_1_codons.txt','r')\n",
    "\n",
    "aacid = {}\n",
    "for line in f:\n",
    "    col = line.strip().split()\n",
    "    codon = col[0]\n",
    "    aacid[codon]= col[1]\n",
    "\n",
    "def mrna_to_protein(mRNA):\n",
    "    aa=''\n",
    "    for i in range(0,len(mRNA)-3):\n",
    "        if aacid[mRNA[i]+mRNA[i+1]+mRNA[i+2]]=='Stop':\n",
    "            continue\n",
    "        else:\n",
    "            aa += aacid[mRNA[i]+mRNA[i+1]+mRNA[i+2]]\n",
    "    return aa\n",
    "\n",
    "def dna_to_protein(DNA):\n",
    "    return mrna_to_protein(dna_to_mrna(DNA))\n",
    "\n",
    "# f.close()"
   ]
  },
  {
   "cell_type": "code",
   "execution_count": 55,
   "metadata": {},
   "outputs": [
    {
     "data": {
      "text/plain": [
       "'NISLSLYTRGEKSVRGVSQSVYTLDISRDISQSVSRDISRGGARGARDIFFSRDISLDILCVYTRGARGGAL'"
      ]
     },
     "execution_count": 55,
     "metadata": {},
     "output_type": "execute_result"
    }
   ],
   "source": [
    "dna_to_protein('AATCTCTACGGAAGTAGGTCAGTACTGATCGATCAGTCGATCGGGCGGCGATTTCGATCTGATTGTACGGCGGGCTAG')"
   ]
  },
  {
   "cell_type": "markdown",
   "metadata": {},
   "source": [
    "Question 4\n",
    "---\n",
    "In the previous questions, we have been specifying the DNA sequence by hand, but DNA sequences are usually long and are stored in files. A common file format is the FASTA format which looks similar to this:\n",
    "\n",
    "$>label1$\n",
    "ACTGTATCGATGCTAGCTACGTAGCTAGCTAGCTAGCTGACGTA\n",
    "ACGATGTGCGAGGGTCATGGGACGCGAGCGAGTCTAGCACGATC\n",
    "\n",
    "$>label2$\n",
    "ACTGGGCTTGACTACGGCGGTATCTGACGGGCGAGCTGTACGAG\\n\n",
    "ACGGACTAGGGCGCGGCGGGGCGGATTTTCGAGTCGAGCGTTAT\n",
    "\n",
    "The first line starts with a > which is immediately followed by a label (which might be the name of the gene for example). The sequence then starts on the second line, and may continue on several lines. It is common to limit the length of each line to 80, but this may vary from file to file. The sequence stops once either the file ends, or a line starts with >, which indicates that a new sequence is being given. There may be any number of sequences in a file.\n",
    "\n",
    "Write a function read_fasta, that takes the name of a file (as a string) and returns a Python dictionary containing all the sequences from the file, with the keys in the dictionary corresponding to the label. If a sequence is given over several lines, you should remove any line returns and spaces. You should then be able to access the DNA for label1 with d['label1'] for example (if d is the name of the dictionary).\n",
    "\n",
    "Use this function and the functions you have written above to read in the data/problem_1_question_4.fasta file and print out, for each sequence, the label, followed by the amino acid sequence (not the DNA sequence!)."
   ]
  },
  {
   "cell_type": "code",
   "execution_count": 3,
   "metadata": {},
   "outputs": [],
   "source": [
    "def read_fasta(file):\n",
    "    dfasta={}\n",
    "    f = open(file,'r')\n",
    "    seq=''\n",
    "    for line in f:\n",
    "        if line.startswith('>'):\n",
    "            seq=line.strip('>').strip('\\n')\n",
    "            dna=''\n",
    "        else:\n",
    "            dna+=line.strip('\\n')\n",
    "        dfasta[seq]=dna\n",
    "    return dfasta\n",
    "#     print (seq,dna)"
   ]
  },
  {
   "cell_type": "code",
   "execution_count": 4,
   "metadata": {},
   "outputs": [],
   "source": [
    "dfasta=read_fasta('data/problem_1_question_4.fasta')"
   ]
  },
  {
   "cell_type": "code",
   "execution_count": 5,
   "metadata": {},
   "outputs": [
    {
     "data": {
      "text/plain": [
       "'ACTTTGATTACTCCACTAGGATATCCAGGGAGGATAGGGGAGTTGCGTGGCTTAGTCTACGTAAGGGGACATCACCAGGTTCCGTCAATGTGTACGTATTCTTGA'"
      ]
     },
     "execution_count": 5,
     "metadata": {},
     "output_type": "execute_result"
    }
   ],
   "source": [
    "dfasta['sequence_05']"
   ]
  },
  {
   "cell_type": "code",
   "execution_count": 7,
   "metadata": {},
   "outputs": [
    {
     "name": "stdout",
     "output_type": "stream",
     "text": [
      "sequence_02: RDISHIFSLCAHTPRGDTHTPPPLSLLYTLCVSRAPLSLFSLFLWGAPRGEKKNMCAQSVSLFSHIFSRAPPPLRGV\n"
     ]
    }
   ],
   "source": [
    "print ('sequence_02:',mrna_to_protein(dna_to_mrna(dfasta['sequence_02'])))"
   ]
  },
  {
   "cell_type": "markdown",
   "metadata": {},
   "source": [
    "Part 3\n",
    "===\n",
    "Question 5\n",
    "--"
   ]
  },
  {
   "cell_type": "code",
   "execution_count": 186,
   "metadata": {},
   "outputs": [
    {
     "name": "stdout",
     "output_type": "stream",
     "text": [
      "GTACTAGCCGATCAGCTAGCTACGATCGTACGTTAA\n"
     ]
    }
   ],
   "source": [
    "dfasta2=read_fasta('data/problem_1_question_5.fasta')\n",
    "\n",
    "def consensus_sequence(N):\n",
    "    n = 36\n",
    "    profile = {'A':[0]*n,'C':[0]*n ,'G':[0]*n,'T':[0]*n}\n",
    "    for seq in N:\n",
    "        i=0\n",
    "        for let in dfasta2[seq]:\n",
    "            if let=='A':\n",
    "                profile['A'][i]+=1\n",
    "            elif let=='C':\n",
    "                profile['C'][i]+=1\n",
    "            elif let=='G':\n",
    "                profile['G'][i]+=1\n",
    "            elif let=='T':\n",
    "                profile['T'][i]+=1\n",
    "            i+=1\n",
    "    bestseqs = [[]]\n",
    "    for i in range(n):\n",
    "        d = {N:profile[N][i] for N in ['A','C','G','T']}\n",
    "        m = max(d.values())\n",
    "        l = [N for N in ['A','C','G','T'] if d[N] == m]\n",
    "        bestseqs = [ s+[N] for N in l for s in bestseqs ]\n",
    "\n",
    "    for s in bestseqs:\n",
    "        print(''.join(s))\n",
    "    return\n",
    "\n",
    "#         print (max(sampleDict.items(), key=lambda x : x[1]))\n",
    "\n",
    "consensus_sequence(dfasta2)"
   ]
  },
  {
   "cell_type": "markdown",
   "metadata": {},
   "source": [
    "Question 6\n",
    "--"
   ]
  },
  {
   "cell_type": "code",
   "execution_count": 182,
   "metadata": {},
   "outputs": [
    {
     "ename": "IndentationError",
     "evalue": "expected an indented block (<ipython-input-182-66a03698b6d3>, line 4)",
     "output_type": "error",
     "traceback": [
      "\u001b[0;36m  File \u001b[0;32m\"<ipython-input-182-66a03698b6d3>\"\u001b[0;36m, line \u001b[0;32m4\u001b[0m\n\u001b[0;31m    dfasta3=read_fasta('data/problem_1_question_6.fasta')\u001b[0m\n\u001b[0m          ^\u001b[0m\n\u001b[0;31mIndentationError\u001b[0m\u001b[0;31m:\u001b[0m expected an indented block\n"
     ]
    }
   ],
   "source": [
    "def longest_common_sequence(N):\n",
    "    \n",
    "\n",
    "dfasta3=read_fasta('data/problem_1_question_6.fasta')"
   ]
  },
  {
   "cell_type": "markdown",
   "metadata": {},
   "source": [
    "Numpy\n",
    "===="
   ]
  },
  {
   "cell_type": "code",
   "execution_count": 57,
   "metadata": {},
   "outputs": [],
   "source": [
    "import numpy as np"
   ]
  },
  {
   "cell_type": "markdown",
   "metadata": {},
   "source": [
    "Exercise 1\n",
    "----"
   ]
  },
  {
   "cell_type": "code",
   "execution_count": 58,
   "metadata": {},
   "outputs": [
    {
     "data": {
      "text/plain": [
       "array([1.e-20, 1.e-19, 1.e-18, 1.e-17, 1.e-16, 1.e-15, 1.e-14, 1.e-13,\n",
       "       1.e-12, 1.e-11, 1.e-10])"
      ]
     },
     "execution_count": 58,
     "metadata": {},
     "output_type": "execute_result"
    }
   ],
   "source": [
    "np.logspace(-20,-10,11)"
   ]
  },
  {
   "cell_type": "code",
   "execution_count": 59,
   "metadata": {},
   "outputs": [
    {
     "data": {
      "text/plain": [
       "array([2., 2., 2., 2., 2., 2., 2., 2., 2., 2.])"
      ]
     },
     "execution_count": 59,
     "metadata": {},
     "output_type": "execute_result"
    }
   ],
   "source": [
    "np.ones(10)*2"
   ]
  },
  {
   "cell_type": "code",
   "execution_count": 68,
   "metadata": {},
   "outputs": [
    {
     "data": {
      "text/plain": [
       "dtype('float64')"
      ]
     },
     "execution_count": 68,
     "metadata": {},
     "output_type": "execute_result"
    }
   ],
   "source": [
    "(np.empty(10)).dtype\n",
    "(np.zeros(10)).dtype"
   ]
  },
  {
   "cell_type": "code",
   "execution_count": 72,
   "metadata": {},
   "outputs": [
    {
     "data": {
      "text/plain": [
       "dtype('float32')"
      ]
     },
     "execution_count": 72,
     "metadata": {},
     "output_type": "execute_result"
    }
   ],
   "source": [
    "np.zeros(5,dtype=np.float32).dtype"
   ]
  },
  {
   "cell_type": "markdown",
   "metadata": {},
   "source": [
    "Exercise 2\n",
    "---"
   ]
  },
  {
   "cell_type": "code",
   "execution_count": 76,
   "metadata": {},
   "outputs": [
    {
     "name": "stdout",
     "output_type": "stream",
     "text": [
      "[0 1 2 3 4 5 6 7 8 9] [1 1 1 1 1 1 1 1 1]\n"
     ]
    }
   ],
   "source": [
    "# Given an array x with 10 elements, find the array dx containing 9 values where dx[i] = x[i+1] - x[i]. Do this without loops!\n",
    "x = np.arange(10)\n",
    "dx = x[1:]-x[:-1]\n",
    "print (x,dx)"
   ]
  },
  {
   "cell_type": "code",
   "execution_count": null,
   "metadata": {},
   "outputs": [],
   "source": [
    "print(10)"
   ]
  },
  {
   "cell_type": "markdown",
   "metadata": {},
   "source": [
    "Exercise 3\n",
    "==="
   ]
  },
  {
   "cell_type": "code",
   "execution_count": 13,
   "metadata": {},
   "outputs": [],
   "source": [
    "import numpy as np\n",
    "x=np.loadtxt('data/munich_temperatures_average_with_bad_data.txt')"
   ]
  },
  {
   "cell_type": "code",
   "execution_count": 142,
   "metadata": {},
   "outputs": [
    {
     "data": {
      "text/plain": [
       "(99.0, -99.0)"
      ]
     },
     "execution_count": 142,
     "metadata": {},
     "output_type": "execute_result"
    }
   ],
   "source": [
    "x[:,1].max(),x[:,1].min()"
   ]
  },
  {
   "cell_type": "code",
   "execution_count": 143,
   "metadata": {},
   "outputs": [
    {
     "data": {
      "text/plain": [
       "array([ 0.944444, -1.61111 , -3.55556 , ..., 10.5556  ,  8.94444 ,\n",
       "       11.1667  ])"
      ]
     },
     "execution_count": 143,
     "metadata": {},
     "output_type": "execute_result"
    }
   ],
   "source": [
    "x[:,1]"
   ]
  },
  {
   "cell_type": "code",
   "execution_count": 17,
   "metadata": {},
   "outputs": [
    {
     "ename": "NameError",
     "evalue": "name 'x' is not defined",
     "output_type": "error",
     "traceback": [
      "\u001b[0;31m---------------------------------------------------------------------------\u001b[0m",
      "\u001b[0;31mNameError\u001b[0m                                 Traceback (most recent call last)",
      "\u001b[0;32m<ipython-input-17-fc4a06090f71>\u001b[0m in \u001b[0;36m<module>\u001b[0;34m\u001b[0m\n\u001b[1;32m      1\u001b[0m \u001b[0;32mimport\u001b[0m \u001b[0mmatplotlib\u001b[0m\u001b[0;34m.\u001b[0m\u001b[0mpyplot\u001b[0m \u001b[0;32mas\u001b[0m \u001b[0mplt\u001b[0m\u001b[0;34m\u001b[0m\u001b[0;34m\u001b[0m\u001b[0m\n\u001b[0;32m----> 2\u001b[0;31m \u001b[0mplt\u001b[0m\u001b[0;34m.\u001b[0m\u001b[0mplot\u001b[0m\u001b[0;34m(\u001b[0m\u001b[0mx\u001b[0m\u001b[0;34m[\u001b[0m\u001b[0;34m:\u001b[0m\u001b[0;34m,\u001b[0m\u001b[0;36m0\u001b[0m\u001b[0;34m]\u001b[0m\u001b[0;34m,\u001b[0m\u001b[0mx\u001b[0m\u001b[0;34m[\u001b[0m\u001b[0;34m:\u001b[0m\u001b[0;34m,\u001b[0m\u001b[0;36m1\u001b[0m\u001b[0;34m]\u001b[0m\u001b[0;34m)\u001b[0m\u001b[0;34m\u001b[0m\u001b[0;34m\u001b[0m\u001b[0m\n\u001b[0m",
      "\u001b[0;31mNameError\u001b[0m: name 'x' is not defined"
     ]
    }
   ],
   "source": [
    "import matplotlib.pyplot as plt\n",
    "plt.plot(x[:,0],x[:,1])"
   ]
  },
  {
   "cell_type": "code",
   "execution_count": 15,
   "metadata": {},
   "outputs": [
    {
     "data": {
      "text/plain": [
       "((6679, 2), (6619,), (6619,))"
      ]
     },
     "execution_count": 15,
     "metadata": {},
     "output_type": "execute_result"
    }
   ],
   "source": [
    "mask = (x[:,1]<=40) & (x[:,1]>=-25)\n",
    "xn = x[:,1][mask]\n",
    "dn = x[:,0][mask]\n",
    "x.shape,xn.shape,dn.shape"
   ]
  },
  {
   "cell_type": "markdown",
   "metadata": {},
   "source": [
    "Matplotlib\n",
    "===\n",
    "Exercise 1\n",
    "---"
   ]
  },
  {
   "cell_type": "code",
   "execution_count": 16,
   "metadata": {},
   "outputs": [
    {
     "data": {
      "text/plain": [
       "[<matplotlib.lines.Line2D at 0x7fe5202f6b38>]"
      ]
     },
     "execution_count": 16,
     "metadata": {},
     "output_type": "execute_result"
    },
    {
     "data": {
      "image/png": "[encoded data removed]",
      "text/plain": [
       "<Figure size 432x288 with 1 Axes>"
      ]
     },
     "metadata": {
      "needs_background": "light"
     },
     "output_type": "display_data"
    }
   ],
   "source": [
    "plt.plot(dn,xn)"
   ]
  },
  {
   "cell_type": "markdown",
   "metadata": {},
   "source": []
  },
  {
   "cell_type": "code",
   "execution_count": 15,
   "metadata": {},
   "outputs": [],
   "source": [
    "# The following code reads in the file and removes bad values\n",
    "import numpy as np\n",
    "date, temperature = np.loadtxt('data/munich_temperatures_average_with_bad_data.txt', unpack=True)\n",
    "keep = np.abs(temperature) < 90\n",
    "date = date[keep]\n",
    "temperature = temperature[keep]"
   ]
  },
  {
   "cell_type": "code",
   "execution_count": 22,
   "metadata": {},
   "outputs": [
    {
     "data": {
      "text/plain": [
       "[<matplotlib.lines.Line2D at 0x7fe51eafb978>]"
      ]
     },
     "execution_count": 22,
     "metadata": {},
     "output_type": "execute_result"
    },
    {
     "data": {
      "image/png": "[encoded data removed]",
      "text/plain": [
       "<Figure size 432x288 with 1 Axes>"
      ]
     },
     "metadata": {
      "needs_background": "light"
     },
     "output_type": "display_data"
    }
   ],
   "source": [
    "plt.plot(date,temperature,\".\")"
   ]
  },
  {
   "cell_type": "code",
   "execution_count": 27,
   "metadata": {},
   "outputs": [
    {
     "data": {
      "text/plain": [
       "[<matplotlib.lines.Line2D at 0x7fe51e8e1a20>]"
      ]
     },
     "execution_count": 27,
     "metadata": {},
     "output_type": "execute_result"
    },
    {
     "data": {
      "image/png": "[encoded data removed]",
      "text/plain": [
       "<Figure size 432x288 with 1 Axes>"
      ]
     },
     "metadata": {
      "needs_background": "light"
     },
     "output_type": "display_data"
    }
   ],
   "source": [
    "plt.plot(date%1,temperature,'.')"
   ]
  },
  {
   "cell_type": "markdown",
   "metadata": {},
   "source": [
    "Exercise 2\n",
    "---"
   ]
  },
  {
   "cell_type": "code",
   "execution_count": 21,
   "metadata": {},
   "outputs": [
    {
     "ename": "AttributeError",
     "evalue": "'Rectangle' object has no property 'normed'",
     "output_type": "error",
     "traceback": [
      "\u001b[0;31m---------------------------------------------------------------------------\u001b[0m",
      "\u001b[0;31mAttributeError\u001b[0m                            Traceback (most recent call last)",
      "\u001b[0;32m<ipython-input-21-cddb5dac5039>\u001b[0m in \u001b[0;36m<module>\u001b[0;34m\u001b[0m\n\u001b[1;32m      4\u001b[0m \u001b[0;34m\u001b[0m\u001b[0m\n\u001b[1;32m      5\u001b[0m \u001b[0mv\u001b[0m \u001b[0;34m=\u001b[0m \u001b[0mnp\u001b[0m\u001b[0;34m.\u001b[0m\u001b[0mrandom\u001b[0m\u001b[0;34m.\u001b[0m\u001b[0mnormal\u001b[0m\u001b[0;34m(\u001b[0m\u001b[0;36m0\u001b[0m\u001b[0;34m,\u001b[0m \u001b[0;36m1\u001b[0m\u001b[0;34m,\u001b[0m \u001b[0;36m10000\u001b[0m\u001b[0;34m)\u001b[0m\u001b[0;34m\u001b[0m\u001b[0;34m\u001b[0m\u001b[0m\n\u001b[0;32m----> 6\u001b[0;31m \u001b[0mh\u001b[0m \u001b[0;34m=\u001b[0m \u001b[0mplt\u001b[0m\u001b[0;34m.\u001b[0m\u001b[0mhist\u001b[0m\u001b[0;34m(\u001b[0m\u001b[0mv\u001b[0m\u001b[0;34m,\u001b[0m \u001b[0mbins\u001b[0m\u001b[0;34m=\u001b[0m\u001b[0;36m100\u001b[0m\u001b[0;34m,\u001b[0m \u001b[0mnormed\u001b[0m\u001b[0;34m=\u001b[0m\u001b[0;32mTrue\u001b[0m\u001b[0;34m)\u001b[0m\u001b[0;34m\u001b[0m\u001b[0;34m\u001b[0m\u001b[0m\n\u001b[0m\u001b[1;32m      7\u001b[0m \u001b[0mx\u001b[0m \u001b[0;34m=\u001b[0m \u001b[0mnp\u001b[0m\u001b[0;34m.\u001b[0m\u001b[0mlinspace\u001b[0m\u001b[0;34m(\u001b[0m\u001b[0;34m-\u001b[0m\u001b[0;36m5\u001b[0m\u001b[0;34m,\u001b[0m \u001b[0;36m5\u001b[0m\u001b[0;34m,\u001b[0m \u001b[0;36m100\u001b[0m\u001b[0;34m)\u001b[0m\u001b[0;34m\u001b[0m\u001b[0;34m\u001b[0m\u001b[0m\n\u001b[1;32m      8\u001b[0m \u001b[0mplt\u001b[0m\u001b[0;34m.\u001b[0m\u001b[0mplot\u001b[0m\u001b[0;34m(\u001b[0m\u001b[0mx\u001b[0m\u001b[0;34m,\u001b[0m \u001b[0mgauss\u001b[0m\u001b[0;34m(\u001b[0m\u001b[0mx\u001b[0m\u001b[0;34m,\u001b[0m \u001b[0;36m700\u001b[0m\u001b[0;34m,\u001b[0m \u001b[0;36m0\u001b[0m\u001b[0;34m,\u001b[0m \u001b[0;36m1\u001b[0m\u001b[0;34m)\u001b[0m\u001b[0;34m,\u001b[0m \u001b[0mcolor\u001b[0m\u001b[0;34m=\u001b[0m\u001b[0;34m'red'\u001b[0m\u001b[0;34m,\u001b[0m \u001b[0mlw\u001b[0m\u001b[0;34m=\u001b[0m\u001b[0;36m2\u001b[0m\u001b[0;34m)\u001b[0m\u001b[0;34m\u001b[0m\u001b[0;34m\u001b[0m\u001b[0m\n",
      "\u001b[0;32m~/.local/lib/python3.6/site-packages/matplotlib/pyplot.py\u001b[0m in \u001b[0;36mhist\u001b[0;34m(x, bins, range, density, weights, cumulative, bottom, histtype, align, orientation, rwidth, log, color, label, stacked, data, **kwargs)\u001b[0m\n\u001b[1;32m   2608\u001b[0m         \u001b[0malign\u001b[0m\u001b[0;34m=\u001b[0m\u001b[0malign\u001b[0m\u001b[0;34m,\u001b[0m \u001b[0morientation\u001b[0m\u001b[0;34m=\u001b[0m\u001b[0morientation\u001b[0m\u001b[0;34m,\u001b[0m \u001b[0mrwidth\u001b[0m\u001b[0;34m=\u001b[0m\u001b[0mrwidth\u001b[0m\u001b[0;34m,\u001b[0m \u001b[0mlog\u001b[0m\u001b[0;34m=\u001b[0m\u001b[0mlog\u001b[0m\u001b[0;34m,\u001b[0m\u001b[0;34m\u001b[0m\u001b[0;34m\u001b[0m\u001b[0m\n\u001b[1;32m   2609\u001b[0m         color=color, label=label, stacked=stacked, **({\"data\": data}\n\u001b[0;32m-> 2610\u001b[0;31m         if data is not None else {}), **kwargs)\n\u001b[0m\u001b[1;32m   2611\u001b[0m \u001b[0;34m\u001b[0m\u001b[0m\n\u001b[1;32m   2612\u001b[0m \u001b[0;34m\u001b[0m\u001b[0m\n",
      "\u001b[0;32m~/.local/lib/python3.6/site-packages/matplotlib/__init__.py\u001b[0m in \u001b[0;36minner\u001b[0;34m(ax, data, *args, **kwargs)\u001b[0m\n\u001b[1;32m   1563\u001b[0m     \u001b[0;32mdef\u001b[0m \u001b[0minner\u001b[0m\u001b[0;34m(\u001b[0m\u001b[0max\u001b[0m\u001b[0;34m,\u001b[0m \u001b[0;34m*\u001b[0m\u001b[0margs\u001b[0m\u001b[0;34m,\u001b[0m \u001b[0mdata\u001b[0m\u001b[0;34m=\u001b[0m\u001b[0;32mNone\u001b[0m\u001b[0;34m,\u001b[0m \u001b[0;34m**\u001b[0m\u001b[0mkwargs\u001b[0m\u001b[0;34m)\u001b[0m\u001b[0;34m:\u001b[0m\u001b[0;34m\u001b[0m\u001b[0;34m\u001b[0m\u001b[0m\n\u001b[1;32m   1564\u001b[0m         \u001b[0;32mif\u001b[0m \u001b[0mdata\u001b[0m \u001b[0;32mis\u001b[0m \u001b[0;32mNone\u001b[0m\u001b[0;34m:\u001b[0m\u001b[0;34m\u001b[0m\u001b[0;34m\u001b[0m\u001b[0m\n\u001b[0;32m-> 1565\u001b[0;31m             \u001b[0;32mreturn\u001b[0m \u001b[0mfunc\u001b[0m\u001b[0;34m(\u001b[0m\u001b[0max\u001b[0m\u001b[0;34m,\u001b[0m \u001b[0;34m*\u001b[0m\u001b[0mmap\u001b[0m\u001b[0;34m(\u001b[0m\u001b[0msanitize_sequence\u001b[0m\u001b[0;34m,\u001b[0m \u001b[0margs\u001b[0m\u001b[0;34m)\u001b[0m\u001b[0;34m,\u001b[0m \u001b[0;34m**\u001b[0m\u001b[0mkwargs\u001b[0m\u001b[0;34m)\u001b[0m\u001b[0;34m\u001b[0m\u001b[0;34m\u001b[0m\u001b[0m\n\u001b[0m\u001b[1;32m   1566\u001b[0m \u001b[0;34m\u001b[0m\u001b[0m\n\u001b[1;32m   1567\u001b[0m         \u001b[0mbound\u001b[0m \u001b[0;34m=\u001b[0m \u001b[0mnew_sig\u001b[0m\u001b[0;34m.\u001b[0m\u001b[0mbind\u001b[0m\u001b[0;34m(\u001b[0m\u001b[0max\u001b[0m\u001b[0;34m,\u001b[0m \u001b[0;34m*\u001b[0m\u001b[0margs\u001b[0m\u001b[0;34m,\u001b[0m \u001b[0;34m**\u001b[0m\u001b[0mkwargs\u001b[0m\u001b[0;34m)\u001b[0m\u001b[0;34m\u001b[0m\u001b[0;34m\u001b[0m\u001b[0m\n",
      "\u001b[0;32m~/.local/lib/python3.6/site-packages/matplotlib/axes/_axes.py\u001b[0m in \u001b[0;36mhist\u001b[0;34m(self, x, bins, range, density, weights, cumulative, bottom, histtype, align, orientation, rwidth, log, color, label, stacked, **kwargs)\u001b[0m\n\u001b[1;32m   6806\u001b[0m             \u001b[0;32mif\u001b[0m \u001b[0mpatch\u001b[0m\u001b[0;34m:\u001b[0m\u001b[0;34m\u001b[0m\u001b[0;34m\u001b[0m\u001b[0m\n\u001b[1;32m   6807\u001b[0m                 \u001b[0mp\u001b[0m \u001b[0;34m=\u001b[0m \u001b[0mpatch\u001b[0m\u001b[0;34m[\u001b[0m\u001b[0;36m0\u001b[0m\u001b[0;34m]\u001b[0m\u001b[0;34m\u001b[0m\u001b[0;34m\u001b[0m\u001b[0m\n\u001b[0;32m-> 6808\u001b[0;31m                 \u001b[0mp\u001b[0m\u001b[0;34m.\u001b[0m\u001b[0mupdate\u001b[0m\u001b[0;34m(\u001b[0m\u001b[0mkwargs\u001b[0m\u001b[0;34m)\u001b[0m\u001b[0;34m\u001b[0m\u001b[0;34m\u001b[0m\u001b[0m\n\u001b[0m\u001b[1;32m   6809\u001b[0m                 \u001b[0;32mif\u001b[0m \u001b[0mlbl\u001b[0m \u001b[0;32mis\u001b[0m \u001b[0;32mnot\u001b[0m \u001b[0;32mNone\u001b[0m\u001b[0;34m:\u001b[0m\u001b[0;34m\u001b[0m\u001b[0;34m\u001b[0m\u001b[0m\n\u001b[1;32m   6810\u001b[0m                     \u001b[0mp\u001b[0m\u001b[0;34m.\u001b[0m\u001b[0mset_label\u001b[0m\u001b[0;34m(\u001b[0m\u001b[0mlbl\u001b[0m\u001b[0;34m)\u001b[0m\u001b[0;34m\u001b[0m\u001b[0;34m\u001b[0m\u001b[0m\n",
      "\u001b[0;32m~/.local/lib/python3.6/site-packages/matplotlib/artist.py\u001b[0m in \u001b[0;36mupdate\u001b[0;34m(self, props)\u001b[0m\n\u001b[1;32m   1004\u001b[0m \u001b[0;34m\u001b[0m\u001b[0m\n\u001b[1;32m   1005\u001b[0m         \u001b[0;32mwith\u001b[0m \u001b[0mcbook\u001b[0m\u001b[0;34m.\u001b[0m\u001b[0m_setattr_cm\u001b[0m\u001b[0;34m(\u001b[0m\u001b[0mself\u001b[0m\u001b[0;34m,\u001b[0m \u001b[0meventson\u001b[0m\u001b[0;34m=\u001b[0m\u001b[0;32mFalse\u001b[0m\u001b[0;34m)\u001b[0m\u001b[0;34m:\u001b[0m\u001b[0;34m\u001b[0m\u001b[0;34m\u001b[0m\u001b[0m\n\u001b[0;32m-> 1006\u001b[0;31m             \u001b[0mret\u001b[0m \u001b[0;34m=\u001b[0m \u001b[0;34m[\u001b[0m\u001b[0m_update_property\u001b[0m\u001b[0;34m(\u001b[0m\u001b[0mself\u001b[0m\u001b[0;34m,\u001b[0m \u001b[0mk\u001b[0m\u001b[0;34m,\u001b[0m \u001b[0mv\u001b[0m\u001b[0;34m)\u001b[0m \u001b[0;32mfor\u001b[0m \u001b[0mk\u001b[0m\u001b[0;34m,\u001b[0m \u001b[0mv\u001b[0m \u001b[0;32min\u001b[0m \u001b[0mprops\u001b[0m\u001b[0;34m.\u001b[0m\u001b[0mitems\u001b[0m\u001b[0;34m(\u001b[0m\u001b[0;34m)\u001b[0m\u001b[0;34m]\u001b[0m\u001b[0;34m\u001b[0m\u001b[0;34m\u001b[0m\u001b[0m\n\u001b[0m\u001b[1;32m   1007\u001b[0m \u001b[0;34m\u001b[0m\u001b[0m\n\u001b[1;32m   1008\u001b[0m         \u001b[0;32mif\u001b[0m \u001b[0mlen\u001b[0m\u001b[0;34m(\u001b[0m\u001b[0mret\u001b[0m\u001b[0;34m)\u001b[0m\u001b[0;34m:\u001b[0m\u001b[0;34m\u001b[0m\u001b[0;34m\u001b[0m\u001b[0m\n",
      "\u001b[0;32m~/.local/lib/python3.6/site-packages/matplotlib/artist.py\u001b[0m in \u001b[0;36m<listcomp>\u001b[0;34m(.0)\u001b[0m\n\u001b[1;32m   1004\u001b[0m \u001b[0;34m\u001b[0m\u001b[0m\n\u001b[1;32m   1005\u001b[0m         \u001b[0;32mwith\u001b[0m \u001b[0mcbook\u001b[0m\u001b[0;34m.\u001b[0m\u001b[0m_setattr_cm\u001b[0m\u001b[0;34m(\u001b[0m\u001b[0mself\u001b[0m\u001b[0;34m,\u001b[0m \u001b[0meventson\u001b[0m\u001b[0;34m=\u001b[0m\u001b[0;32mFalse\u001b[0m\u001b[0;34m)\u001b[0m\u001b[0;34m:\u001b[0m\u001b[0;34m\u001b[0m\u001b[0;34m\u001b[0m\u001b[0m\n\u001b[0;32m-> 1006\u001b[0;31m             \u001b[0mret\u001b[0m \u001b[0;34m=\u001b[0m \u001b[0;34m[\u001b[0m\u001b[0m_update_property\u001b[0m\u001b[0;34m(\u001b[0m\u001b[0mself\u001b[0m\u001b[0;34m,\u001b[0m \u001b[0mk\u001b[0m\u001b[0;34m,\u001b[0m \u001b[0mv\u001b[0m\u001b[0;34m)\u001b[0m \u001b[0;32mfor\u001b[0m \u001b[0mk\u001b[0m\u001b[0;34m,\u001b[0m \u001b[0mv\u001b[0m \u001b[0;32min\u001b[0m \u001b[0mprops\u001b[0m\u001b[0;34m.\u001b[0m\u001b[0mitems\u001b[0m\u001b[0;34m(\u001b[0m\u001b[0;34m)\u001b[0m\u001b[0;34m]\u001b[0m\u001b[0;34m\u001b[0m\u001b[0;34m\u001b[0m\u001b[0m\n\u001b[0m\u001b[1;32m   1007\u001b[0m \u001b[0;34m\u001b[0m\u001b[0m\n\u001b[1;32m   1008\u001b[0m         \u001b[0;32mif\u001b[0m \u001b[0mlen\u001b[0m\u001b[0;34m(\u001b[0m\u001b[0mret\u001b[0m\u001b[0;34m)\u001b[0m\u001b[0;34m:\u001b[0m\u001b[0;34m\u001b[0m\u001b[0;34m\u001b[0m\u001b[0m\n",
      "\u001b[0;32m~/.local/lib/python3.6/site-packages/matplotlib/artist.py\u001b[0m in \u001b[0;36m_update_property\u001b[0;34m(self, k, v)\u001b[0m\n\u001b[1;32m   1000\u001b[0m                 \u001b[0;32mif\u001b[0m \u001b[0;32mnot\u001b[0m \u001b[0mcallable\u001b[0m\u001b[0;34m(\u001b[0m\u001b[0mfunc\u001b[0m\u001b[0;34m)\u001b[0m\u001b[0;34m:\u001b[0m\u001b[0;34m\u001b[0m\u001b[0;34m\u001b[0m\u001b[0m\n\u001b[1;32m   1001\u001b[0m                     raise AttributeError('{!r} object has no property {!r}'\n\u001b[0;32m-> 1002\u001b[0;31m                                          .format(type(self).__name__, k))\n\u001b[0m\u001b[1;32m   1003\u001b[0m                 \u001b[0;32mreturn\u001b[0m \u001b[0mfunc\u001b[0m\u001b[0;34m(\u001b[0m\u001b[0mv\u001b[0m\u001b[0;34m)\u001b[0m\u001b[0;34m\u001b[0m\u001b[0;34m\u001b[0m\u001b[0m\n\u001b[1;32m   1004\u001b[0m \u001b[0;34m\u001b[0m\u001b[0m\n",
      "\u001b[0;31mAttributeError\u001b[0m: 'Rectangle' object has no property 'normed'"
     ]
    },
    {
     "data": {
      "image/png": "[encoded data removed]",
      "text/plain": [
       "<Figure size 432x288 with 1 Axes>"
      ]
     },
     "metadata": {
      "needs_background": "light"
     },
     "output_type": "display_data"
    }
   ],
   "source": [
    "%matplotlib inline\n",
    "def gauss(x,amp,cent,sigma):\n",
    "    return amp*1./np.sqrt(2*np.pi)/sigma*np.exp(-0.5*(x-cent)**2/sigma** 2)\n",
    "\n",
    "v = np.random.normal(0, 1, 10000)\n",
    "h = plt.hist(v, bins=100, normed=True)\n",
    "x = np.linspace(-5, 5, 100)\n",
    "plt.plot(x, gauss(x, 700, 0, 1), color='red', lw=2)"
   ]
  },
  {
   "cell_type": "markdown",
   "metadata": {},
   "source": [
    "Exercise 3\n",
    "----"
   ]
  },
  {
   "cell_type": "code",
   "execution_count": 71,
   "metadata": {},
   "outputs": [
    {
     "data": {
      "image/png": "[encoded data removed]",
      "text/plain": [
       "<Figure size 432x288 with 1 Axes>"
      ]
     },
     "metadata": {
      "needs_background": "light"
     },
     "output_type": "display_data"
    }
   ],
   "source": [
    "total = np.zeros(10000)\n",
    "for i in range(10):\n",
    "    v = np.random.uniform(0, 1, 10000)\n",
    "    total+=v\n",
    "    a=plt.hist(total,bins=80,histtype='step')\n",
    "total/=10\n"
   ]
  },
  {
   "cell_type": "markdown",
   "metadata": {},
   "source": [
    "Files and paths\n",
    "=="
   ]
  },
  {
   "cell_type": "code",
   "execution_count": 1,
   "metadata": {},
   "outputs": [
    {
     "data": {
      "text/plain": [
       "['tmp.ipynb']"
      ]
     },
     "execution_count": 1,
     "metadata": {},
     "output_type": "execute_result"
    }
   ],
   "source": [
    "import glob\n",
    "glob.glob('*.ipynb')"
   ]
  },
  {
   "cell_type": "code",
   "execution_count": 2,
   "metadata": {},
   "outputs": [
    {
     "data": {
      "text/plain": [
       "'data/file.txt'"
      ]
     },
     "execution_count": 2,
     "metadata": {},
     "output_type": "execute_result"
    }
   ],
   "source": [
    "import os\n",
    "os.path.join('data','file.txt')"
   ]
  },
  {
   "cell_type": "markdown",
   "metadata": {},
   "source": [
    "Exercise\n",
    "---"
   ]
  },
  {
   "cell_type": "code",
   "execution_count": 13,
   "metadata": {},
   "outputs": [
    {
     "name": "stdout",
     "output_type": "stream",
     "text": [
      "tmp.ipynb : 235.12109375 kilobytes\n",
      "nfile.txt : 0.00390625 kilobytes\n",
      "pep8.py : 0.013671875 kilobytes\n",
      "tmp.tex : 105.62890625 kilobytes\n",
      "tmp_files : 4.0 kilobytes\n",
      "data : 4.0 kilobytes\n",
      "5e8efad8a58c480001030058 : 4.0 kilobytes\n",
      "tmp.md : 34.6875 kilobytes\n",
      "tmp-plot.png : 12.2197265625 kilobytes\n",
      "munich_temperatures_average.txt : 121.6943359375 kilobytes\n"
     ]
    }
   ],
   "source": [
    "for i in glob.glob('*'):\n",
    "    print (i,':', os.path.getsize(i)/1024,'kilobytes')\n"
   ]
  },
  {
   "cell_type": "markdown",
   "metadata": {},
   "source": [
    "String Formating\n",
    "===="
   ]
  },
  {
   "cell_type": "code",
   "execution_count": 31,
   "metadata": {},
   "outputs": [
    {
     "data": {
      "text/plain": [
       "'004'"
      ]
     },
     "execution_count": 31,
     "metadata": {},
     "output_type": "execute_result"
    }
   ],
   "source": [
    "\"{0:03d}\".format(4)"
   ]
  },
  {
   "cell_type": "code",
   "execution_count": 36,
   "metadata": {},
   "outputs": [
    {
     "data": {
      "text/plain": [
       "'03'"
      ]
     },
     "execution_count": 36,
     "metadata": {},
     "output_type": "execute_result"
    }
   ],
   "source": [
    "\"{day:02d}\".format(day=3)"
   ]
  },
  {
   "cell_type": "code",
   "execution_count": 38,
   "metadata": {},
   "outputs": [
    {
     "data": {
      "text/plain": [
       "'2013 07 08'"
      ]
     },
     "execution_count": 38,
     "metadata": {},
     "output_type": "execute_result"
    }
   ],
   "source": [
    "\"{year:04d} {month:02d} {day:02d}\".format(year=2013, month=7, day=8)"
   ]
  },
  {
   "cell_type": "markdown",
   "metadata": {},
   "source": [
    "Exercise 1\n",
    "---\n",
    "Write a function that takes year, month, day, hour, minutes, and seconds and converts them to a string with format 2006-03-22 13:12:55:"
   ]
  },
  {
   "cell_type": "code",
   "execution_count": 45,
   "metadata": {},
   "outputs": [
    {
     "data": {
      "text/plain": [
       "'2006-03-22 13:12:55'"
      ]
     },
     "execution_count": 45,
     "metadata": {},
     "output_type": "execute_result"
    }
   ],
   "source": [
    "def tdate(year,month,day,hour,minutes,seconds):\n",
    "    return \"{0:04d}-{1:02d}-{2:02d} {3:02d}:{4:02d}:{5:02d}\".format(year,month,day,hour,minutes,seconds)\n",
    "\n",
    "tdate(2006,3,22,13,12,55)"
   ]
  },
  {
   "cell_type": "markdown",
   "metadata": {},
   "source": [
    "Exercise 2\n",
    "---\n",
    "Write a function that takes a string like 2006-03-22 13:12:55 and return the year, month, day, hour, minutes, and seconds as integers"
   ]
  },
  {
   "cell_type": "code",
   "execution_count": 47,
   "metadata": {},
   "outputs": [
    {
     "data": {
      "text/plain": [
       "(2006, 12, 22, 13, 12, 55)"
      ]
     },
     "execution_count": 47,
     "metadata": {},
     "output_type": "execute_result"
    }
   ],
   "source": [
    "def toint(string):\n",
    "    d,t = string.split()\n",
    "    y,m,d = d.split('-')\n",
    "    h,m,s = t.split(':')\n",
    "    return (int(y),int(m),int(d),int(h),int(m),int(s))\n",
    "\n",
    "\n",
    "\n",
    "toint(tdate(2006,3,22,13,12,55))"
   ]
  },
  {
   "cell_type": "markdown",
   "metadata": {},
   "source": [
    "15.Fitting models to data\n",
    "==="
   ]
  },
  {
   "cell_type": "code",
   "execution_count": 3,
   "metadata": {},
   "outputs": [],
   "source": [
    "import numpy as np\n",
    "from scipy.optimize import curve_fit\n",
    "import matplotlib.pyplot as plt"
   ]
  },
  {
   "cell_type": "code",
   "execution_count": 2,
   "metadata": {},
   "outputs": [
    {
     "data": {
      "text/plain": [
       "[<matplotlib.lines.Line2D at 0x7f313603e470>]"
      ]
     },
     "execution_count": 2,
     "metadata": {},
     "output_type": "execute_result"
    },
    {
     "data": {
      "image/png": "[encoded data removed]",
      "text/plain": [
       "<Figure size 432x288 with 1 Axes>"
      ]
     },
     "metadata": {
      "needs_background": "light"
     },
     "output_type": "display_data"
    }
   ],
   "source": [
    "x = np.random.uniform(0., 100., 100)\n",
    "y = 3. * x + 2. + np.random.normal(0., 10., 100)\n",
    "plt.plot(x, y, '.')"
   ]
  },
  {
   "cell_type": "code",
   "execution_count": 3,
   "metadata": {},
   "outputs": [],
   "source": [
    "def line(x,a,b):\n",
    "    return a*x+b"
   ]
  },
  {
   "cell_type": "code",
   "execution_count": 9,
   "metadata": {},
   "outputs": [
    {
     "data": {
      "text/plain": [
       "array([3.00308309, 0.55212097])"
      ]
     },
     "execution_count": 9,
     "metadata": {},
     "output_type": "execute_result"
    }
   ],
   "source": [
    "popt, pcov = curve_fit(line, x, y)\n",
    "popt"
   ]
  },
  {
   "cell_type": "code",
   "execution_count": 6,
   "metadata": {},
   "outputs": [
    {
     "data": {
      "text/plain": [
       "<ErrorbarContainer object of 3 artists>"
      ]
     },
     "execution_count": 6,
     "metadata": {},
     "output_type": "execute_result"
    },
    {
     "data": {
      "image/png": "[encoded data removed]",
      "text/plain": [
       "<Figure size 432x288 with 1 Axes>"
      ]
     },
     "metadata": {
      "needs_background": "light"
     },
     "output_type": "display_data"
    }
   ],
   "source": [
    "e = np.repeat(10., 100)\n",
    "plt.errorbar(x, y, yerr=e, fmt=\"none\")"
   ]
  },
  {
   "cell_type": "code",
   "execution_count": 12,
   "metadata": {},
   "outputs": [],
   "source": [
    "popt, pcov = curve_fit(line, x, y, sigma=e,absolute_sigma=True)"
   ]
  },
  {
   "cell_type": "code",
   "execution_count": 13,
   "metadata": {},
   "outputs": [
    {
     "name": "stdout",
     "output_type": "stream",
     "text": [
      "a = 3.003083087956287 +/- 0.03323753550614215\n",
      "b = 0.5521210224855284 +/- 2.0211087789222617\n"
     ]
    }
   ],
   "source": [
    "print(\"a =\", popt[0], \"+/-\", pcov[0,0]**0.5)\n",
    "print(\"b =\", popt[1], \"+/-\", pcov[1,1]**0.5)"
   ]
  },
  {
   "cell_type": "code",
   "execution_count": 11,
   "metadata": {},
   "outputs": [
    {
     "data": {
      "text/plain": [
       "[<matplotlib.lines.Line2D at 0x7f31358cd2b0>]"
      ]
     },
     "execution_count": 11,
     "metadata": {},
     "output_type": "execute_result"
    },
    {
     "data": {
      "image/png": "[encoded data removed]",
      "text/plain": [
       "<Figure size 432x288 with 1 Axes>"
      ]
     },
     "metadata": {
      "needs_background": "light"
     },
     "output_type": "display_data"
    }
   ],
   "source": [
    "plt.errorbar(x, y, yerr=e, fmt=\"none\")\n",
    "xfine = np.linspace(0., 100., 100)  # define values to plot the function for\n",
    "plt.plot(xfine, line(xfine, *popt), 'r-')"
   ]
  },
  {
   "cell_type": "markdown",
   "metadata": {},
   "source": [
    "Exercise 1\n",
    "--\n",
    "Fit a line and a parabola to it and overplot the two models on top of the data:"
   ]
  },
  {
   "cell_type": "code",
   "execution_count": 14,
   "metadata": {},
   "outputs": [],
   "source": [
    "x = np.random.uniform(0., 10., 100)\n",
    "y = np.polyval([1, 2, -3], x) + np.random.normal(0., 10., 100)\n",
    "e = np.random.uniform(5, 10, 100)"
   ]
  },
  {
   "cell_type": "code",
   "execution_count": 19,
   "metadata": {},
   "outputs": [
    {
     "name": "stdout",
     "output_type": "stream",
     "text": [
      "a = 11.739916102295494 +/- 0.23475798894367061\n",
      "b = -16.63632391086567 +/- 1.390656106218124\n"
     ]
    }
   ],
   "source": [
    "#linear fit\n",
    "popt1, pcov1 = curve_fit(line, x, y, sigma=e,absolute_sigma=True)\n",
    "print(\"a =\", popt1[0], \"+/-\", pcov1[0,0]**0.5)\n",
    "print(\"b =\", popt1[1], \"+/-\", pcov1[1,1]**0.5)"
   ]
  },
  {
   "cell_type": "code",
   "execution_count": 16,
   "metadata": {},
   "outputs": [
    {
     "data": {
      "text/plain": [
       "[<matplotlib.lines.Line2D at 0x7f313584be80>]"
      ]
     },
     "execution_count": 16,
     "metadata": {},
     "output_type": "execute_result"
    },
    {
     "data": {
      "image/png": "[encoded data removed]",
      "text/plain": [
       "<Figure size 432x288 with 1 Axes>"
      ]
     },
     "metadata": {
      "needs_background": "light"
     },
     "output_type": "display_data"
    }
   ],
   "source": [
    "plt.errorbar(x, y, yerr=e, fmt=\"none\")\n",
    "plt.plot(x, line(x, *popt1), 'r-')"
   ]
  },
  {
   "cell_type": "code",
   "execution_count": 1,
   "metadata": {},
   "outputs": [],
   "source": [
    "def parabola(x,a,b):\n",
    "    return a*x**2+b"
   ]
  },
  {
   "cell_type": "code",
   "execution_count": 4,
   "metadata": {},
   "outputs": [
    {
     "ename": "NameError",
     "evalue": "name 'x' is not defined",
     "output_type": "error",
     "traceback": [
      "\u001b[0;31m---------------------------------------------------------------------------\u001b[0m",
      "\u001b[0;31mNameError\u001b[0m                                 Traceback (most recent call last)",
      "\u001b[0;32m<ipython-input-4-6d590d1733f0>\u001b[0m in \u001b[0;36m<module>\u001b[0;34m\u001b[0m\n\u001b[1;32m      1\u001b[0m \u001b[0;31m#parabolic fit\u001b[0m\u001b[0;34m\u001b[0m\u001b[0;34m\u001b[0m\u001b[0;34m\u001b[0m\u001b[0m\n\u001b[0;32m----> 2\u001b[0;31m \u001b[0mpopt2\u001b[0m\u001b[0;34m,\u001b[0m \u001b[0mpcov2\u001b[0m \u001b[0;34m=\u001b[0m \u001b[0mcurve_fit\u001b[0m\u001b[0;34m(\u001b[0m\u001b[0mparabola\u001b[0m\u001b[0;34m,\u001b[0m \u001b[0mx\u001b[0m\u001b[0;34m,\u001b[0m \u001b[0my\u001b[0m\u001b[0;34m,\u001b[0m \u001b[0msigma\u001b[0m\u001b[0;34m=\u001b[0m\u001b[0me\u001b[0m\u001b[0;34m,\u001b[0m\u001b[0mabsolute_sigma\u001b[0m\u001b[0;34m=\u001b[0m\u001b[0;32mTrue\u001b[0m\u001b[0;34m)\u001b[0m\u001b[0;34m\u001b[0m\u001b[0;34m\u001b[0m\u001b[0m\n\u001b[0m\u001b[1;32m      3\u001b[0m \u001b[0mprint\u001b[0m\u001b[0;34m(\u001b[0m\u001b[0;34m\"a =\"\u001b[0m\u001b[0;34m,\u001b[0m \u001b[0mpopt2\u001b[0m\u001b[0;34m[\u001b[0m\u001b[0;36m0\u001b[0m\u001b[0;34m]\u001b[0m\u001b[0;34m,\u001b[0m \u001b[0;34m\"+/-\"\u001b[0m\u001b[0;34m,\u001b[0m \u001b[0mpcov2\u001b[0m\u001b[0;34m[\u001b[0m\u001b[0;36m0\u001b[0m\u001b[0;34m,\u001b[0m\u001b[0;36m0\u001b[0m\u001b[0;34m]\u001b[0m\u001b[0;34m**\u001b[0m\u001b[0;36m0.5\u001b[0m\u001b[0;34m)\u001b[0m\u001b[0;34m\u001b[0m\u001b[0;34m\u001b[0m\u001b[0m\n\u001b[1;32m      4\u001b[0m \u001b[0mprint\u001b[0m\u001b[0;34m(\u001b[0m\u001b[0;34m\"b =\"\u001b[0m\u001b[0;34m,\u001b[0m \u001b[0mpopt2\u001b[0m\u001b[0;34m[\u001b[0m\u001b[0;36m1\u001b[0m\u001b[0;34m]\u001b[0m\u001b[0;34m,\u001b[0m \u001b[0;34m\"+/-\"\u001b[0m\u001b[0;34m,\u001b[0m \u001b[0mpcov2\u001b[0m\u001b[0;34m[\u001b[0m\u001b[0;36m1\u001b[0m\u001b[0;34m,\u001b[0m\u001b[0;36m1\u001b[0m\u001b[0;34m]\u001b[0m\u001b[0;34m**\u001b[0m\u001b[0;36m0.5\u001b[0m\u001b[0;34m)\u001b[0m\u001b[0;34m\u001b[0m\u001b[0;34m\u001b[0m\u001b[0m\n",
      "\u001b[0;31mNameError\u001b[0m: name 'x' is not defined"
     ]
    }
   ],
   "source": [
    "#parabolic fit\n",
    "popt2, pcov2 = curve_fit(parabola, x, y, sigma=e,absolute_sigma=True)\n",
    "print(\"a =\", popt2[0], \"+/-\", pcov2[0,0]**0.5)\n",
    "print(\"b =\", popt2[1], \"+/-\", pcov2[1,1]**0.5)"
   ]
  },
  {
   "cell_type": "code",
   "execution_count": 43,
   "metadata": {},
   "outputs": [
    {
     "data": {
      "text/plain": [
       "[<matplotlib.lines.Line2D at 0x7f3133af01d0>]"
      ]
     },
     "execution_count": 43,
     "metadata": {},
     "output_type": "execute_result"
    },
    {
     "data": {
      "image/png": "[encoded data removed]",
      "text/plain": [
       "<Figure size 432x288 with 1 Axes>"
      ]
     },
     "metadata": {
      "needs_background": "light"
     },
     "output_type": "display_data"
    }
   ],
   "source": [
    "plt.errorbar(x, y, yerr=e, fmt=\"none\")\n",
    "plt.plot(x, parabola(x, *popt2), 'r.')\n",
    "plt.plot(x, line(x, *popt1), 'g.')"
   ]
  },
  {
   "cell_type": "markdown",
   "metadata": {},
   "source": [
    "Exercise 2\n",
    "---"
   ]
  },
  {
   "cell_type": "code",
   "execution_count": 5,
   "metadata": {},
   "outputs": [],
   "source": [
    "# The following code reads in the file and removes bad values\n",
    "date, temperature = np.loadtxt('data/munich_temperatures_average_with_bad_data.txt', unpack=True)\n",
    "keep = np.abs(temperature) < 90\n",
    "date = date[keep]\n",
    "temperature = temperature[keep]"
   ]
  },
  {
   "cell_type": "code",
   "execution_count": 6,
   "metadata": {},
   "outputs": [],
   "source": [
    "def temp_eq(t,a,b,c):\n",
    "    return a*np.cos(2*np.pi*t+b)+c"
   ]
  },
  {
   "cell_type": "code",
   "execution_count": 7,
   "metadata": {},
   "outputs": [
    {
     "name": "stdout",
     "output_type": "stream",
     "text": [
      "a = -9.955183583086157 +/- 0.06586555690649375\n",
      "b = 12.313405907391308 +/- 0.006655123650830723\n"
     ]
    }
   ],
   "source": [
    "#fit function\n",
    "popt3, pcov3 = curve_fit(temp_eq, date, temperature)\n",
    "print(\"a =\", popt3[0], \"+/-\", pcov3[0,0]**0.5)\n",
    "print(\"b =\", popt3[1], \"+/-\", pcov3[1,1]**0.5)"
   ]
  },
  {
   "cell_type": "code",
   "execution_count": 12,
   "metadata": {},
   "outputs": [
    {
     "data": {
      "text/plain": [
       "[<matplotlib.lines.Line2D at 0x7fcfe2dc0a90>,\n",
       " <matplotlib.lines.Line2D at 0x7fcfe2dc0b70>]"
      ]
     },
     "execution_count": 12,
     "metadata": {},
     "output_type": "execute_result"
    },
    {
     "data": {
      "image/png": "[encoded data removed]",
      "text/plain": [
       "<Figure size 432x288 with 1 Axes>"
      ]
     },
     "metadata": {
      "needs_background": "light"
     },
     "output_type": "display_data"
    }
   ],
   "source": [
    "mask=(date>=2008)&(date<=2012)\n",
    "# plt.plot(date[mask],temperature[mask],'k.', np.linspace(1995,2014,10000), temp_eq(np.linspace(1995,2014,10000), *popt3), 'r.')\n",
    "# plt.xlim(2008,2012)\n",
    "plt.plot(date[mask],temperature[mask],'k.', date[mask], temp_eq(date[mask], *popt3), 'r')"
   ]
  },
  {
   "cell_type": "code",
   "execution_count": 13,
   "metadata": {},
   "outputs": [
    {
     "data": {
      "text/plain": [
       "'The overal average temperature in Munich is: 9.26 degrees'"
      ]
     },
     "execution_count": 13,
     "metadata": {},
     "output_type": "execute_result"
    }
   ],
   "source": [
    "'The overal average temperature in Munich is: {:.2f} degrees'.format(np.mean(temperature[mask]))"
   ]
  },
  {
   "cell_type": "code",
   "execution_count": 17,
   "metadata": {},
   "outputs": [
    {
     "data": {
      "text/plain": [
       "(-10.7778, 25.7222, 9.261252084167237)"
      ]
     },
     "execution_count": 17,
     "metadata": {},
     "output_type": "execute_result"
    }
   ],
   "source": [
    "temperature[mask].min(),temperature[mask].max(),temperature[mask].mean()"
   ]
  },
  {
   "cell_type": "code",
   "execution_count": 15,
   "metadata": {},
   "outputs": [
    {
     "name": "stdout",
     "output_type": "stream",
     "text": [
      "14.69511299273087\n"
     ]
    }
   ],
   "source": [
    "diff=(4*np.pi-popt3[1])\n",
    "print (365*diff/(2*np.pi))"
   ]
  },
  {
   "cell_type": "markdown",
   "metadata": {},
   "source": [
    "16.Interpolation and Integration\n",
    "=="
   ]
  },
  {
   "cell_type": "code",
   "execution_count": 2,
   "metadata": {},
   "outputs": [],
   "source": [
    "from scipy.interpolate import interp1d\n",
    "import numpy as np"
   ]
  },
  {
   "cell_type": "code",
   "execution_count": 3,
   "metadata": {},
   "outputs": [],
   "source": [
    "x = np.array([0., 1., 3., 4.])\n",
    "y = np.array([0., 4., 3., 2.])"
   ]
  },
  {
   "cell_type": "code",
   "execution_count": 5,
   "metadata": {},
   "outputs": [],
   "source": [
    "f=interp1d(x,y)"
   ]
  },
  {
   "cell_type": "code",
   "execution_count": 11,
   "metadata": {},
   "outputs": [
    {
     "data": {
      "text/plain": [
       "array([  3.5, -10. ])"
      ]
     },
     "execution_count": 11,
     "metadata": {},
     "output_type": "execute_result"
    }
   ],
   "source": [
    "f([2,-1])"
   ]
  },
  {
   "cell_type": "code",
   "execution_count": 8,
   "metadata": {},
   "outputs": [],
   "source": [
    "f = interp1d(x, y, bounds_error=False, fill_value=-10.)"
   ]
  },
  {
   "cell_type": "code",
   "execution_count": 10,
   "metadata": {},
   "outputs": [
    {
     "data": {
      "text/plain": [
       "array([  3.5, -10. ])"
      ]
     },
     "execution_count": 10,
     "metadata": {},
     "output_type": "execute_result"
    }
   ],
   "source": [
    "f([2,-1])"
   ]
  },
  {
   "cell_type": "code",
   "execution_count": 13,
   "metadata": {},
   "outputs": [
    {
     "data": {
      "text/plain": [
       "array(4.33333333)"
      ]
     },
     "execution_count": 13,
     "metadata": {},
     "output_type": "execute_result"
    }
   ],
   "source": [
    "f = interp1d(x, y, kind='cubic')\n",
    "f(2)"
   ]
  },
  {
   "cell_type": "code",
   "execution_count": 14,
   "metadata": {},
   "outputs": [],
   "source": [
    "def simple_function(x):\n",
    "    return 3. * x**2 + 2. * x + 1."
   ]
  },
  {
   "cell_type": "code",
   "execution_count": 15,
   "metadata": {},
   "outputs": [
    {
     "name": "stdout",
     "output_type": "stream",
     "text": [
      "(10.999999999999998, 1.221245327087672e-13)\n"
     ]
    }
   ],
   "source": [
    "from scipy.integrate import quad\n",
    "print(quad(simple_function, 1., 2.))"
   ]
  },
  {
   "cell_type": "code",
   "execution_count": 17,
   "metadata": {},
   "outputs": [],
   "source": [
    "x = np.linspace(1., 2., 1000)\n",
    "y = 3. * x**2 + 2. * x + 1."
   ]
  },
  {
   "cell_type": "code",
   "execution_count": 19,
   "metadata": {},
   "outputs": [
    {
     "name": "stdout",
     "output_type": "stream",
     "text": [
      "11.000000000501505\n"
     ]
    }
   ],
   "source": [
    "from scipy.integrate import simps\n",
    "print(simps(y, x))"
   ]
  },
  {
   "cell_type": "code",
   "execution_count": 20,
   "metadata": {},
   "outputs": [
    {
     "name": "stdout",
     "output_type": "stream",
     "text": [
      "11.000000501001502\n"
     ]
    }
   ],
   "source": [
    "from scipy.integrate import trapz\n",
    "print(trapz(y, x))"
   ]
  },
  {
   "cell_type": "markdown",
   "metadata": {},
   "source": [
    "Exercise\n",
    "--"
   ]
  },
  {
   "cell_type": "code",
   "execution_count": 31,
   "metadata": {},
   "outputs": [],
   "source": [
    "def gauss(x,x0,sigma):\n",
    "    return (1/(np.sqrt(2*np.pi)*sigma))*np.exp(-(x-x0)**2/(2*sigma**2))"
   ]
  },
  {
   "cell_type": "code",
   "execution_count": 42,
   "metadata": {},
   "outputs": [
    {
     "name": "stdout",
     "output_type": "stream",
     "text": [
      "(1.0, 8.671029987439099e-10)\n"
     ]
    }
   ],
   "source": [
    "print (quad(gauss,-10,10,args=(0,1)))"
   ]
  },
  {
   "cell_type": "code",
   "execution_count": 43,
   "metadata": {},
   "outputs": [
    {
     "data": {
      "text/plain": [
       "1.0"
      ]
     },
     "execution_count": 43,
     "metadata": {},
     "output_type": "execute_result"
    }
   ],
   "source": [
    "x=np.linspace(-10,10,100)\n",
    "y=gauss(x,0,1)\n",
    "simps(y,x)"
   ]
  },
  {
   "cell_type": "markdown",
   "metadata": {},
   "source": [
    "17.Understanding Python errors\n",
    "=="
   ]
  },
  {
   "cell_type": "code",
   "execution_count": 1,
   "metadata": {},
   "outputs": [],
   "source": [
    "import numpy as np\n",
    "\n",
    "def subtract_smooth(x, y):\n",
    "    y_new = y - median_filter(x, y, 1.)\n",
    "    return y_new\n",
    "\n",
    "def median_filter(x, y, width):\n",
    "    y_new = np.zeros(y.shape)\n",
    "    for i in range(len(x)):\n",
    "        y_new[i] = np.median(y[np.abs(x - x[i]) < width * 0.5])\n",
    "    return y_new"
   ]
  },
  {
   "cell_type": "code",
   "execution_count": 2,
   "metadata": {},
   "outputs": [
    {
     "ename": "IndexError",
     "evalue": "boolean index did not match indexed array along dimension 0; dimension is 4 but corresponding boolean dimension is 5",
     "output_type": "error",
     "traceback": [
      "\u001b[0;31m---------------------------------------------------------------------------\u001b[0m",
      "\u001b[0;31mIndexError\u001b[0m                                Traceback (most recent call last)",
      "\u001b[0;32m<ipython-input-2-d9260f0fd73b>\u001b[0m in \u001b[0;36m<module>\u001b[0;34m\u001b[0m\n\u001b[0;32m----> 1\u001b[0;31m \u001b[0msubtract_smooth\u001b[0m\u001b[0;34m(\u001b[0m\u001b[0mnp\u001b[0m\u001b[0;34m.\u001b[0m\u001b[0marray\u001b[0m\u001b[0;34m(\u001b[0m\u001b[0;34m[\u001b[0m\u001b[0;36m1\u001b[0m\u001b[0;34m,\u001b[0m\u001b[0;36m2\u001b[0m\u001b[0;34m,\u001b[0m\u001b[0;36m3\u001b[0m\u001b[0;34m,\u001b[0m\u001b[0;36m4\u001b[0m\u001b[0;34m,\u001b[0m\u001b[0;36m5\u001b[0m\u001b[0;34m]\u001b[0m\u001b[0;34m)\u001b[0m\u001b[0;34m,\u001b[0m\u001b[0mnp\u001b[0m\u001b[0;34m.\u001b[0m\u001b[0marray\u001b[0m\u001b[0;34m(\u001b[0m\u001b[0;34m[\u001b[0m\u001b[0;36m4\u001b[0m\u001b[0;34m,\u001b[0m\u001b[0;36m5\u001b[0m\u001b[0;34m,\u001b[0m\u001b[0;36m6\u001b[0m\u001b[0;34m,\u001b[0m\u001b[0;36m8\u001b[0m\u001b[0;34m]\u001b[0m\u001b[0;34m)\u001b[0m\u001b[0;34m)\u001b[0m\u001b[0;34m\u001b[0m\u001b[0;34m\u001b[0m\u001b[0m\n\u001b[0m",
      "\u001b[0;32m<ipython-input-1-c4c6b87a1a18>\u001b[0m in \u001b[0;36msubtract_smooth\u001b[0;34m(x, y)\u001b[0m\n\u001b[1;32m      2\u001b[0m \u001b[0;34m\u001b[0m\u001b[0m\n\u001b[1;32m      3\u001b[0m \u001b[0;32mdef\u001b[0m \u001b[0msubtract_smooth\u001b[0m\u001b[0;34m(\u001b[0m\u001b[0mx\u001b[0m\u001b[0;34m,\u001b[0m \u001b[0my\u001b[0m\u001b[0;34m)\u001b[0m\u001b[0;34m:\u001b[0m\u001b[0;34m\u001b[0m\u001b[0;34m\u001b[0m\u001b[0m\n\u001b[0;32m----> 4\u001b[0;31m     \u001b[0my_new\u001b[0m \u001b[0;34m=\u001b[0m \u001b[0my\u001b[0m \u001b[0;34m-\u001b[0m \u001b[0mmedian_filter\u001b[0m\u001b[0;34m(\u001b[0m\u001b[0mx\u001b[0m\u001b[0;34m,\u001b[0m \u001b[0my\u001b[0m\u001b[0;34m,\u001b[0m \u001b[0;36m1.\u001b[0m\u001b[0;34m)\u001b[0m\u001b[0;34m\u001b[0m\u001b[0;34m\u001b[0m\u001b[0m\n\u001b[0m\u001b[1;32m      5\u001b[0m     \u001b[0;32mreturn\u001b[0m \u001b[0my_new\u001b[0m\u001b[0;34m\u001b[0m\u001b[0;34m\u001b[0m\u001b[0m\n\u001b[1;32m      6\u001b[0m \u001b[0;34m\u001b[0m\u001b[0m\n",
      "\u001b[0;32m<ipython-input-1-c4c6b87a1a18>\u001b[0m in \u001b[0;36mmedian_filter\u001b[0;34m(x, y, width)\u001b[0m\n\u001b[1;32m      8\u001b[0m     \u001b[0my_new\u001b[0m \u001b[0;34m=\u001b[0m \u001b[0mnp\u001b[0m\u001b[0;34m.\u001b[0m\u001b[0mzeros\u001b[0m\u001b[0;34m(\u001b[0m\u001b[0my\u001b[0m\u001b[0;34m.\u001b[0m\u001b[0mshape\u001b[0m\u001b[0;34m)\u001b[0m\u001b[0;34m\u001b[0m\u001b[0;34m\u001b[0m\u001b[0m\n\u001b[1;32m      9\u001b[0m     \u001b[0;32mfor\u001b[0m \u001b[0mi\u001b[0m \u001b[0;32min\u001b[0m \u001b[0mrange\u001b[0m\u001b[0;34m(\u001b[0m\u001b[0mlen\u001b[0m\u001b[0;34m(\u001b[0m\u001b[0mx\u001b[0m\u001b[0;34m)\u001b[0m\u001b[0;34m)\u001b[0m\u001b[0;34m:\u001b[0m\u001b[0;34m\u001b[0m\u001b[0;34m\u001b[0m\u001b[0m\n\u001b[0;32m---> 10\u001b[0;31m         \u001b[0my_new\u001b[0m\u001b[0;34m[\u001b[0m\u001b[0mi\u001b[0m\u001b[0;34m]\u001b[0m \u001b[0;34m=\u001b[0m \u001b[0mnp\u001b[0m\u001b[0;34m.\u001b[0m\u001b[0mmedian\u001b[0m\u001b[0;34m(\u001b[0m\u001b[0my\u001b[0m\u001b[0;34m[\u001b[0m\u001b[0mnp\u001b[0m\u001b[0;34m.\u001b[0m\u001b[0mabs\u001b[0m\u001b[0;34m(\u001b[0m\u001b[0mx\u001b[0m \u001b[0;34m-\u001b[0m \u001b[0mx\u001b[0m\u001b[0;34m[\u001b[0m\u001b[0mi\u001b[0m\u001b[0;34m]\u001b[0m\u001b[0;34m)\u001b[0m \u001b[0;34m<\u001b[0m \u001b[0mwidth\u001b[0m \u001b[0;34m*\u001b[0m \u001b[0;36m0.5\u001b[0m\u001b[0;34m]\u001b[0m\u001b[0;34m)\u001b[0m\u001b[0;34m\u001b[0m\u001b[0;34m\u001b[0m\u001b[0m\n\u001b[0m\u001b[1;32m     11\u001b[0m     \u001b[0;32mreturn\u001b[0m \u001b[0my_new\u001b[0m\u001b[0;34m\u001b[0m\u001b[0;34m\u001b[0m\u001b[0m\n",
      "\u001b[0;31mIndexError\u001b[0m: boolean index did not match indexed array along dimension 0; dimension is 4 but corresponding boolean dimension is 5"
     ]
    }
   ],
   "source": [
    "subtract_smooth(np.array([1,2,3,4,5]),np.array([4,5,6,8]))"
   ]
  },
  {
   "cell_type": "code",
   "execution_count": 3,
   "metadata": {},
   "outputs": [
    {
     "name": "stdout",
     "output_type": "stream",
     "text": [
      "> \u001b[0;32m<ipython-input-1-c4c6b87a1a18>\u001b[0m(10)\u001b[0;36mmedian_filter\u001b[0;34m()\u001b[0m\n",
      "\u001b[0;32m      7 \u001b[0;31m\u001b[0;32mdef\u001b[0m \u001b[0mmedian_filter\u001b[0m\u001b[0;34m(\u001b[0m\u001b[0mx\u001b[0m\u001b[0;34m,\u001b[0m \u001b[0my\u001b[0m\u001b[0;34m,\u001b[0m \u001b[0mwidth\u001b[0m\u001b[0;34m)\u001b[0m\u001b[0;34m:\u001b[0m\u001b[0;34m\u001b[0m\u001b[0;34m\u001b[0m\u001b[0m\n",
      "\u001b[0m\u001b[0;32m      8 \u001b[0;31m    \u001b[0my_new\u001b[0m \u001b[0;34m=\u001b[0m \u001b[0mnp\u001b[0m\u001b[0;34m.\u001b[0m\u001b[0mzeros\u001b[0m\u001b[0;34m(\u001b[0m\u001b[0my\u001b[0m\u001b[0;34m.\u001b[0m\u001b[0mshape\u001b[0m\u001b[0;34m)\u001b[0m\u001b[0;34m\u001b[0m\u001b[0;34m\u001b[0m\u001b[0m\n",
      "\u001b[0m\u001b[0;32m      9 \u001b[0;31m    \u001b[0;32mfor\u001b[0m \u001b[0mi\u001b[0m \u001b[0;32min\u001b[0m \u001b[0mrange\u001b[0m\u001b[0;34m(\u001b[0m\u001b[0mlen\u001b[0m\u001b[0;34m(\u001b[0m\u001b[0mx\u001b[0m\u001b[0;34m)\u001b[0m\u001b[0;34m)\u001b[0m\u001b[0;34m:\u001b[0m\u001b[0;34m\u001b[0m\u001b[0;34m\u001b[0m\u001b[0m\n",
      "\u001b[0m\u001b[0;32m---> 10 \u001b[0;31m        \u001b[0my_new\u001b[0m\u001b[0;34m[\u001b[0m\u001b[0mi\u001b[0m\u001b[0;34m]\u001b[0m \u001b[0;34m=\u001b[0m \u001b[0mnp\u001b[0m\u001b[0;34m.\u001b[0m\u001b[0mmedian\u001b[0m\u001b[0;34m(\u001b[0m\u001b[0my\u001b[0m\u001b[0;34m[\u001b[0m\u001b[0mnp\u001b[0m\u001b[0;34m.\u001b[0m\u001b[0mabs\u001b[0m\u001b[0;34m(\u001b[0m\u001b[0mx\u001b[0m \u001b[0;34m-\u001b[0m \u001b[0mx\u001b[0m\u001b[0;34m[\u001b[0m\u001b[0mi\u001b[0m\u001b[0;34m]\u001b[0m\u001b[0;34m)\u001b[0m \u001b[0;34m<\u001b[0m \u001b[0mwidth\u001b[0m \u001b[0;34m*\u001b[0m \u001b[0;36m0.5\u001b[0m\u001b[0;34m]\u001b[0m\u001b[0;34m)\u001b[0m\u001b[0;34m\u001b[0m\u001b[0;34m\u001b[0m\u001b[0m\n",
      "\u001b[0m\u001b[0;32m     11 \u001b[0;31m    \u001b[0;32mreturn\u001b[0m \u001b[0my_new\u001b[0m\u001b[0;34m\u001b[0m\u001b[0;34m\u001b[0m\u001b[0m\n",
      "\u001b[0m\n",
      "ipdb> x\n",
      "array([1, 2, 3, 4, 5])\n",
      "ipdb> y\n",
      "array([4, 5, 6, 8])\n",
      "ipdb> exit()\n"
     ]
    }
   ],
   "source": [
    "%debug"
   ]
  },
  {
   "cell_type": "code",
   "execution_count": 5,
   "metadata": {},
   "outputs": [],
   "source": [
    "s = 'hello'"
   ]
  },
  {
   "cell_type": "code",
   "execution_count": 6,
   "metadata": {},
   "outputs": [
    {
     "ename": "TypeError",
     "evalue": "'str' object does not support item assignment",
     "output_type": "error",
     "traceback": [
      "\u001b[0;31m---------------------------------------------------------------------------\u001b[0m",
      "\u001b[0;31mTypeError\u001b[0m                                 Traceback (most recent call last)",
      "\u001b[0;32m<ipython-input-6-41a2b295b3e4>\u001b[0m in \u001b[0;36m<module>\u001b[0;34m\u001b[0m\n\u001b[0;32m----> 1\u001b[0;31m \u001b[0ms\u001b[0m\u001b[0;34m[\u001b[0m\u001b[0;36m1\u001b[0m\u001b[0;34m]\u001b[0m \u001b[0;34m=\u001b[0m \u001b[0;34m'a'\u001b[0m\u001b[0;34m\u001b[0m\u001b[0;34m\u001b[0m\u001b[0m\n\u001b[0m",
      "\u001b[0;31mTypeError\u001b[0m: 'str' object does not support item assignment"
     ]
    }
   ],
   "source": [
    "s[1] = 'a'"
   ]
  },
  {
   "cell_type": "code",
   "execution_count": 7,
   "metadata": {},
   "outputs": [
    {
     "name": "stdout",
     "output_type": "stream",
     "text": [
      "Can't set s[1]='a'\n"
     ]
    }
   ],
   "source": [
    "try:\n",
    "    s[1]='a'\n",
    "except:\n",
    "    print (\"Can't set s[1]='a'\")"
   ]
  },
  {
   "cell_type": "code",
   "execution_count": 8,
   "metadata": {},
   "outputs": [
    {
     "name": "stdout",
     "output_type": "stream",
     "text": [
      "Can't set s[1]='a'\n"
     ]
    }
   ],
   "source": [
    "try:\n",
    "    s[1]='a'\n",
    "except TypeError:\n",
    "    print (\"Can't set s[1]='a'\")"
   ]
  },
  {
   "cell_type": "code",
   "execution_count": 9,
   "metadata": {},
   "outputs": [
    {
     "ename": "TypeError",
     "evalue": "'str' object does not support item assignment",
     "output_type": "error",
     "traceback": [
      "\u001b[0;31m---------------------------------------------------------------------------\u001b[0m",
      "\u001b[0;31mTypeError\u001b[0m                                 Traceback (most recent call last)",
      "\u001b[0;32m<ipython-input-9-75fdfe6a8be2>\u001b[0m in \u001b[0;36m<module>\u001b[0;34m\u001b[0m\n\u001b[1;32m      1\u001b[0m \u001b[0;32mtry\u001b[0m\u001b[0;34m:\u001b[0m\u001b[0;34m\u001b[0m\u001b[0;34m\u001b[0m\u001b[0m\n\u001b[0;32m----> 2\u001b[0;31m     \u001b[0ms\u001b[0m\u001b[0;34m[\u001b[0m\u001b[0;36m1\u001b[0m\u001b[0;34m]\u001b[0m\u001b[0;34m=\u001b[0m\u001b[0;34m'a'\u001b[0m\u001b[0;34m\u001b[0m\u001b[0;34m\u001b[0m\u001b[0m\n\u001b[0m\u001b[1;32m      3\u001b[0m \u001b[0;32mexcept\u001b[0m \u001b[0mValueError\u001b[0m\u001b[0;34m:\u001b[0m\u001b[0;34m\u001b[0m\u001b[0;34m\u001b[0m\u001b[0m\n\u001b[1;32m      4\u001b[0m     \u001b[0mprint\u001b[0m \u001b[0;34m(\u001b[0m\u001b[0;34m\"Can't set s[1]='a'\"\u001b[0m\u001b[0;34m)\u001b[0m\u001b[0;34m\u001b[0m\u001b[0;34m\u001b[0m\u001b[0m\n",
      "\u001b[0;31mTypeError\u001b[0m: 'str' object does not support item assignment"
     ]
    }
   ],
   "source": [
    "try:\n",
    "    s[1]='a'\n",
    "except ValueError:\n",
    "    print (\"Can't set s[1]='a'\")"
   ]
  },
  {
   "cell_type": "code",
   "execution_count": 12,
   "metadata": {},
   "outputs": [
    {
     "ename": "TypeError",
     "evalue": "'str' object does not support item assignment",
     "output_type": "error",
     "traceback": [
      "\u001b[0;31m---------------------------------------------------------------------------\u001b[0m",
      "\u001b[0;31mTypeError\u001b[0m                                 Traceback (most recent call last)",
      "\u001b[0;32m<ipython-input-12-75fdfe6a8be2>\u001b[0m in \u001b[0;36m<module>\u001b[0;34m\u001b[0m\n\u001b[1;32m      1\u001b[0m \u001b[0;32mtry\u001b[0m\u001b[0;34m:\u001b[0m\u001b[0;34m\u001b[0m\u001b[0;34m\u001b[0m\u001b[0m\n\u001b[0;32m----> 2\u001b[0;31m     \u001b[0ms\u001b[0m\u001b[0;34m[\u001b[0m\u001b[0;36m1\u001b[0m\u001b[0;34m]\u001b[0m\u001b[0;34m=\u001b[0m\u001b[0;34m'a'\u001b[0m\u001b[0;34m\u001b[0m\u001b[0;34m\u001b[0m\u001b[0m\n\u001b[0m\u001b[1;32m      3\u001b[0m \u001b[0;32mexcept\u001b[0m \u001b[0mValueError\u001b[0m\u001b[0;34m:\u001b[0m\u001b[0;34m\u001b[0m\u001b[0;34m\u001b[0m\u001b[0m\n\u001b[1;32m      4\u001b[0m     \u001b[0mprint\u001b[0m \u001b[0;34m(\u001b[0m\u001b[0;34m\"Can't set s[1]='a'\"\u001b[0m\u001b[0;34m)\u001b[0m\u001b[0;34m\u001b[0m\u001b[0;34m\u001b[0m\u001b[0m\n",
      "\u001b[0;31mTypeError\u001b[0m: 'str' object does not support item assignment"
     ]
    }
   ],
   "source": [
    "try:\n",
    "    s[1]='a'\n",
    "except ValueError:\n",
    "    print (\"Can't set s[1]='a'\")"
   ]
  },
  {
   "cell_type": "markdown",
   "metadata": {},
   "source": [
    "Accessing Remote Resources\n",
    "==\n",
    "Web pages and data\n",
    "=="
   ]
  },
  {
   "cell_type": "code",
   "execution_count": 4,
   "metadata": {},
   "outputs": [],
   "source": [
    "import requests"
   ]
  },
  {
   "cell_type": "code",
   "execution_count": 14,
   "metadata": {},
   "outputs": [],
   "source": [
    "response = requests.get('http://xkcd.com/353/')"
   ]
  },
  {
   "cell_type": "code",
   "execution_count": 15,
   "metadata": {},
   "outputs": [
    {
     "name": "stdout",
     "output_type": "stream",
     "text": [
      "<!DOCTYPE html>\n",
      "<html>\n",
      "<head>\n",
      "<link rel=\"stylesheet\" type=\"text/css\" href=\"/s/7d94e0.css\" title=\"Default\"/>\n",
      "<title>xkcd: Python</title>\n",
      "<meta http-equiv=\"X-UA-Compatible\" content=\"IE=edge\"/>\n",
      "<link rel=\"shortcut icon\" href=\"/s/919f27.ico\" type=\"image/x-icon\"/>\n",
      "<link rel=\"icon\" href=\"/s/919f27.ico\" type=\"image/x-icon\"/>\n",
      "<link rel=\"alternate\" type=\"application/atom+xml\" title=\"Atom 1.0\" href=\"/atom.xml\"/>\n",
      "<link rel=\"alternate\" type=\"application/rss+xml\" title=\"RSS 2.0\" href=\"/rss.xml\"/>\n",
      "<script type=\"text/javascript\" src=\"/s/b66ed7.js\" async></script>\n",
      "<script type=\"text/javascript\" src=\"/s/1b9456.js\" async></script>\n",
      "\n",
      "<meta property=\"og:site_name\" content=\"xkcd\">\n",
      "\n",
      "<meta property=\"og:title\" content=\"Python\">\n",
      "<meta property=\"og:url\" content=\"https://xkcd.com/353/\">\n",
      "<meta property=\"og:image\" content=\"https://imgs.xkcd.com/comics/\">\n",
      "<meta name=\"twitter:card\" content=\"summary_large_image\">\n",
      "\n",
      "</head>\n",
      "<body>\n",
      "<div id=\"topContainer\">\n",
      "<div id=\"topLeft\">\n",
      "<ul>\n",
      "<li><a href=\"/archive\">Archive</a></li>\n",
      "<l\n"
     ]
    }
   ],
   "source": [
    "print(response.text[:1000])  # only print the first 1000 characters"
   ]
  },
  {
   "cell_type": "code",
   "execution_count": 9,
   "metadata": {},
   "outputs": [],
   "source": [
    "r2 = requests.get('http://wwwstaff.ari.uni-heidelberg.de/kruijssen/pycourse/data/20060313.npy')"
   ]
  },
  {
   "cell_type": "code",
   "execution_count": 11,
   "metadata": {},
   "outputs": [
    {
     "data": {
      "text/plain": [
       "{'Date': 'Fri, 17 Apr 2020 20:04:27 GMT', 'Server': 'Apache/2.4.6 (CentOS) OpenSSL/1.0.2k-fips mod_fcgid/2.3.9 PHP/7.4.3', 'Strict-Transport-Security': 'max-age=63072000; includeSubDomains; preload', 'X-Content-Type-Options': 'nosniff', 'Last-Modified': 'Thu, 08 Mar 2018 13:31:00 GMT', 'ETag': '\"4323d0-566e6afb5ed00\"', 'Accept-Ranges': 'bytes', 'Content-Length': '4400080', 'Keep-Alive': 'timeout=5, max=100', 'Connection': 'Keep-Alive'}"
      ]
     },
     "execution_count": 11,
     "metadata": {},
     "output_type": "execute_result"
    }
   ],
   "source": [
    "r2.headers"
   ]
  },
  {
   "cell_type": "code",
   "execution_count": 14,
   "metadata": {},
   "outputs": [
    {
     "data": {
      "text/plain": [
       "\"�NUMPY\\x01\\x00F\\x00{'descr': '>f4', 'fortran_order': False, 'shape': (1100, 1000), }    \\n\\x00\\x00\\x00\\x00\\x00\\x00\\x00\\x00\\x00\\x00\\x00\\x00\\x00\\x00\\x00\\x00\\x00\\x00\\x00\\x00\\x00\\x00\\x00\\x00\\x00\\x00\\x00\\x00\\x00\\x00\\x00\\x00\\x00\\x00\\x00\\x00\\x00\\x00\\x00\\x00\\x00\\x00\\x00\\x00\\x00\\x00\\x00\\x00\\x00\\x00\\x00\\x00\\x00\\x00\\x00\\x00@� ;����A�PRB;a�������������������������������������������������\""
      ]
     },
     "execution_count": 14,
     "metadata": {},
     "output_type": "execute_result"
    }
   ],
   "source": [
    "r2.text[:200]"
   ]
  },
  {
   "cell_type": "code",
   "execution_count": 15,
   "metadata": {},
   "outputs": [
    {
     "data": {
      "text/plain": [
       "b\"\\x93NUMPY\\x01\\x00F\\x00{'descr': '>f4', 'fortran_order': False, 'shape': (1100, 1000), }    \\n\\x00\\x00\\x00\\x00\\x00\\x00\\x00\\x00\\x00\\x00\\x00\\x00\\x00\\x00\\x00\\x00\\x00\\x00\\x00\\x00\\x00\\x00\\x00\\x00\\x00\\x00\\x00\\x00\\x00\\x00\\x00\\x00\\x00\\x00\\x00\\x00\\x00\\x00\\x00\\x00\\x00\\x00\\x00\\x00\\x00\\x00\\x00\\x00\\x00\\x00\\x00\\x00\\x00\\x00\\x00\\x00@\\xe5 ;\\xff\\xff\\xff\\xffA\\xc2PRB;a\\x9d\\xff\\xff\\xff\\xff\\xff\\xff\\xff\\xff\\xff\\xff\\xff\\xff\\xff\\xff\\xff\\xff\\xff\\xff\\xff\\xff\\xff\\xff\\xff\\xff\\xff\\xff\\xff\\xff\\xff\\xff\\xff\\xff\\xff\\xff\\xff\\xff\\xff\\xff\\xff\\xff\\xff\\xff\\xff\\xff\\xff\\xff\\xff\\xff\""
      ]
     },
     "execution_count": 15,
     "metadata": {},
     "output_type": "execute_result"
    }
   ],
   "source": [
    "r2.content[:200]"
   ]
  },
  {
   "cell_type": "code",
   "execution_count": 16,
   "metadata": {},
   "outputs": [],
   "source": [
    "with open('20060313.npy', 'wb') as f:\n",
    "    f.write(r2.content)"
   ]
  },
  {
   "cell_type": "code",
   "execution_count": 2,
   "metadata": {},
   "outputs": [],
   "source": [
    "import numpy as np\n",
    "data = np.load('20060313.npy')"
   ]
  },
  {
   "cell_type": "code",
   "execution_count": 18,
   "metadata": {},
   "outputs": [
    {
     "data": {
      "text/plain": [
       "<matplotlib.image.AxesImage at 0x7f870b5e6550>"
      ]
     },
     "execution_count": 18,
     "metadata": {},
     "output_type": "execute_result"
    },
    {
     "data": {
      "image/png": "[encoded data removed]",
      "text/plain": [
       "<Figure size 864x864 with 1 Axes>"
      ]
     },
     "metadata": {
      "needs_background": "light"
     },
     "output_type": "display_data"
    }
   ],
   "source": [
    "%matplotlib inline\n",
    "import matplotlib.pyplot as plt\n",
    "plt.figure(figsize=(12,12))\n",
    "plt.imshow(data, origin='lower')"
   ]
  },
  {
   "cell_type": "code",
   "execution_count": 5,
   "metadata": {},
   "outputs": [],
   "source": [
    "r = requests.get('http://www.wetteronline.de/wetter/heidelberg')"
   ]
  },
  {
   "cell_type": "code",
   "execution_count": 6,
   "metadata": {},
   "outputs": [
    {
     "data": {
      "text/plain": [
       "\"<!DOCTYPE html>\\n<html>\\n<head>\\n <script>(function(n,p){function u(a,b){try{return JSON.parse(a);}catch(c){return b;}}function v(a){return'\\\\x31'===a||'\\\\x74\\\\x72\\\\x75\\\\x65'===a;}function w(a){try{return p.createElement(a);}catch(b){}return p.createElementNS('http://www.w3.org/1999/xhtml',a);}function l(a,b,c){a[c]=b[c].bind(b);}function f(a,b,c){a[c]=b[c];}function F(a,b){return b*(a+1)+(~~(5*q.random())-2);}function G(a,b,c){b=void 0===b?10:b;c=void 0===c?F:c;for(var e=q.floor(a.length/b)+(0===a.length%b?-1:0),d=0;d<e;d+=1)a.splice(c(d,b),0,'/');return a;}function x(a){for(var b='',c=0;8>c;c++)b+=a(c).toString(16).substring(1);return b.split('');}function y(){return x(function(){return q.floor(65536*(1+q.random()));});}function z(a,b){return x(function(c){return~~(a/3600000)+c+parseInt(b[c%b.length],10);});}function A(a,b,c,e){var d=e?z(e,b):y();d[8]=a;d[2]='\\\\x66';d[4]='\\\\x34';d[6]='\\\\x63';d[7]='\\\\x61';d[21]='\\\\x66';d[23]='\\\\x38';d[24]='\\\\x63';d[26]='\\\\x36';d[28]='\\\\x64';d[30]='\\\\x32';var k=0;b.spli\""
      ]
     },
     "execution_count": 6,
     "metadata": {},
     "output_type": "execute_result"
    }
   ],
   "source": [
    "r.text[:1000]"
   ]
  },
  {
   "cell_type": "code",
   "execution_count": 6,
   "metadata": {},
   "outputs": [],
   "source": [
    "r = requests.get('http://api.openweathermap.org/data/2.5/weather?q=Heidelberg,Germany')"
   ]
  },
  {
   "cell_type": "code",
   "execution_count": 7,
   "metadata": {},
   "outputs": [
    {
     "data": {
      "text/plain": [
       "'{\"cod\":401, \"message\": \"Invalid API key. Please see http://openweathermap.org/faq#error401 for more info.\"}'"
      ]
     },
     "execution_count": 7,
     "metadata": {},
     "output_type": "execute_result"
    }
   ],
   "source": [
    "r.text"
   ]
  },
  {
   "cell_type": "code",
   "execution_count": 8,
   "metadata": {},
   "outputs": [],
   "source": [
    "import json\n",
    "data = json.loads(r.text)"
   ]
  },
  {
   "cell_type": "code",
   "execution_count": 9,
   "metadata": {},
   "outputs": [
    {
     "data": {
      "text/plain": [
       "{'cod': 401,\n",
       " 'message': 'Invalid API key. Please see http://openweathermap.org/faq#error401 for more info.'}"
      ]
     },
     "execution_count": 9,
     "metadata": {},
     "output_type": "execute_result"
    }
   ],
   "source": [
    "data"
   ]
  },
  {
   "cell_type": "markdown",
   "metadata": {},
   "source": [
    "APIs\n",
    "---"
   ]
  },
  {
   "cell_type": "code",
   "execution_count": 11,
   "metadata": {},
   "outputs": [],
   "source": [
    "headers={\"api-key\":\"8a8338834d046c14e6d8c15c24f70dda\"} # 8a833... = key for Uni HD python course"
   ]
  },
  {
   "cell_type": "code",
   "execution_count": 12,
   "metadata": {},
   "outputs": [
    {
     "name": "stdout",
     "output_type": "stream",
     "text": [
      "{\"simulations\":[{\"name\":\"Illustris-1\",\"num_snapshots\":134,\"url\":\"http://www.illustris-project.org/api/Illustris-1/\"},{\"name\":\"Illustris-1-Dark\",\"num_snapshots\":136,\"url\":\"http://www.illustris-project.org/api/Illustris-1-Dark/\"},{\"name\":\"Illustris-2\",\"num_snapshots\":136,\"url\":\"http://www.illustris-project.org/api/Illustris-2/\"},{\"name\":\"Illustris-2-Dark\",\"num_snapshots\":136,\"url\":\"http://www.illust\n"
     ]
    }
   ],
   "source": [
    "import requests\n",
    "r = requests.get('http://www.illustris-project.org/api/', headers=headers)\n",
    "print (r.text[:400])"
   ]
  },
  {
   "cell_type": "code",
   "execution_count": 13,
   "metadata": {},
   "outputs": [],
   "source": [
    "import json\n",
    "data = json.loads(r.text)"
   ]
  },
  {
   "cell_type": "code",
   "execution_count": 14,
   "metadata": {},
   "outputs": [
    {
     "data": {
      "text/plain": [
       "{'simulations': [{'name': 'Illustris-1',\n",
       "   'num_snapshots': 134,\n",
       "   'url': 'http://www.illustris-project.org/api/Illustris-1/'},\n",
       "  {'name': 'Illustris-1-Dark',\n",
       "   'num_snapshots': 136,\n",
       "   'url': 'http://www.illustris-project.org/api/Illustris-1-Dark/'},\n",
       "  {'name': 'Illustris-2',\n",
       "   'num_snapshots': 136,\n",
       "   'url': 'http://www.illustris-project.org/api/Illustris-2/'},\n",
       "  {'name': 'Illustris-2-Dark',\n",
       "   'num_snapshots': 136,\n",
       "   'url': 'http://www.illustris-project.org/api/Illustris-2-Dark/'},\n",
       "  {'name': 'Illustris-3',\n",
       "   'num_snapshots': 136,\n",
       "   'url': 'http://www.illustris-project.org/api/Illustris-3/'},\n",
       "  {'name': 'Illustris-3-Dark',\n",
       "   'num_snapshots': 136,\n",
       "   'url': 'http://www.illustris-project.org/api/Illustris-3-Dark/'},\n",
       "  {'name': 'TNG100-1',\n",
       "   'num_snapshots': 100,\n",
       "   'url': 'http://www.illustris-project.org/api/TNG100-1/'},\n",
       "  {'name': 'TNG100-1-Dark',\n",
       "   'num_snapshots': 100,\n",
       "   'url': 'http://www.illustris-project.org/api/TNG100-1-Dark/'},\n",
       "  {'name': 'TNG100-2',\n",
       "   'num_snapshots': 100,\n",
       "   'url': 'http://www.illustris-project.org/api/TNG100-2/'},\n",
       "  {'name': 'TNG100-2-Dark',\n",
       "   'num_snapshots': 100,\n",
       "   'url': 'http://www.illustris-project.org/api/TNG100-2-Dark/'},\n",
       "  {'name': 'TNG100-3',\n",
       "   'num_snapshots': 100,\n",
       "   'url': 'http://www.illustris-project.org/api/TNG100-3/'},\n",
       "  {'name': 'TNG100-3-Dark',\n",
       "   'num_snapshots': 100,\n",
       "   'url': 'http://www.illustris-project.org/api/TNG100-3-Dark/'},\n",
       "  {'name': 'TNG300-3',\n",
       "   'num_snapshots': 100,\n",
       "   'url': 'http://www.illustris-project.org/api/TNG300-3/'},\n",
       "  {'name': 'TNG300-2-Dark',\n",
       "   'num_snapshots': 100,\n",
       "   'url': 'http://www.illustris-project.org/api/TNG300-2-Dark/'},\n",
       "  {'name': 'TNG300-2',\n",
       "   'num_snapshots': 100,\n",
       "   'url': 'http://www.illustris-project.org/api/TNG300-2/'},\n",
       "  {'name': 'TNG300-1-Dark',\n",
       "   'num_snapshots': 100,\n",
       "   'url': 'http://www.illustris-project.org/api/TNG300-1-Dark/'},\n",
       "  {'name': 'TNG300-1',\n",
       "   'num_snapshots': 100,\n",
       "   'url': 'http://www.illustris-project.org/api/TNG300-1/'},\n",
       "  {'name': 'TNG300-3-Dark',\n",
       "   'num_snapshots': 100,\n",
       "   'url': 'http://www.illustris-project.org/api/TNG300-3-Dark/'},\n",
       "  {'name': 'Illustris-1-Subbox0',\n",
       "   'num_snapshots': 3970,\n",
       "   'url': 'http://www.illustris-project.org/api/Illustris-1-Subbox0/'},\n",
       "  {'name': 'Illustris-1-Subbox1',\n",
       "   'num_snapshots': 3969,\n",
       "   'url': 'http://www.illustris-project.org/api/Illustris-1-Subbox1/'},\n",
       "  {'name': 'Illustris-1-Subbox2',\n",
       "   'num_snapshots': 3972,\n",
       "   'url': 'http://www.illustris-project.org/api/Illustris-1-Subbox2/'},\n",
       "  {'name': 'Illustris-1-Subbox3',\n",
       "   'num_snapshots': 3970,\n",
       "   'url': 'http://www.illustris-project.org/api/Illustris-1-Subbox3/'},\n",
       "  {'name': 'Illustris-2-Subbox0',\n",
       "   'num_snapshots': 2265,\n",
       "   'url': 'http://www.illustris-project.org/api/Illustris-2-Subbox0/'},\n",
       "  {'name': 'Illustris-2-Subbox1',\n",
       "   'num_snapshots': 2265,\n",
       "   'url': 'http://www.illustris-project.org/api/Illustris-2-Subbox1/'},\n",
       "  {'name': 'Illustris-2-Subbox2',\n",
       "   'num_snapshots': 2264,\n",
       "   'url': 'http://www.illustris-project.org/api/Illustris-2-Subbox2/'},\n",
       "  {'name': 'Illustris-2-Subbox3',\n",
       "   'num_snapshots': 2265,\n",
       "   'url': 'http://www.illustris-project.org/api/Illustris-2-Subbox3/'},\n",
       "  {'name': 'Illustris-3-Subbox0',\n",
       "   'num_snapshots': 1426,\n",
       "   'url': 'http://www.illustris-project.org/api/Illustris-3-Subbox0/'},\n",
       "  {'name': 'Illustris-3-Subbox1',\n",
       "   'num_snapshots': 1426,\n",
       "   'url': 'http://www.illustris-project.org/api/Illustris-3-Subbox1/'},\n",
       "  {'name': 'Illustris-3-Subbox2',\n",
       "   'num_snapshots': 1426,\n",
       "   'url': 'http://www.illustris-project.org/api/Illustris-3-Subbox2/'},\n",
       "  {'name': 'Illustris-3-Subbox3',\n",
       "   'num_snapshots': 1426,\n",
       "   'url': 'http://www.illustris-project.org/api/Illustris-3-Subbox3/'},\n",
       "  {'name': 'TNG100-1-Subbox0',\n",
       "   'num_snapshots': 7908,\n",
       "   'url': 'http://www.illustris-project.org/api/TNG100-1-Subbox0/'},\n",
       "  {'name': 'TNG100-1-Subbox1',\n",
       "   'num_snapshots': 7908,\n",
       "   'url': 'http://www.illustris-project.org/api/TNG100-1-Subbox1/'},\n",
       "  {'name': 'TNG100-2-Subbox0',\n",
       "   'num_snapshots': 4380,\n",
       "   'url': 'http://www.illustris-project.org/api/TNG100-2-Subbox0/'},\n",
       "  {'name': 'TNG100-2-Subbox1',\n",
       "   'num_snapshots': 4380,\n",
       "   'url': 'http://www.illustris-project.org/api/TNG100-2-Subbox1/'},\n",
       "  {'name': 'TNG100-3-Subbox0',\n",
       "   'num_snapshots': 2431,\n",
       "   'url': 'http://www.illustris-project.org/api/TNG100-3-Subbox0/'},\n",
       "  {'name': 'TNG100-3-Subbox1',\n",
       "   'num_snapshots': 2431,\n",
       "   'url': 'http://www.illustris-project.org/api/TNG100-3-Subbox1/'},\n",
       "  {'name': 'TNG300-3-Subbox1',\n",
       "   'num_snapshots': 2050,\n",
       "   'url': 'http://www.illustris-project.org/api/TNG300-3-Subbox1/'},\n",
       "  {'name': 'TNG300-3-Subbox2',\n",
       "   'num_snapshots': 2050,\n",
       "   'url': 'http://www.illustris-project.org/api/TNG300-3-Subbox2/'},\n",
       "  {'name': 'TNG300-3-Subbox0',\n",
       "   'num_snapshots': 2050,\n",
       "   'url': 'http://www.illustris-project.org/api/TNG300-3-Subbox0/'},\n",
       "  {'name': 'TNG300-2-Subbox1',\n",
       "   'num_snapshots': 3045,\n",
       "   'url': 'http://www.illustris-project.org/api/TNG300-2-Subbox1/'},\n",
       "  {'name': 'TNG300-2-Subbox2',\n",
       "   'num_snapshots': 3045,\n",
       "   'url': 'http://www.illustris-project.org/api/TNG300-2-Subbox2/'},\n",
       "  {'name': 'TNG300-2-Subbox0',\n",
       "   'num_snapshots': 3045,\n",
       "   'url': 'http://www.illustris-project.org/api/TNG300-2-Subbox0/'},\n",
       "  {'name': 'TNG300-1-Subbox1',\n",
       "   'num_snapshots': 2449,\n",
       "   'url': 'http://www.illustris-project.org/api/TNG300-1-Subbox1/'},\n",
       "  {'name': 'TNG300-1-Subbox2',\n",
       "   'num_snapshots': 2449,\n",
       "   'url': 'http://www.illustris-project.org/api/TNG300-1-Subbox2/'},\n",
       "  {'name': 'TNG300-1-Subbox0',\n",
       "   'num_snapshots': 2449,\n",
       "   'url': 'http://www.illustris-project.org/api/TNG300-1-Subbox0/'}]}"
      ]
     },
     "execution_count": 14,
     "metadata": {},
     "output_type": "execute_result"
    }
   ],
   "source": [
    "data"
   ]
  },
  {
   "cell_type": "markdown",
   "metadata": {},
   "source": [
    "OOP\n",
    "=="
   ]
  },
  {
   "cell_type": "code",
   "execution_count": 23,
   "metadata": {},
   "outputs": [],
   "source": [
    "class Person(object):\n",
    "    def __init__(self,name):\n",
    "        self.name = name\n",
    "    def say_hello(self):\n",
    "        print ('Hello my name is '+self.name)\n",
    "    def say_hello_to(self, other):\n",
    "        print(\"Hello \" + other.name + \", my name is \" + self.name)"
   ]
  },
  {
   "cell_type": "code",
   "execution_count": 18,
   "metadata": {},
   "outputs": [],
   "source": [
    "tom = Person('Tom')"
   ]
  },
  {
   "cell_type": "code",
   "execution_count": 19,
   "metadata": {},
   "outputs": [
    {
     "name": "stdout",
     "output_type": "stream",
     "text": [
      "Hello my name is Tom\n"
     ]
    }
   ],
   "source": [
    "tom.say_hello()"
   ]
  },
  {
   "cell_type": "code",
   "execution_count": 20,
   "metadata": {},
   "outputs": [
    {
     "data": {
      "text/plain": [
       "'Tom'"
      ]
     },
     "execution_count": 20,
     "metadata": {},
     "output_type": "execute_result"
    }
   ],
   "source": [
    "tom.name"
   ]
  },
  {
   "cell_type": "code",
   "execution_count": 22,
   "metadata": {},
   "outputs": [
    {
     "name": "stdout",
     "output_type": "stream",
     "text": [
      "Hello my name is Bob\n",
      "Hello my name is Alice\n"
     ]
    }
   ],
   "source": [
    "bob = Person('Bob')\n",
    "alice = Person('Alice')\n",
    "bob.say_hello()\n",
    "alice.say_hello()"
   ]
  },
  {
   "cell_type": "code",
   "execution_count": 26,
   "metadata": {},
   "outputs": [
    {
     "name": "stdout",
     "output_type": "stream",
     "text": [
      "Hello Bob, my name is Alice\n"
     ]
    }
   ],
   "source": [
    "alice = Person(\"Alice\")\n",
    "bob = Person(\"Bob\")\n",
    "alice.say_hello_to(bob)"
   ]
  },
  {
   "cell_type": "markdown",
   "metadata": {},
   "source": [
    "Inheritance\n",
    "---"
   ]
  },
  {
   "cell_type": "code",
   "execution_count": 29,
   "metadata": {},
   "outputs": [],
   "source": [
    "from scipy.integrate import simps\n",
    "\n",
    "class Scientist(Person):\n",
    "    \n",
    "    def integrate(self, x, y):\n",
    "        return simps(y,x)"
   ]
  },
  {
   "cell_type": "code",
   "execution_count": 30,
   "metadata": {},
   "outputs": [
    {
     "data": {
      "text/plain": [
       "10.0"
      ]
     },
     "execution_count": 30,
     "metadata": {},
     "output_type": "execute_result"
    }
   ],
   "source": [
    "alice = Scientist('Alice')\n",
    "alice.integrate([1,2,3],[4,5,6])"
   ]
  },
  {
   "cell_type": "code",
   "execution_count": 32,
   "metadata": {},
   "outputs": [
    {
     "name": "stdout",
     "output_type": "stream",
     "text": [
      "Hello Bob, my name is Alice\n"
     ]
    }
   ],
   "source": [
    "bob = Person('Bob')\n",
    "alice.say_hello_to(bob)"
   ]
  },
  {
   "cell_type": "code",
   "execution_count": 33,
   "metadata": {},
   "outputs": [
    {
     "name": "stdout",
     "output_type": "stream",
     "text": [
      "Hello Eve, my name is Alice\n"
     ]
    }
   ],
   "source": [
    "eve = Scientist('Eve')\n",
    "alice.say_hello_to(eve)"
   ]
  },
  {
   "cell_type": "markdown",
   "metadata": {},
   "source": [
    "Attributes\n",
    "--"
   ]
  },
  {
   "cell_type": "code",
   "execution_count": 36,
   "metadata": {},
   "outputs": [
    {
     "name": "stdout",
     "output_type": "stream",
     "text": [
      "Hello my name is Tom\n"
     ]
    }
   ],
   "source": [
    "p=Person('Tom')\n",
    "p.say_hello()"
   ]
  },
  {
   "cell_type": "code",
   "execution_count": 37,
   "metadata": {},
   "outputs": [
    {
     "name": "stdout",
     "output_type": "stream",
     "text": [
      "Hello my name is Alice\n"
     ]
    }
   ],
   "source": [
    "p.name = 'Alice'\n",
    "p.say_hello()"
   ]
  },
  {
   "cell_type": "code",
   "execution_count": 40,
   "metadata": {},
   "outputs": [
    {
     "data": {
      "text/plain": [
       "('Alice', 27)"
      ]
     },
     "execution_count": 40,
     "metadata": {},
     "output_type": "execute_result"
    }
   ],
   "source": [
    "p.age = 27\n",
    "p.name, p.age"
   ]
  },
  {
   "cell_type": "markdown",
   "metadata": {},
   "source": [
    "Why use obj\n",
    "--"
   ]
  },
  {
   "cell_type": "code",
   "execution_count": 6,
   "metadata": {},
   "outputs": [],
   "source": [
    "class Point(object):\n",
    "    def __init__(self,x,y,z):\n",
    "        self.x = x\n",
    "        self.y = y\n",
    "        self.z = z        "
   ]
  },
  {
   "cell_type": "code",
   "execution_count": 45,
   "metadata": {},
   "outputs": [
    {
     "data": {
      "text/plain": [
       "1"
      ]
     },
     "execution_count": 45,
     "metadata": {},
     "output_type": "execute_result"
    }
   ],
   "source": [
    "p1 = Point(1,2,3)\n",
    "p1.x"
   ]
  },
  {
   "cell_type": "code",
   "execution_count": 10,
   "metadata": {},
   "outputs": [],
   "source": [
    "import numpy as np\n",
    "def find_separation(p1, p2):\n",
    "    return np.sqrt((p1.x - p2.x)**2 + (p1.y - p2.y)**2 + (p1.z - p2.z)**2)"
   ]
  },
  {
   "cell_type": "code",
   "execution_count": 47,
   "metadata": {},
   "outputs": [],
   "source": [
    "p2 = Point(2,4,6)"
   ]
  },
  {
   "cell_type": "code",
   "execution_count": 48,
   "metadata": {},
   "outputs": [
    {
     "data": {
      "text/plain": [
       "3.7416573867739413"
      ]
     },
     "execution_count": 48,
     "metadata": {},
     "output_type": "execute_result"
    }
   ],
   "source": [
    "find_separation(p1,p2)"
   ]
  },
  {
   "cell_type": "markdown",
   "metadata": {},
   "source": [
    "Exercise\n",
    "=="
   ]
  },
  {
   "cell_type": "code",
   "execution_count": 17,
   "metadata": {},
   "outputs": [],
   "source": [
    "class Particle(object):\n",
    "    \n",
    "    def __init__(self,mass,x,y,z,vx,vy,vz):\n",
    "        self.mass = mass\n",
    "        self.x = x\n",
    "        self.y = y\n",
    "        self.z = z\n",
    "        self.vx = vx\n",
    "        self.vy = vy\n",
    "        self.vz = vz\n",
    "        \n",
    "    def kin_en(self):\n",
    "        return 0.5*self.mass*(self.vx**2+self.vy**2+self.vz**2)**0.5\n",
    "    \n",
    "    def dist(self,p1):\n",
    "            return np.sqrt((p1.x - self.x)**2 + (p1.y - self.y)**2 + (p1.z - self.z)**2)\n",
    "    \n",
    "    def npos(self,dt):\n",
    "        self.x += self.vx*dt\n",
    "        self.y += self.vy*dt\n",
    "        self.z += self.vz*dt\n",
    "    \n",
    "class ChargedParticle(Particle):\n",
    "    \n",
    "    def __init__(self,mass,x,y,z,vx,vy,vz,charge):\n",
    "        Particle.__init__(self,mass,x,y,z,vx,vy,vz)\n",
    "        self.charge = charge"
   ]
  },
  {
   "cell_type": "code",
   "execution_count": 4,
   "metadata": {},
   "outputs": [],
   "source": [
    "p0 = Particle(5,1,2,3,10,11,2)"
   ]
  },
  {
   "cell_type": "code",
   "execution_count": 5,
   "metadata": {},
   "outputs": [
    {
     "data": {
      "text/plain": [
       "37.5"
      ]
     },
     "execution_count": 5,
     "metadata": {},
     "output_type": "execute_result"
    }
   ],
   "source": [
    "p0.kin_en()"
   ]
  },
  {
   "cell_type": "code",
   "execution_count": 11,
   "metadata": {},
   "outputs": [
    {
     "data": {
      "text/plain": [
       "6.928203230275509"
      ]
     },
     "execution_count": 11,
     "metadata": {},
     "output_type": "execute_result"
    }
   ],
   "source": [
    "p1=Point(5,6,7)\n",
    "p0.dist(p1)"
   ]
  },
  {
   "cell_type": "code",
   "execution_count": 13,
   "metadata": {},
   "outputs": [],
   "source": [
    "p0 = ChargedParticle(110)"
   ]
  },
  {
   "cell_type": "code",
   "execution_count": 15,
   "metadata": {},
   "outputs": [
    {
     "data": {
      "text/plain": [
       "110"
      ]
     },
     "execution_count": 15,
     "metadata": {},
     "output_type": "execute_result"
    }
   ],
   "source": [
    "p0.charge"
   ]
  },
  {
   "cell_type": "code",
   "execution_count": 18,
   "metadata": {},
   "outputs": [],
   "source": [
    "p1 = Particle(2., 1., 2., 3., 1., -3., 4.)"
   ]
  },
  {
   "cell_type": "code",
   "execution_count": 19,
   "metadata": {},
   "outputs": [
    {
     "data": {
      "text/plain": [
       "5.0990195135927845"
      ]
     },
     "execution_count": 19,
     "metadata": {},
     "output_type": "execute_result"
    }
   ],
   "source": [
    "p1.kin_en()"
   ]
  },
  {
   "cell_type": "code",
   "execution_count": 20,
   "metadata": {},
   "outputs": [],
   "source": [
    "p1.npos(1.)"
   ]
  },
  {
   "cell_type": "code",
   "execution_count": 24,
   "metadata": {},
   "outputs": [
    {
     "name": "stdout",
     "output_type": "stream",
     "text": [
      "2.0 -1.0 7.0\n"
     ]
    }
   ],
   "source": [
    "print (p1.x,p1.y,p1.z)"
   ]
  },
  {
   "cell_type": "code",
   "execution_count": 28,
   "metadata": {},
   "outputs": [],
   "source": [
    "p1.npos(1.)"
   ]
  },
  {
   "cell_type": "code",
   "execution_count": 29,
   "metadata": {},
   "outputs": [
    {
     "data": {
      "text/plain": [
       "14.798648586948742"
      ]
     },
     "execution_count": 29,
     "metadata": {},
     "output_type": "execute_result"
    }
   ],
   "source": [
    "p2 = ChargedParticle(3., 4., 3., -2., -2., 3., 2., -1.)\n",
    "p1.dist(p2)"
   ]
  }
 ],
 "metadata": {
  "kernelspec": {
   "display_name": "Python 3",
   "language": "python",
   "name": "python3"
  },
  "language_info": {
   "codemirror_mode": {
    "name": "ipython",
    "version": 3
   },
   "file_extension": ".py",
   "mimetype": "text/x-python",
   "name": "python",
   "nbconvert_exporter": "python",
   "pygments_lexer": "ipython3",
   "version": "3.6.9"
  }
 },
 "nbformat": 4,
 "nbformat_minor": 2
}
